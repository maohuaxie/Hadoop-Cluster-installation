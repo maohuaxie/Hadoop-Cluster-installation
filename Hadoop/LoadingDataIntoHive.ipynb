{
 "cells": [
  {
   "cell_type": "markdown",
   "metadata": {},
   "source": [
    "<div style=\"font-size: 200%; font-weight: bold; color: gray; padding-bottom: 20px\">Loading Data into Hive</div>\n",
    "Our Yelp data sets are stored in JSON format. They include nested structures which cannot be directly translated into SQL/Hive tables.\n",
    "\n",
    "In some cases we have to produce multiple tables from a single data set and then join them in queries. Alternatively, we may have to replicate certain values across rows to generate a \"flat\" table. Sometimes *proper database normalization* and a*nalysis tools* are at odds...\n",
    "\n",
    "To learn more about database normalization go to https://en.wikipedia.org/wiki/Database_normalization"
   ]
  },
  {
   "cell_type": "code",
   "execution_count": 52,
   "metadata": {
    "ExecuteTime": {
     "end_time": "2017-01-21T12:20:16.507686",
     "start_time": "2017-01-21T12:20:16.454639"
    },
    "collapsed": false,
    "init_cell": true
   },
   "outputs": [
    {
     "name": "stdout",
     "output_type": "stream",
     "text": [
      "The sql extension is already loaded. To reload it, use:\n",
      "  %reload_ext sql\n"
     ]
    }
   ],
   "source": [
    "import numpy as np\n",
    "import pandas as pd\n",
    "import sqlalchemy as sa\n",
    "%matplotlib inline\n",
    "import matplotlib.pyplot as plt\n",
    "%load_ext sql\n",
    "%config SqlMagic.autolimit=200\n",
    "%config SqlMagic.displaylimit=20"
   ]
  },
  {
   "cell_type": "code",
   "execution_count": 4,
   "metadata": {
    "ExecuteTime": {
     "end_time": "2017-01-21T00:31:52.866756",
     "start_time": "2017-01-21T00:31:52.632800"
    },
    "collapsed": false
   },
   "outputs": [
    {
     "name": "stdout",
     "output_type": "stream",
     "text": [
      "Done.\n"
     ]
    },
    {
     "data": {
      "text/html": [
       "<table>\n",
       "    <tr>\n",
       "        <th>tab_name</th>\n",
       "    </tr>\n",
       "    <tr>\n",
       "        <td>users</td>\n",
       "    </tr>\n",
       "</table>"
      ],
      "text/plain": [
       "[(u'users',)]"
      ]
     },
     "execution_count": 4,
     "metadata": {},
     "output_type": "execute_result"
    }
   ],
   "source": [
    "%%sql hive://backend-0-1:10000/pmolnar\n",
    "SHOW TABLES"
   ]
  },
  {
   "cell_type": "markdown",
   "metadata": {},
   "source": [
    "# 'user' data set\n",
    "\n",
    "The JSON schema"
   ]
  },
  {
   "cell_type": "raw",
   "metadata": {},
   "source": [
    "{\n",
    "    'type': 'user',\n",
    "    'user_id': (encrypted user id),\n",
    "    'name': (first name),\n",
    "    'review_count': (review count),\n",
    "    'average_stars': (floating point average, like 4.31),\n",
    "    'votes': {(vote type): (count)},\n",
    "    'friends': [(friend user_ids)],\n",
    "    'elite': [(years_elite)],\n",
    "    'yelping_since': (date, formatted like '2012-03'),\n",
    "    'compliments': {\n",
    "        (compliment_type): (num_compliments_of_this_type),\n",
    "        ...\n",
    "    },\n",
    "    'fans': (num_fans),\n",
    "}"
   ]
  },
  {
   "cell_type": "markdown",
   "metadata": {},
   "source": [
    "## Normalized tables\n",
    "### Table: **users**\n",
    "\n",
    "|user_id|name|review_count|average_stars|yelping_since|fans|\n",
    "|-------|----|------------|-------------|-------------|----| \n",
    "| x | x |x  | x | x | x |\n",
    "| x | x |x  | x | x | x |\n",
    "| x | x |x  | x | x | x |\n",
    "\n",
    "### Table: **user_votes**\n",
    "\n",
    "|user_id|vote_type|count|\n",
    "|-------|---------|-----|\n",
    "| x| x | x |\n",
    "| x| x | x |\n",
    "| x| x | x |"
   ]
  },
  {
   "cell_type": "markdown",
   "metadata": {},
   "source": [
    "### Table: **user_friends**\n",
    "\n",
    "|user_id|friends_user_id|\n",
    "|-------|---------------|\n",
    "| x |x  |\n",
    "| x |x  |\n",
    "| x |x  |\n",
    "\n",
    "### Table: **user_years_elite**\n",
    "\n",
    "|user_id|year|\n",
    "|-------|----|\n",
    "| x |x  |\n",
    "| x |x  |\n",
    "| x |x  |\n",
    "\n",
    "### Table: **user_complements**\n",
    "\n",
    "|user_id|compliment_type|count|\n",
    "|-------|---------------|-----|\n",
    "| x | x |x |\n",
    "| x | x |x |\n",
    "| x | x |x |"
   ]
  },
  {
   "cell_type": "markdown",
   "metadata": {},
   "source": [
    "we want to create the following HIVE table"
   ]
  },
  {
   "cell_type": "code",
   "execution_count": 19,
   "metadata": {
    "ExecuteTime": {
     "end_time": "2017-01-21T00:42:53.323193",
     "start_time": "2017-01-21T00:42:53.231219"
    },
    "collapsed": false
   },
   "outputs": [
    {
     "name": "stdout",
     "output_type": "stream",
     "text": [
      "Done.\n"
     ]
    },
    {
     "data": {
      "text/plain": [
       "[]"
      ]
     },
     "execution_count": 19,
     "metadata": {},
     "output_type": "execute_result"
    }
   ],
   "source": [
    "%%sql\n",
    "CREATE TABLE IF NOT EXISTS users (\n",
    "    user_id STRING,\n",
    "    name STRING,\n",
    "    review_count INT,\n",
    "    average_stars DOUBLE,\n",
    "    yelping_since,\n",
    "    fans INT\n",
    ") ROW FORMAT DELIMITED FIELDS TERMINATED BY ','"
   ]
  },
  {
   "cell_type": "code",
   "execution_count": 49,
   "metadata": {
    "ExecuteTime": {
     "end_time": "2017-01-21T09:50:52.434152",
     "start_time": "2017-01-21T09:50:50.591831"
    },
    "collapsed": false,
    "scrolled": true
   },
   "outputs": [
    {
     "name": "stdout",
     "output_type": "stream",
     "text": [
      "drwxr-xr-x   - pmolnar hdfs          0 2017-01-21 08:41 /apps/hive/warehouse/pmolnar.db/user_compliments\n",
      "drwxr-xr-x   - pmolnar hdfs          0 2017-01-21 08:41 /apps/hive/warehouse/pmolnar.db/user_friends\n",
      "drwxr-xr-x   - pmolnar hdfs          0 2017-01-21 08:41 /apps/hive/warehouse/pmolnar.db/user_votes\n",
      "drwxr-xr-x   - pmolnar hdfs          0 2017-01-21 08:41 /apps/hive/warehouse/pmolnar.db/user_years_elite\n",
      "drwxr-xr-x   - pmolnar hdfs          0 2017-01-21 08:52 /apps/hive/warehouse/pmolnar.db/users\n",
      "-rwxr-xr-x   3 pmolnar hadoop    3450808 2017-01-21 00:49 /apps/hive/warehouse/pmolnar.db/users/part-00000\n",
      "-rwxr-xr-x   3 pmolnar hadoop    2907271 2017-01-21 08:46 /apps/hive/warehouse/pmolnar.db/users/part-00000_copy_1\n",
      "-rwxr-xr-x   3 pmolnar hadoop   24760070 2017-01-21 08:47 /apps/hive/warehouse/pmolnar.db/users/part-00000_copy_2\n",
      "-rwxr-xr-x   3 pmolnar hadoop    6658543 2017-01-21 08:47 /apps/hive/warehouse/pmolnar.db/users/part-00000_copy_3\n",
      "-rwxr-xr-x   3 pmolnar hadoop     500685 2017-01-21 08:48 /apps/hive/warehouse/pmolnar.db/users/part-00000_copy_4\n"
     ]
    }
   ],
   "source": [
    "%%sh\n",
    "hdfs dfs -ls -R /apps/hive/warehouse/pmolnar.db/"
   ]
  },
  {
   "cell_type": "code",
   "execution_count": 50,
   "metadata": {
    "ExecuteTime": {
     "end_time": "2017-01-21T09:52:19.372602",
     "start_time": "2017-01-21T09:52:17.275027"
    },
    "collapsed": false,
    "scrolled": true
   },
   "outputs": [
    {
     "name": "stdout",
     "output_type": "stream",
     "text": [
      "--qhwKkTzgBeCH3wEJjg2g,2014\t\n",
      "--qhwKkTzgBeCH3wEJjg2g,2015\t\n",
      "--qhwKkTzgBeCH3wEJjg2g,2016\t\n",
      "-0nLkzsZsFiX3nE4UKw5vg,2011\t\n",
      "-0nLkzsZsFiX3nE4UKw5vg,2012\t\n",
      "-1Q1s_NMGjBLBULA8z_npg,2005\t\n",
      "-1Q1s_NMGjBLBULA8z_npg,2006\t\n",
      "-1Q1s_NMGjBLBULA8z_npg,2007\t\n",
      "-1ZSWpyW6Qf5gKeHUOLv6Q,2010\t\n",
      "-1zY3QZ4vS2wdqTfnFLs1Q,2006\t\n"
     ]
    },
    {
     "name": "stderr",
     "output_type": "stream",
     "text": [
      "cat: Unable to write to output stream.\n"
     ]
    }
   ],
   "source": [
    "%%sh\n",
    "hdfs dfs -cat /apps/hive/warehouse/pmolnar.db/users/part-00000_copy_4 | head\n",
    "\n"
   ]
  },
  {
   "cell_type": "code",
   "execution_count": 51,
   "metadata": {
    "ExecuteTime": {
     "end_time": "2017-01-21T09:59:37.729813",
     "start_time": "2017-01-21T09:59:37.641566"
    },
    "collapsed": false
   },
   "outputs": [
    {
     "name": "stdout",
     "output_type": "stream",
     "text": [
      "Done.\n"
     ]
    },
    {
     "data": {
      "text/html": [
       "<table>\n",
       "    <tr>\n",
       "        <th>users.user_id</th>\n",
       "        <th>users.name</th>\n",
       "        <th>users.review_count</th>\n",
       "        <th>users.average_stars</th>\n",
       "        <th>users.yelping_since</th>\n",
       "        <th>users.fans</th>\n",
       "    </tr>\n",
       "    <tr>\n",
       "        <td>--2QZsyXGz1OhiD4-0FQLQ</td>\n",
       "        <td>Kay</td>\n",
       "        <td>7</td>\n",
       "        <td>4.86</td>\n",
       "        <td>2014-04-01</td>\n",
       "        <td>None</td>\n",
       "    </tr>\n",
       "    <tr>\n",
       "        <td>--519Rh5sTtkoUraGzAaKQ</td>\n",
       "        <td>Eric</td>\n",
       "        <td>8</td>\n",
       "        <td>4.5</td>\n",
       "        <td>2014-12-01</td>\n",
       "        <td>None</td>\n",
       "    </tr>\n",
       "    <tr>\n",
       "        <td>--80yFOfe6nZKLhxTMZjEg</td>\n",
       "        <td>Moe</td>\n",
       "        <td>8</td>\n",
       "        <td>4.12</td>\n",
       "        <td>2009-07-01</td>\n",
       "        <td>None</td>\n",
       "    </tr>\n",
       "    <tr>\n",
       "        <td>--K8RaywcHmmFtIXIHKZJg</td>\n",
       "        <td>Susan</td>\n",
       "        <td>1</td>\n",
       "        <td>5.0</td>\n",
       "        <td>2013-04-01</td>\n",
       "        <td>None</td>\n",
       "    </tr>\n",
       "    <tr>\n",
       "        <td>--LzFD0UDbYE-Oho3AhsOg</td>\n",
       "        <td>Shumai</td>\n",
       "        <td>133</td>\n",
       "        <td>3.9</td>\n",
       "        <td>2011-01-01</td>\n",
       "        <td>None</td>\n",
       "    </tr>\n",
       "    <tr>\n",
       "        <td>--MJXewYKgIGpKvtfwBkfg</td>\n",
       "        <td>Jen</td>\n",
       "        <td>1</td>\n",
       "        <td>2.0</td>\n",
       "        <td>2014-04-01</td>\n",
       "        <td>None</td>\n",
       "    </tr>\n",
       "    <tr>\n",
       "        <td>--VxRvXk3b8FwsSbC2Zpxw</td>\n",
       "        <td>B</td>\n",
       "        <td>41</td>\n",
       "        <td>4.44</td>\n",
       "        <td>2010-07-01</td>\n",
       "        <td>None</td>\n",
       "    </tr>\n",
       "    <tr>\n",
       "        <td>--WHJIfhj7M-ntd65kUy7Q</td>\n",
       "        <td>Kadie</td>\n",
       "        <td>13</td>\n",
       "        <td>4.23</td>\n",
       "        <td>2010-07-01</td>\n",
       "        <td>None</td>\n",
       "    </tr>\n",
       "    <tr>\n",
       "        <td>--ZBhtxi8VwI-x9GzCIyxw</td>\n",
       "        <td>Sharon</td>\n",
       "        <td>5</td>\n",
       "        <td>3.0</td>\n",
       "        <td>2012-04-01</td>\n",
       "        <td>None</td>\n",
       "    </tr>\n",
       "    <tr>\n",
       "        <td>--ZNzQbjx8FdCuJAkjl_vA</td>\n",
       "        <td>Anita</td>\n",
       "        <td>2</td>\n",
       "        <td>5.0</td>\n",
       "        <td>2012-07-01</td>\n",
       "        <td>None</td>\n",
       "    </tr>\n",
       "</table>"
      ],
      "text/plain": [
       "[(u'--2QZsyXGz1OhiD4-0FQLQ', u'Kay', 7, 4.86, datetime.date(2014, 4, 1), None),\n",
       " (u'--519Rh5sTtkoUraGzAaKQ', u'Eric', 8, 4.5, datetime.date(2014, 12, 1), None),\n",
       " (u'--80yFOfe6nZKLhxTMZjEg', u'Moe', 8, 4.12, datetime.date(2009, 7, 1), None),\n",
       " (u'--K8RaywcHmmFtIXIHKZJg', u'Susan', 1, 5.0, datetime.date(2013, 4, 1), None),\n",
       " (u'--LzFD0UDbYE-Oho3AhsOg', u'Shumai', 133, 3.9, datetime.date(2011, 1, 1), None),\n",
       " (u'--MJXewYKgIGpKvtfwBkfg', u'Jen', 1, 2.0, datetime.date(2014, 4, 1), None),\n",
       " (u'--VxRvXk3b8FwsSbC2Zpxw', u'B', 41, 4.44, datetime.date(2010, 7, 1), None),\n",
       " (u'--WHJIfhj7M-ntd65kUy7Q', u'Kadie', 13, 4.23, datetime.date(2010, 7, 1), None),\n",
       " (u'--ZBhtxi8VwI-x9GzCIyxw', u'Sharon', 5, 3.0, datetime.date(2012, 4, 1), None),\n",
       " (u'--ZNzQbjx8FdCuJAkjl_vA', u'Anita', 2, 5.0, datetime.date(2012, 7, 1), None)]"
      ]
     },
     "execution_count": 51,
     "metadata": {},
     "output_type": "execute_result"
    }
   ],
   "source": [
    "%%sql\n",
    "SELECT * FROM users LIMIT 10"
   ]
  },
  {
   "cell_type": "markdown",
   "metadata": {},
   "source": [
    "We need to write a MapReduce mapper script that transforms records from the 'user' data set to the above format"
   ]
  },
  {
   "cell_type": "code",
   "execution_count": null,
   "metadata": {
    "ExecuteTime": {
     "end_time": "2017-01-21T00:34:03.705696",
     "start_time": "2017-01-21T00:34:03.698742"
    },
    "collapsed": false
   },
   "outputs": [],
   "source": [
    "# %load users2csv_mpr.py\n",
    "#!/usr/bin/env python\n",
    "\n",
    "import sys\n",
    "import json\n",
    "# input comes from STDIN (standard input)\n",
    "for line in sys.stdin:\n",
    "    try:\n",
    "        r = json.loads(line.strip())\n",
    "        print ','.join([r['user_id'], r['name'], r['review_count'],\n",
    "                        r['average_stars'], r['yelping_since'], r['fans'] ])\n",
    "\n",
    "\n"
   ]
  },
  {
   "cell_type": "markdown",
   "metadata": {},
   "source": [
    "... run MapReduce"
   ]
  },
  {
   "cell_type": "code",
   "execution_count": 53,
   "metadata": {
    "ExecuteTime": {
     "end_time": "2017-01-21T12:40:18.140727",
     "start_time": "2017-01-21T12:39:54.086052"
    },
    "collapsed": false
   },
   "outputs": [
    {
     "name": "stdout",
     "output_type": "stream",
     "text": [
      "Deleted /user/pmolnar/yelp/output/users2csv\n",
      "packageJobJar: [] [/usr/hdp/2.4.2.0-258/hadoop-mapreduce/hadoop-streaming-2.7.1.2.4.2.0-258.jar] /var/lib/ambari-agent/tmp/hadoop_java_io_tmpdir/streamjob2001893774028961093.jar tmpDir=null\n"
     ]
    },
    {
     "name": "stderr",
     "output_type": "stream",
     "text": [
      "17/01/21 12:39:59 INFO impl.TimelineClientImpl: Timeline service address: http://backend-0-2.insight.gsu.edu:8188/ws/v1/timeline/\n",
      "17/01/21 12:39:59 INFO client.RMProxy: Connecting to ResourceManager at backend-0-1.insight.gsu.edu/192.168.1.253:8050\n",
      "17/01/21 12:39:59 INFO impl.TimelineClientImpl: Timeline service address: http://backend-0-2.insight.gsu.edu:8188/ws/v1/timeline/\n",
      "17/01/21 12:39:59 INFO client.RMProxy: Connecting to ResourceManager at backend-0-1.insight.gsu.edu/192.168.1.253:8050\n",
      "17/01/21 12:39:59 INFO mapred.FileInputFormat: Total input paths to process : 1\n",
      "17/01/21 12:39:59 INFO mapreduce.JobSubmitter: number of splits:1\n",
      "17/01/21 12:40:00 INFO mapreduce.JobSubmitter: Submitting tokens for job: job_1484597252711_0167\n",
      "17/01/21 12:40:00 INFO impl.YarnClientImpl: Submitted application application_1484597252711_0167\n",
      "17/01/21 12:40:00 INFO mapreduce.Job: The url to track the job: http://backend-0-1.insight.gsu.edu:8088/proxy/application_1484597252711_0167/\n",
      "17/01/21 12:40:00 INFO mapreduce.Job: Running job: job_1484597252711_0167\n",
      "17/01/21 12:40:05 INFO mapreduce.Job: Job job_1484597252711_0167 running in uber mode : false\n",
      "17/01/21 12:40:05 INFO mapreduce.Job:  map 0% reduce 0%\n",
      "17/01/21 12:40:12 INFO mapreduce.Job:  map 100% reduce 0%\n",
      "17/01/21 12:40:16 INFO mapreduce.Job:  map 100% reduce 100%\n",
      "17/01/21 12:40:17 INFO mapreduce.Job: Job job_1484597252711_0167 completed successfully\n",
      "17/01/21 12:40:17 INFO mapreduce.Job: Counters: 49\n",
      "\tFile System Counters\n",
      "\t\tFILE: Number of bytes read=3587964\n",
      "\t\tFILE: Number of bytes written=7451109\n",
      "\t\tFILE: Number of read operations=0\n",
      "\t\tFILE: Number of large read operations=0\n",
      "\t\tFILE: Number of write operations=0\n",
      "\t\tHDFS: Number of bytes read=12280325\n",
      "\t\tHDFS: Number of bytes written=3450808\n",
      "\t\tHDFS: Number of read operations=6\n",
      "\t\tHDFS: Number of large read operations=0\n",
      "\t\tHDFS: Number of write operations=2\n",
      "\tJob Counters \n",
      "\t\tLaunched map tasks=1\n",
      "\t\tLaunched reduce tasks=1\n",
      "\t\tData-local map tasks=1\n",
      "\t\tTotal time spent by all maps in occupied slots (ms)=4624\n",
      "\t\tTotal time spent by all reduces in occupied slots (ms)=5026\n",
      "\t\tTotal time spent by all map tasks (ms)=4624\n",
      "\t\tTotal time spent by all reduce tasks (ms)=2513\n",
      "\t\tTotal vcore-seconds taken by all map tasks=4624\n",
      "\t\tTotal vcore-seconds taken by all reduce tasks=2513\n",
      "\t\tTotal megabyte-seconds taken by all map tasks=37879808\n",
      "\t\tTotal megabyte-seconds taken by all reduce tasks=41172992\n",
      "\tMap-Reduce Framework\n",
      "\t\tMap input records=68655\n",
      "\t\tMap output records=68575\n",
      "\t\tMap output bytes=3450808\n",
      "\t\tMap output materialized bytes=3587964\n",
      "\t\tInput split bytes=135\n",
      "\t\tCombine input records=0\n",
      "\t\tCombine output records=0\n",
      "\t\tReduce input groups=68575\n",
      "\t\tReduce shuffle bytes=3587964\n",
      "\t\tReduce input records=68575\n",
      "\t\tReduce output records=68575\n",
      "\t\tSpilled Records=137150\n",
      "\t\tShuffled Maps =1\n",
      "\t\tFailed Shuffles=0\n",
      "\t\tMerged Map outputs=1\n",
      "\t\tGC time elapsed (ms)=136\n",
      "\t\tCPU time spent (ms)=5770\n",
      "\t\tPhysical memory (bytes) snapshot=2943705088\n",
      "\t\tVirtual memory (bytes) snapshot=25414037504\n",
      "\t\tTotal committed heap usage (bytes)=3384803328\n",
      "\tShuffle Errors\n",
      "\t\tBAD_ID=0\n",
      "\t\tCONNECTION=0\n",
      "\t\tIO_ERROR=0\n",
      "\t\tWRONG_LENGTH=0\n",
      "\t\tWRONG_MAP=0\n",
      "\t\tWRONG_REDUCE=0\n",
      "\tFile Input Format Counters \n",
      "\t\tBytes Read=12280190\n",
      "\tFile Output Format Counters \n",
      "\t\tBytes Written=3450808\n",
      "17/01/21 12:40:17 INFO streaming.StreamJob: Output directory: /user/pmolnar/yelp/output/users2csv\n"
     ]
    }
   ],
   "source": [
    "%%sh\n",
    "# use the current directory as location for program files\n",
    "WD=`pwd`\n",
    "\n",
    "OUTDIR=/user/$USER/yelp/output\n",
    "OUTPUT=$OUTDIR/users2csv\n",
    "\n",
    "# make sure output directory exists\n",
    "hdfs dfs -mkdir -p $OUTDIR \n",
    "\n",
    "# make sure the output files don't exist\n",
    "hdfs dfs -rm -r -f -skipTrash $OUTPUT\n",
    "\n",
    "INPUT=/user/pmolnar/yelp/data/user/*\n",
    "yarn \\\n",
    "    jar /usr/hdp/2.4.2.0-258/hadoop-mapreduce/hadoop-streaming-2.7.1.2.4.2.0-258.jar \\\n",
    "    -mapper \"$WD/users2csv_mpr.py\" \\\n",
    "    -input $INPUT \\\n",
    "    -output $OUTPUT"
   ]
  },
  {
   "cell_type": "markdown",
   "metadata": {},
   "source": [
    "Now, we can load the output of the mapreduce"
   ]
  },
  {
   "cell_type": "code",
   "execution_count": 23,
   "metadata": {
    "ExecuteTime": {
     "end_time": "2017-01-21T00:49:27.416607",
     "start_time": "2017-01-21T00:49:25.496131"
    },
    "collapsed": false
   },
   "outputs": [
    {
     "name": "stdout",
     "output_type": "stream",
     "text": [
      "Found 2 items\n",
      "-rw-r--r--   3 pmolnar hadoop          0 2017-01-21 00:49 /user/pmolnar/yelp/output/users2csv/_SUCCESS\n",
      "-rw-r--r--   3 pmolnar hadoop    3450808 2017-01-21 00:49 /user/pmolnar/yelp/output/users2csv/part-00000\n"
     ]
    }
   ],
   "source": [
    "%%sh\n",
    "hdfs dfs -ls /user/pmolnar/yelp/output/users2csv"
   ]
  },
  {
   "cell_type": "code",
   "execution_count": 24,
   "metadata": {
    "ExecuteTime": {
     "end_time": "2017-01-21T00:49:32.792786",
     "start_time": "2017-01-21T00:49:32.587225"
    },
    "collapsed": false
   },
   "outputs": [
    {
     "name": "stdout",
     "output_type": "stream",
     "text": [
      "Done.\n"
     ]
    },
    {
     "data": {
      "text/plain": [
       "[]"
      ]
     },
     "execution_count": 24,
     "metadata": {},
     "output_type": "execute_result"
    }
   ],
   "source": [
    "%%sql\n",
    "LOAD DATA INPATH '/user/pmolnar/yelp/output/users2csv/part-*' INTO TABLE users"
   ]
  },
  {
   "cell_type": "markdown",
   "metadata": {},
   "source": [
    "Check it out"
   ]
  },
  {
   "cell_type": "code",
   "execution_count": 25,
   "metadata": {
    "ExecuteTime": {
     "end_time": "2017-01-21T00:49:36.877103",
     "start_time": "2017-01-21T00:49:36.749972"
    },
    "collapsed": false
   },
   "outputs": [
    {
     "name": "stdout",
     "output_type": "stream",
     "text": [
      "Done.\n"
     ]
    },
    {
     "data": {
      "text/html": [
       "<table>\n",
       "    <tr>\n",
       "        <th>users.user_id</th>\n",
       "        <th>users.name</th>\n",
       "        <th>users.review_count</th>\n",
       "        <th>users.average_stars</th>\n",
       "        <th>users.yelping_since</th>\n",
       "        <th>users.fans</th>\n",
       "    </tr>\n",
       "    <tr>\n",
       "        <td>--2QZsyXGz1OhiD4-0FQLQ</td>\n",
       "        <td>Kay</td>\n",
       "        <td>7</td>\n",
       "        <td>4.86</td>\n",
       "        <td>2014-04-01</td>\n",
       "        <td>None</td>\n",
       "    </tr>\n",
       "    <tr>\n",
       "        <td>--519Rh5sTtkoUraGzAaKQ</td>\n",
       "        <td>Eric</td>\n",
       "        <td>8</td>\n",
       "        <td>4.5</td>\n",
       "        <td>2014-12-01</td>\n",
       "        <td>None</td>\n",
       "    </tr>\n",
       "    <tr>\n",
       "        <td>--80yFOfe6nZKLhxTMZjEg</td>\n",
       "        <td>Moe</td>\n",
       "        <td>8</td>\n",
       "        <td>4.12</td>\n",
       "        <td>2009-07-01</td>\n",
       "        <td>None</td>\n",
       "    </tr>\n",
       "    <tr>\n",
       "        <td>--K8RaywcHmmFtIXIHKZJg</td>\n",
       "        <td>Susan</td>\n",
       "        <td>1</td>\n",
       "        <td>5.0</td>\n",
       "        <td>2013-04-01</td>\n",
       "        <td>None</td>\n",
       "    </tr>\n",
       "    <tr>\n",
       "        <td>--LzFD0UDbYE-Oho3AhsOg</td>\n",
       "        <td>Shumai</td>\n",
       "        <td>133</td>\n",
       "        <td>3.9</td>\n",
       "        <td>2011-01-01</td>\n",
       "        <td>None</td>\n",
       "    </tr>\n",
       "    <tr>\n",
       "        <td>--MJXewYKgIGpKvtfwBkfg</td>\n",
       "        <td>Jen</td>\n",
       "        <td>1</td>\n",
       "        <td>2.0</td>\n",
       "        <td>2014-04-01</td>\n",
       "        <td>None</td>\n",
       "    </tr>\n",
       "    <tr>\n",
       "        <td>--VxRvXk3b8FwsSbC2Zpxw</td>\n",
       "        <td>B</td>\n",
       "        <td>41</td>\n",
       "        <td>4.44</td>\n",
       "        <td>2010-07-01</td>\n",
       "        <td>None</td>\n",
       "    </tr>\n",
       "    <tr>\n",
       "        <td>--WHJIfhj7M-ntd65kUy7Q</td>\n",
       "        <td>Kadie</td>\n",
       "        <td>13</td>\n",
       "        <td>4.23</td>\n",
       "        <td>2010-07-01</td>\n",
       "        <td>None</td>\n",
       "    </tr>\n",
       "    <tr>\n",
       "        <td>--ZBhtxi8VwI-x9GzCIyxw</td>\n",
       "        <td>Sharon</td>\n",
       "        <td>5</td>\n",
       "        <td>3.0</td>\n",
       "        <td>2012-04-01</td>\n",
       "        <td>None</td>\n",
       "    </tr>\n",
       "    <tr>\n",
       "        <td>--ZNzQbjx8FdCuJAkjl_vA</td>\n",
       "        <td>Anita</td>\n",
       "        <td>2</td>\n",
       "        <td>5.0</td>\n",
       "        <td>2012-07-01</td>\n",
       "        <td>None</td>\n",
       "    </tr>\n",
       "</table>"
      ],
      "text/plain": [
       "[(u'--2QZsyXGz1OhiD4-0FQLQ', u'Kay', 7, 4.86, datetime.date(2014, 4, 1), None),\n",
       " (u'--519Rh5sTtkoUraGzAaKQ', u'Eric', 8, 4.5, datetime.date(2014, 12, 1), None),\n",
       " (u'--80yFOfe6nZKLhxTMZjEg', u'Moe', 8, 4.12, datetime.date(2009, 7, 1), None),\n",
       " (u'--K8RaywcHmmFtIXIHKZJg', u'Susan', 1, 5.0, datetime.date(2013, 4, 1), None),\n",
       " (u'--LzFD0UDbYE-Oho3AhsOg', u'Shumai', 133, 3.9, datetime.date(2011, 1, 1), None),\n",
       " (u'--MJXewYKgIGpKvtfwBkfg', u'Jen', 1, 2.0, datetime.date(2014, 4, 1), None),\n",
       " (u'--VxRvXk3b8FwsSbC2Zpxw', u'B', 41, 4.44, datetime.date(2010, 7, 1), None),\n",
       " (u'--WHJIfhj7M-ntd65kUy7Q', u'Kadie', 13, 4.23, datetime.date(2010, 7, 1), None),\n",
       " (u'--ZBhtxi8VwI-x9GzCIyxw', u'Sharon', 5, 3.0, datetime.date(2012, 4, 1), None),\n",
       " (u'--ZNzQbjx8FdCuJAkjl_vA', u'Anita', 2, 5.0, datetime.date(2012, 7, 1), None)]"
      ]
     },
     "execution_count": 25,
     "metadata": {},
     "output_type": "execute_result"
    }
   ],
   "source": [
    "%%sql\n",
    "SELECT * FROM pmolnar.users LIMIT 10"
   ]
  },
  {
   "cell_type": "markdown",
   "metadata": {
    "collapsed": true
   },
   "source": [
    "Now, let's create the remaining tables..."
   ]
  },
  {
   "cell_type": "code",
   "execution_count": 27,
   "metadata": {
    "ExecuteTime": {
     "end_time": "2017-01-21T08:41:43.695361",
     "start_time": "2017-01-21T08:41:43.580474"
    },
    "collapsed": false
   },
   "outputs": [
    {
     "name": "stdout",
     "output_type": "stream",
     "text": [
      "Done.\n"
     ]
    },
    {
     "data": {
      "text/plain": [
       "[]"
      ]
     },
     "execution_count": 27,
     "metadata": {},
     "output_type": "execute_result"
    }
   ],
   "source": [
    "%%sql\n",
    "CREATE TABLE IF NOT EXISTS user_votes (\n",
    "    user_id STRING,\n",
    "    vote_type STRING,\n",
    "    count INT\n",
    ") ROW FORMAT DELIMITED FIELDS TERMINATED BY ','"
   ]
  },
  {
   "cell_type": "code",
   "execution_count": 28,
   "metadata": {
    "ExecuteTime": {
     "end_time": "2017-01-21T08:41:46.185496",
     "start_time": "2017-01-21T08:41:46.085522"
    },
    "collapsed": false
   },
   "outputs": [
    {
     "name": "stdout",
     "output_type": "stream",
     "text": [
      "Done.\n"
     ]
    },
    {
     "data": {
      "text/plain": [
       "[]"
      ]
     },
     "execution_count": 28,
     "metadata": {},
     "output_type": "execute_result"
    }
   ],
   "source": [
    "%%sql\n",
    "CREATE TABLE IF NOT EXISTS user_friends (\n",
    "    user_id STRING,\n",
    "    friends_user_id STRING\n",
    ") ROW FORMAT DELIMITED FIELDS TERMINATED BY ','"
   ]
  },
  {
   "cell_type": "code",
   "execution_count": 29,
   "metadata": {
    "ExecuteTime": {
     "end_time": "2017-01-21T08:41:48.961501",
     "start_time": "2017-01-21T08:41:48.886844"
    },
    "collapsed": false
   },
   "outputs": [
    {
     "name": "stdout",
     "output_type": "stream",
     "text": [
      "Done.\n"
     ]
    },
    {
     "data": {
      "text/plain": [
       "[]"
      ]
     },
     "execution_count": 29,
     "metadata": {},
     "output_type": "execute_result"
    }
   ],
   "source": [
    "%%sql\n",
    "CREATE TABLE IF NOT EXISTS user_years_elite (\n",
    "    user_id STRING,\n",
    "    year INT\n",
    ") ROW FORMAT DELIMITED FIELDS TERMINATED BY ','"
   ]
  },
  {
   "cell_type": "code",
   "execution_count": 30,
   "metadata": {
    "ExecuteTime": {
     "end_time": "2017-01-21T08:41:51.560511",
     "start_time": "2017-01-21T08:41:51.476654"
    },
    "collapsed": false
   },
   "outputs": [
    {
     "name": "stdout",
     "output_type": "stream",
     "text": [
      "Done.\n"
     ]
    },
    {
     "data": {
      "text/plain": [
       "[]"
      ]
     },
     "execution_count": 30,
     "metadata": {},
     "output_type": "execute_result"
    }
   ],
   "source": [
    "%%sql\n",
    "CREATE TABLE IF NOT EXISTS user_compliments (\n",
    "    user_id STRING,\n",
    "    compliment_type STRING,\n",
    "    count INT\n",
    ") ROW FORMAT DELIMITED FIELDS TERMINATED BY ','"
   ]
  },
  {
   "cell_type": "markdown",
   "metadata": {},
   "source": [
    "Let's run the MapReduce with the following mappers"
   ]
  },
  {
   "cell_type": "code",
   "execution_count": 31,
   "metadata": {
    "ExecuteTime": {
     "end_time": "2017-01-21T08:43:27.042338",
     "start_time": "2017-01-21T08:43:26.915333"
    },
    "collapsed": false,
    "scrolled": true
   },
   "outputs": [
    {
     "name": "stdout",
     "output_type": "stream",
     "text": [
      "-rwxrwxr-x 1 pmolnar pmolnar 305 Jan 21 00:18 \u001b[0m\u001b[01;32muser_compliments2csv_mpr.py\u001b[0m*\r\n",
      "-rwxrwxr-x 1 pmolnar pmolnar 259 Jan 21 00:11 \u001b[01;32muser_friends2csv_mpr.py\u001b[0m*\r\n",
      "-rwxrwxr-x 1 pmolnar pmolnar 343 Jan 21 00:48 \u001b[01;32musers2csv_mpr.py\u001b[0m*\r\n",
      "-rwxrwxr-x 1 pmolnar pmolnar 293 Jan 21 00:07 \u001b[01;32muser_votes2csv_mpr.py\u001b[0m*\r\n",
      "-rwxrwxr-x 1 pmolnar pmolnar 262 Jan 21 00:15 \u001b[01;32muser_years_elite2csv_mpr.py\u001b[0m*\r\n"
     ]
    }
   ],
   "source": [
    "%ls -l user*2csv_mpr.py"
   ]
  },
  {
   "cell_type": "code",
   "execution_count": null,
   "metadata": {
    "ExecuteTime": {
     "end_time": "2017-01-21T09:45:41.690659",
     "start_time": "2017-01-21T09:45:41.683751"
    },
    "collapsed": true
   },
   "outputs": [],
   "source": [
    "# %load user_compliments2csv_mpr.py\n",
    "#!/usr/bin/env python\n",
    "\n",
    "import sys\n",
    "import json\n",
    "# input comes from STDIN (standard input)\n",
    "for line in sys.stdin:\n",
    "    try:\n",
    "        r = json.loads(line.strip())\n",
    "        for c in r['compliments'].keys():\n",
    "            print ','.join([r['user_id'], c, str(r['compliments'][c])])        \n",
    "    except:\n",
    "        None\n",
    "\n"
   ]
  },
  {
   "cell_type": "code",
   "execution_count": 54,
   "metadata": {
    "ExecuteTime": {
     "end_time": "2017-01-21T12:42:37.270458",
     "start_time": "2017-01-21T12:41:01.159825"
    },
    "collapsed": false
   },
   "outputs": [
    {
     "name": "stdout",
     "output_type": "stream",
     "text": [
      "Creating table 'user_compliments'\n",
      "Deleted /user/pmolnar/yelp/output/user_compliments2csv\n",
      "packageJobJar: [] [/usr/hdp/2.4.2.0-258/hadoop-mapreduce/hadoop-streaming-2.7.1.2.4.2.0-258.jar] /var/lib/ambari-agent/tmp/hadoop_java_io_tmpdir/streamjob3550170667214430559.jar tmpDir=null\n",
      "Creating table 'user_friends'\n",
      "Deleted /user/pmolnar/yelp/output/user_friends2csv\n",
      "packageJobJar: [] [/usr/hdp/2.4.2.0-258/hadoop-mapreduce/hadoop-streaming-2.7.1.2.4.2.0-258.jar] /var/lib/ambari-agent/tmp/hadoop_java_io_tmpdir/streamjob382411696673713235.jar tmpDir=null\n",
      "Creating table 'user_votes'\n",
      "Deleted /user/pmolnar/yelp/output/user_votes2csv\n",
      "packageJobJar: [] [/usr/hdp/2.4.2.0-258/hadoop-mapreduce/hadoop-streaming-2.7.1.2.4.2.0-258.jar] /var/lib/ambari-agent/tmp/hadoop_java_io_tmpdir/streamjob5881628468780169706.jar tmpDir=null\n",
      "Creating table 'user_years_elite'\n",
      "Deleted /user/pmolnar/yelp/output/user_years_elite2csv\n",
      "packageJobJar: [] [/usr/hdp/2.4.2.0-258/hadoop-mapreduce/hadoop-streaming-2.7.1.2.4.2.0-258.jar] /var/lib/ambari-agent/tmp/hadoop_java_io_tmpdir/streamjob6381821302367114762.jar tmpDir=null\n"
     ]
    },
    {
     "name": "stderr",
     "output_type": "stream",
     "text": [
      "17/01/21 12:41:06 INFO impl.TimelineClientImpl: Timeline service address: http://backend-0-2.insight.gsu.edu:8188/ws/v1/timeline/\n",
      "17/01/21 12:41:06 INFO client.RMProxy: Connecting to ResourceManager at backend-0-1.insight.gsu.edu/192.168.1.253:8050\n",
      "17/01/21 12:41:06 INFO impl.TimelineClientImpl: Timeline service address: http://backend-0-2.insight.gsu.edu:8188/ws/v1/timeline/\n",
      "17/01/21 12:41:06 INFO client.RMProxy: Connecting to ResourceManager at backend-0-1.insight.gsu.edu/192.168.1.253:8050\n",
      "17/01/21 12:41:07 INFO mapred.FileInputFormat: Total input paths to process : 1\n",
      "17/01/21 12:41:08 INFO mapreduce.JobSubmitter: number of splits:1\n",
      "17/01/21 12:41:08 INFO mapreduce.JobSubmitter: Submitting tokens for job: job_1484597252711_0168\n",
      "17/01/21 12:41:08 INFO impl.YarnClientImpl: Submitted application application_1484597252711_0168\n",
      "17/01/21 12:41:08 INFO mapreduce.Job: The url to track the job: http://backend-0-1.insight.gsu.edu:8088/proxy/application_1484597252711_0168/\n",
      "17/01/21 12:41:08 INFO mapreduce.Job: Running job: job_1484597252711_0168\n",
      "17/01/21 12:41:13 INFO mapreduce.Job: Job job_1484597252711_0168 running in uber mode : false\n",
      "17/01/21 12:41:13 INFO mapreduce.Job:  map 0% reduce 0%\n",
      "17/01/21 12:41:19 INFO mapreduce.Job:  map 100% reduce 0%\n",
      "17/01/21 12:41:25 INFO mapreduce.Job:  map 100% reduce 100%\n",
      "17/01/21 12:41:25 INFO mapreduce.Job: Job job_1484597252711_0168 completed successfully\n",
      "17/01/21 12:41:26 INFO mapreduce.Job: Counters: 49\n",
      "\tFile System Counters\n",
      "\t\tFILE: Number of bytes read=3089785\n",
      "\t\tFILE: Number of bytes written=6454803\n",
      "\t\tFILE: Number of read operations=0\n",
      "\t\tFILE: Number of large read operations=0\n",
      "\t\tFILE: Number of write operations=0\n",
      "\t\tHDFS: Number of bytes read=12280325\n",
      "\t\tHDFS: Number of bytes written=2907271\n",
      "\t\tHDFS: Number of read operations=6\n",
      "\t\tHDFS: Number of large read operations=0\n",
      "\t\tHDFS: Number of write operations=2\n",
      "\tJob Counters \n",
      "\t\tLaunched map tasks=1\n",
      "\t\tLaunched reduce tasks=1\n",
      "\t\tData-local map tasks=1\n",
      "\t\tTotal time spent by all maps in occupied slots (ms)=4169\n",
      "\t\tTotal time spent by all reduces in occupied slots (ms)=5416\n",
      "\t\tTotal time spent by all map tasks (ms)=4169\n",
      "\t\tTotal time spent by all reduce tasks (ms)=2708\n",
      "\t\tTotal vcore-seconds taken by all map tasks=4169\n",
      "\t\tTotal vcore-seconds taken by all reduce tasks=2708\n",
      "\t\tTotal megabyte-seconds taken by all map tasks=34152448\n",
      "\t\tTotal megabyte-seconds taken by all reduce tasks=44367872\n",
      "\tMap-Reduce Framework\n",
      "\t\tMap input records=68655\n",
      "\t\tMap output records=91254\n",
      "\t\tMap output bytes=2907271\n",
      "\t\tMap output materialized bytes=3089785\n",
      "\t\tInput split bytes=135\n",
      "\t\tCombine input records=0\n",
      "\t\tCombine output records=0\n",
      "\t\tReduce input groups=91254\n",
      "\t\tReduce shuffle bytes=3089785\n",
      "\t\tReduce input records=91254\n",
      "\t\tReduce output records=91254\n",
      "\t\tSpilled Records=182508\n",
      "\t\tShuffled Maps =1\n",
      "\t\tFailed Shuffles=0\n",
      "\t\tMerged Map outputs=1\n",
      "\t\tGC time elapsed (ms)=144\n",
      "\t\tCPU time spent (ms)=5980\n",
      "\t\tPhysical memory (bytes) snapshot=2946031616\n",
      "\t\tVirtual memory (bytes) snapshot=25422106624\n",
      "\t\tTotal committed heap usage (bytes)=3391619072\n",
      "\tShuffle Errors\n",
      "\t\tBAD_ID=0\n",
      "\t\tCONNECTION=0\n",
      "\t\tIO_ERROR=0\n",
      "\t\tWRONG_LENGTH=0\n",
      "\t\tWRONG_MAP=0\n",
      "\t\tWRONG_REDUCE=0\n",
      "\tFile Input Format Counters \n",
      "\t\tBytes Read=12280190\n",
      "\tFile Output Format Counters \n",
      "\t\tBytes Written=2907271\n",
      "17/01/21 12:41:26 INFO streaming.StreamJob: Output directory: /user/pmolnar/yelp/output/user_compliments2csv\n",
      "17/01/21 12:41:30 INFO impl.TimelineClientImpl: Timeline service address: http://backend-0-2.insight.gsu.edu:8188/ws/v1/timeline/\n",
      "17/01/21 12:41:30 INFO client.RMProxy: Connecting to ResourceManager at backend-0-1.insight.gsu.edu/192.168.1.253:8050\n",
      "17/01/21 12:41:30 INFO impl.TimelineClientImpl: Timeline service address: http://backend-0-2.insight.gsu.edu:8188/ws/v1/timeline/\n",
      "17/01/21 12:41:30 INFO client.RMProxy: Connecting to ResourceManager at backend-0-1.insight.gsu.edu/192.168.1.253:8050\n",
      "17/01/21 12:41:30 INFO mapred.FileInputFormat: Total input paths to process : 1\n",
      "17/01/21 12:41:31 INFO mapreduce.JobSubmitter: number of splits:1\n",
      "17/01/21 12:41:31 INFO mapreduce.JobSubmitter: Submitting tokens for job: job_1484597252711_0169\n",
      "17/01/21 12:41:31 INFO impl.YarnClientImpl: Submitted application application_1484597252711_0169\n",
      "17/01/21 12:41:31 INFO mapreduce.Job: The url to track the job: http://backend-0-1.insight.gsu.edu:8088/proxy/application_1484597252711_0169/\n",
      "17/01/21 12:41:31 INFO mapreduce.Job: Running job: job_1484597252711_0169\n",
      "17/01/21 12:41:36 INFO mapreduce.Job: Job job_1484597252711_0169 running in uber mode : false\n",
      "17/01/21 12:41:36 INFO mapreduce.Job:  map 0% reduce 0%\n",
      "17/01/21 12:41:43 INFO mapreduce.Job:  map 100% reduce 0%\n",
      "17/01/21 12:41:50 INFO mapreduce.Job:  map 100% reduce 100%\n",
      "17/01/21 12:41:50 INFO mapreduce.Job: Job job_1484597252711_0169 completed successfully\n",
      "17/01/21 12:41:50 INFO mapreduce.Job: Counters: 49\n",
      "\tFile System Counters\n",
      "\t\tFILE: Number of bytes read=25813696\n",
      "\t\tFILE: Number of bytes written=51902607\n",
      "\t\tFILE: Number of read operations=0\n",
      "\t\tFILE: Number of large read operations=0\n",
      "\t\tFILE: Number of write operations=0\n",
      "\t\tHDFS: Number of bytes read=12280325\n",
      "\t\tHDFS: Number of bytes written=24760070\n",
      "\t\tHDFS: Number of read operations=6\n",
      "\t\tHDFS: Number of large read operations=0\n",
      "\t\tHDFS: Number of write operations=2\n",
      "\tJob Counters \n",
      "\t\tLaunched map tasks=1\n",
      "\t\tLaunched reduce tasks=1\n",
      "\t\tData-local map tasks=1\n",
      "\t\tTotal time spent by all maps in occupied slots (ms)=5524\n",
      "\t\tTotal time spent by all reduces in occupied slots (ms)=7768\n",
      "\t\tTotal time spent by all map tasks (ms)=5524\n",
      "\t\tTotal time spent by all reduce tasks (ms)=3884\n",
      "\t\tTotal vcore-seconds taken by all map tasks=5524\n",
      "\t\tTotal vcore-seconds taken by all reduce tasks=3884\n",
      "\t\tTotal megabyte-seconds taken by all map tasks=45252608\n",
      "\t\tTotal megabyte-seconds taken by all reduce tasks=63635456\n",
      "\tMap-Reduce Framework\n",
      "\t\tMap input records=68655\n",
      "\t\tMap output records=526810\n",
      "\t\tMap output bytes=24760070\n",
      "\t\tMap output materialized bytes=25813696\n",
      "\t\tInput split bytes=135\n",
      "\t\tCombine input records=0\n",
      "\t\tCombine output records=0\n",
      "\t\tReduce input groups=526810\n",
      "\t\tReduce shuffle bytes=25813696\n",
      "\t\tReduce input records=526810\n",
      "\t\tReduce output records=526810\n",
      "\t\tSpilled Records=1053620\n",
      "\t\tShuffled Maps =1\n",
      "\t\tFailed Shuffles=0\n",
      "\t\tMerged Map outputs=1\n",
      "\t\tGC time elapsed (ms)=161\n",
      "\t\tCPU time spent (ms)=8230\n",
      "\t\tPhysical memory (bytes) snapshot=3037990912\n",
      "\t\tVirtual memory (bytes) snapshot=25417379840\n",
      "\t\tTotal committed heap usage (bytes)=3396861952\n",
      "\tShuffle Errors\n",
      "\t\tBAD_ID=0\n",
      "\t\tCONNECTION=0\n",
      "\t\tIO_ERROR=0\n",
      "\t\tWRONG_LENGTH=0\n",
      "\t\tWRONG_MAP=0\n",
      "\t\tWRONG_REDUCE=0\n",
      "\tFile Input Format Counters \n",
      "\t\tBytes Read=12280190\n",
      "\tFile Output Format Counters \n",
      "\t\tBytes Written=24760070\n",
      "17/01/21 12:41:50 INFO streaming.StreamJob: Output directory: /user/pmolnar/yelp/output/user_friends2csv\n",
      "17/01/21 12:41:54 INFO impl.TimelineClientImpl: Timeline service address: http://backend-0-2.insight.gsu.edu:8188/ws/v1/timeline/\n",
      "17/01/21 12:41:54 INFO client.RMProxy: Connecting to ResourceManager at backend-0-1.insight.gsu.edu/192.168.1.253:8050\n",
      "17/01/21 12:41:54 INFO impl.TimelineClientImpl: Timeline service address: http://backend-0-2.insight.gsu.edu:8188/ws/v1/timeline/\n",
      "17/01/21 12:41:54 INFO client.RMProxy: Connecting to ResourceManager at backend-0-1.insight.gsu.edu/192.168.1.253:8050\n",
      "17/01/21 12:41:55 INFO mapred.FileInputFormat: Total input paths to process : 1\n",
      "17/01/21 12:41:55 INFO mapreduce.JobSubmitter: number of splits:1\n",
      "17/01/21 12:41:55 INFO mapreduce.JobSubmitter: Submitting tokens for job: job_1484597252711_0170\n",
      "17/01/21 12:41:56 INFO impl.YarnClientImpl: Submitted application application_1484597252711_0170\n",
      "17/01/21 12:41:56 INFO mapreduce.Job: The url to track the job: http://backend-0-1.insight.gsu.edu:8088/proxy/application_1484597252711_0170/\n",
      "17/01/21 12:41:56 INFO mapreduce.Job: Running job: job_1484597252711_0170\n",
      "17/01/21 12:42:01 INFO mapreduce.Job: Job job_1484597252711_0170 running in uber mode : false\n",
      "17/01/21 12:42:01 INFO mapreduce.Job:  map 0% reduce 0%\n",
      "17/01/21 12:42:08 INFO mapreduce.Job:  map 100% reduce 0%\n",
      "17/01/21 12:42:13 INFO mapreduce.Job:  map 100% reduce 100%\n",
      "17/01/21 12:42:14 INFO mapreduce.Job: Job job_1484597252711_0170 completed successfully\n",
      "17/01/21 12:42:14 INFO mapreduce.Job: Counters: 49\n",
      "\tFile System Counters\n",
      "\t\tFILE: Number of bytes read=7070479\n",
      "\t\tFILE: Number of bytes written=14416159\n",
      "\t\tFILE: Number of read operations=0\n",
      "\t\tFILE: Number of large read operations=0\n",
      "\t\tFILE: Number of write operations=0\n",
      "\t\tHDFS: Number of bytes read=12280325\n",
      "\t\tHDFS: Number of bytes written=6658543\n",
      "\t\tHDFS: Number of read operations=6\n",
      "\t\tHDFS: Number of large read operations=0\n",
      "\t\tHDFS: Number of write operations=2\n",
      "\tJob Counters \n",
      "\t\tLaunched map tasks=1\n",
      "\t\tLaunched reduce tasks=1\n",
      "\t\tData-local map tasks=1\n",
      "\t\tTotal time spent by all maps in occupied slots (ms)=4864\n",
      "\t\tTotal time spent by all reduces in occupied slots (ms)=5400\n",
      "\t\tTotal time spent by all map tasks (ms)=4864\n",
      "\t\tTotal time spent by all reduce tasks (ms)=2700\n",
      "\t\tTotal vcore-seconds taken by all map tasks=4864\n",
      "\t\tTotal vcore-seconds taken by all reduce tasks=2700\n",
      "\t\tTotal megabyte-seconds taken by all map tasks=39845888\n",
      "\t\tTotal megabyte-seconds taken by all reduce tasks=44236800\n",
      "\tMap-Reduce Framework\n",
      "\t\tMap input records=68655\n",
      "\t\tMap output records=205965\n",
      "\t\tMap output bytes=6658543\n",
      "\t\tMap output materialized bytes=7070479\n",
      "\t\tInput split bytes=135\n",
      "\t\tCombine input records=0\n",
      "\t\tCombine output records=0\n",
      "\t\tReduce input groups=205965\n",
      "\t\tReduce shuffle bytes=7070479\n",
      "\t\tReduce input records=205965\n",
      "\t\tReduce output records=205965\n",
      "\t\tSpilled Records=411930\n",
      "\t\tShuffled Maps =1\n",
      "\t\tFailed Shuffles=0\n",
      "\t\tMerged Map outputs=1\n",
      "\t\tGC time elapsed (ms)=149\n",
      "\t\tCPU time spent (ms)=6390\n",
      "\t\tPhysical memory (bytes) snapshot=2966024192\n",
      "\t\tVirtual memory (bytes) snapshot=25413328896\n",
      "\t\tTotal committed heap usage (bytes)=3376414720\n",
      "\tShuffle Errors\n",
      "\t\tBAD_ID=0\n",
      "\t\tCONNECTION=0\n",
      "\t\tIO_ERROR=0\n",
      "\t\tWRONG_LENGTH=0\n",
      "\t\tWRONG_MAP=0\n",
      "\t\tWRONG_REDUCE=0\n",
      "\tFile Input Format Counters \n",
      "\t\tBytes Read=12280190\n",
      "\tFile Output Format Counters \n",
      "\t\tBytes Written=6658543\n",
      "17/01/21 12:42:14 INFO streaming.StreamJob: Output directory: /user/pmolnar/yelp/output/user_votes2csv\n",
      "17/01/21 12:42:18 INFO impl.TimelineClientImpl: Timeline service address: http://backend-0-2.insight.gsu.edu:8188/ws/v1/timeline/\n",
      "17/01/21 12:42:18 INFO client.RMProxy: Connecting to ResourceManager at backend-0-1.insight.gsu.edu/192.168.1.253:8050\n",
      "17/01/21 12:42:18 INFO impl.TimelineClientImpl: Timeline service address: http://backend-0-2.insight.gsu.edu:8188/ws/v1/timeline/\n",
      "17/01/21 12:42:18 INFO client.RMProxy: Connecting to ResourceManager at backend-0-1.insight.gsu.edu/192.168.1.253:8050\n",
      "17/01/21 12:42:18 INFO mapred.FileInputFormat: Total input paths to process : 1\n",
      "17/01/21 12:42:19 INFO mapreduce.JobSubmitter: number of splits:1\n",
      "17/01/21 12:42:19 INFO mapreduce.JobSubmitter: Submitting tokens for job: job_1484597252711_0171\n",
      "17/01/21 12:42:19 INFO impl.YarnClientImpl: Submitted application application_1484597252711_0171\n",
      "17/01/21 12:42:19 INFO mapreduce.Job: The url to track the job: http://backend-0-1.insight.gsu.edu:8088/proxy/application_1484597252711_0171/\n",
      "17/01/21 12:42:19 INFO mapreduce.Job: Running job: job_1484597252711_0171\n",
      "17/01/21 12:42:24 INFO mapreduce.Job: Job job_1484597252711_0171 running in uber mode : false\n",
      "17/01/21 12:42:24 INFO mapreduce.Job:  map 0% reduce 0%\n",
      "17/01/21 12:42:30 INFO mapreduce.Job:  map 100% reduce 0%\n",
      "17/01/21 12:42:36 INFO mapreduce.Job:  map 100% reduce 100%\n",
      "17/01/21 12:42:36 INFO mapreduce.Job: Job job_1484597252711_0171 completed successfully\n",
      "17/01/21 12:42:36 INFO mapreduce.Job: Counters: 49\n",
      "\tFile System Counters\n",
      "\t\tFILE: Number of bytes read=535221\n",
      "\t\tFILE: Number of bytes written=1345667\n",
      "\t\tFILE: Number of read operations=0\n",
      "\t\tFILE: Number of large read operations=0\n",
      "\t\tFILE: Number of write operations=0\n",
      "\t\tHDFS: Number of bytes read=12280325\n",
      "\t\tHDFS: Number of bytes written=500685\n",
      "\t\tHDFS: Number of read operations=6\n",
      "\t\tHDFS: Number of large read operations=0\n",
      "\t\tHDFS: Number of write operations=2\n",
      "\tJob Counters \n",
      "\t\tLaunched map tasks=1\n",
      "\t\tLaunched reduce tasks=1\n",
      "\t\tData-local map tasks=1\n",
      "\t\tTotal time spent by all maps in occupied slots (ms)=4189\n",
      "\t\tTotal time spent by all reduces in occupied slots (ms)=5970\n",
      "\t\tTotal time spent by all map tasks (ms)=4189\n",
      "\t\tTotal time spent by all reduce tasks (ms)=2985\n",
      "\t\tTotal vcore-seconds taken by all map tasks=4189\n",
      "\t\tTotal vcore-seconds taken by all reduce tasks=2985\n",
      "\t\tTotal megabyte-seconds taken by all map tasks=34316288\n",
      "\t\tTotal megabyte-seconds taken by all reduce tasks=48906240\n",
      "\tMap-Reduce Framework\n",
      "\t\tMap input records=68655\n",
      "\t\tMap output records=17265\n",
      "\t\tMap output bytes=500685\n",
      "\t\tMap output materialized bytes=535221\n",
      "\t\tInput split bytes=135\n",
      "\t\tCombine input records=0\n",
      "\t\tCombine output records=0\n",
      "\t\tReduce input groups=17265\n",
      "\t\tReduce shuffle bytes=535221\n",
      "\t\tReduce input records=17265\n",
      "\t\tReduce output records=17265\n",
      "\t\tSpilled Records=34530\n",
      "\t\tShuffled Maps =1\n",
      "\t\tFailed Shuffles=0\n",
      "\t\tMerged Map outputs=1\n",
      "\t\tGC time elapsed (ms)=132\n",
      "\t\tCPU time spent (ms)=7260\n",
      "\t\tPhysical memory (bytes) snapshot=1401298944\n",
      "\t\tVirtual memory (bytes) snapshot=25423777792\n",
      "\t\tTotal committed heap usage (bytes)=3207593984\n",
      "\tShuffle Errors\n",
      "\t\tBAD_ID=0\n",
      "\t\tCONNECTION=0\n",
      "\t\tIO_ERROR=0\n",
      "\t\tWRONG_LENGTH=0\n",
      "\t\tWRONG_MAP=0\n",
      "\t\tWRONG_REDUCE=0\n",
      "\tFile Input Format Counters \n",
      "\t\tBytes Read=12280190\n",
      "\tFile Output Format Counters \n",
      "\t\tBytes Written=500685\n",
      "17/01/21 12:42:36 INFO streaming.StreamJob: Output directory: /user/pmolnar/yelp/output/user_years_elite2csv\n"
     ]
    }
   ],
   "source": [
    "%%sh\n",
    "# use the current directory as location for program files\n",
    "WD=`pwd`\n",
    "\n",
    "OUTDIR=/user/$USER/yelp/output\n",
    "OUTPUT=$OUTDIR/users2csv\n",
    "\n",
    "# make sure output directory exists\n",
    "hdfs dfs -mkdir -p $OUTDIR \n",
    "\n",
    "for TAB in user_compliments user_friends user_votes user_years_elite; do\n",
    "    echo \"Creating table '$TAB'\"\n",
    "    \n",
    "    OUTPUT=$OUTDIR/${TAB}2csv\n",
    "    # make sure the output files don't exist\n",
    "    hdfs dfs -rm -r -f -skipTrash $OUTPUT\n",
    "\n",
    "    INPUT=/user/pmolnar/yelp/data/user/*\n",
    "    yarn \\\n",
    "        jar /usr/hdp/2.4.2.0-258/hadoop-mapreduce/hadoop-streaming-2.7.1.2.4.2.0-258.jar \\\n",
    "        -mapper \"$WD/${TAB}2csv_mpr.py\" \\\n",
    "        -input $INPUT \\\n",
    "        -output $OUTPUT\n",
    "done"
   ]
  },
  {
   "cell_type": "code",
   "execution_count": 45,
   "metadata": {
    "ExecuteTime": {
     "end_time": "2017-01-21T09:06:42.303441",
     "start_time": "2017-01-21T09:06:40.416099"
    },
    "collapsed": false
   },
   "outputs": [
    {
     "name": "stdout",
     "output_type": "stream",
     "text": [
      "drwxr-xr-x   - pmolnar hadoop          0 2017-01-15 14:35 /user/pmolnar/yelp/output/business_by_city\n",
      "-rw-r--r--   3 pmolnar hadoop          0 2017-01-15 14:35 /user/pmolnar/yelp/output/business_by_city/_SUCCESS\n",
      "-rw-r--r--   3 pmolnar hadoop      10636 2017-01-15 14:35 /user/pmolnar/yelp/output/business_by_city/part-00000\n",
      "drwxr-xr-x   - pmolnar hadoop          0 2017-01-15 21:22 /user/pmolnar/yelp/output/checkin_by_city\n",
      "-rw-r--r--   3 pmolnar hadoop          0 2017-01-15 21:22 /user/pmolnar/yelp/output/checkin_by_city/_SUCCESS\n",
      "-rw-r--r--   3 pmolnar hadoop     413406 2017-01-15 21:22 /user/pmolnar/yelp/output/checkin_by_city/part-00000\n",
      "drwxr-xr-x   - pmolnar hadoop          0 2017-01-15 21:21 /user/pmolnar/yelp/output/checkin_join\n",
      "-rw-r--r--   3 pmolnar hadoop          0 2017-01-15 21:21 /user/pmolnar/yelp/output/checkin_join/_SUCCESS\n",
      "-rw-r--r--   3 pmolnar hadoop   89505143 2017-01-15 21:21 /user/pmolnar/yelp/output/checkin_join/part-00000\n",
      "drwxr-xr-x   - pmolnar hadoop          0 2017-01-21 00:28 /user/pmolnar/yelp/output/user2csv\n",
      "drwxr-xr-x   - pmolnar hadoop          0 2017-01-21 08:52 /user/pmolnar/yelp/output/user_compliments2csv\n",
      "-rw-r--r--   3 pmolnar hadoop          0 2017-01-21 08:46 /user/pmolnar/yelp/output/user_compliments2csv/_SUCCESS\n",
      "drwxr-xr-x   - pmolnar hadoop          0 2017-01-21 08:52 /user/pmolnar/yelp/output/user_friends2csv\n",
      "-rw-r--r--   3 pmolnar hadoop          0 2017-01-21 08:47 /user/pmolnar/yelp/output/user_friends2csv/_SUCCESS\n",
      "drwxr-xr-x   - pmolnar hadoop          0 2017-01-21 08:52 /user/pmolnar/yelp/output/user_votes2csv\n",
      "-rw-r--r--   3 pmolnar hadoop          0 2017-01-21 08:47 /user/pmolnar/yelp/output/user_votes2csv/_SUCCESS\n",
      "drwxr-xr-x   - pmolnar hadoop          0 2017-01-21 08:52 /user/pmolnar/yelp/output/user_years_elite2csv\n",
      "-rw-r--r--   3 pmolnar hadoop          0 2017-01-21 08:48 /user/pmolnar/yelp/output/user_years_elite2csv/_SUCCESS\n",
      "drwxr-xr-x   - pmolnar hadoop          0 2017-01-21 00:49 /user/pmolnar/yelp/output/users2csv\n",
      "-rw-r--r--   3 pmolnar hadoop          0 2017-01-21 00:49 /user/pmolnar/yelp/output/users2csv/_SUCCESS\n"
     ]
    }
   ],
   "source": [
    "%%sh\n",
    "hdfs dfs -ls -R /user/pmolnar/yelp/output/"
   ]
  },
  {
   "cell_type": "code",
   "execution_count": null,
   "metadata": {
    "collapsed": true
   },
   "outputs": [],
   "source": []
  },
  {
   "cell_type": "code",
   "execution_count": null,
   "metadata": {
    "collapsed": true
   },
   "outputs": [],
   "source": []
  },
  {
   "cell_type": "markdown",
   "metadata": {},
   "source": [
    "...and load into Hive"
   ]
  },
  {
   "cell_type": "code",
   "execution_count": null,
   "metadata": {
    "collapsed": true
   },
   "outputs": [],
   "source": []
  },
  {
   "cell_type": "code",
   "execution_count": null,
   "metadata": {
    "collapsed": true
   },
   "outputs": [],
   "source": []
  },
  {
   "cell_type": "code",
   "execution_count": 42,
   "metadata": {
    "ExecuteTime": {
     "end_time": "2017-01-21T09:05:15.130762",
     "start_time": "2017-01-21T09:05:15.121687"
    },
    "collapsed": true
   },
   "outputs": [],
   "source": [
    "conn = sa.create_engine('hive://backend-0-1:10000/pmolnar')"
   ]
  },
  {
   "cell_type": "code",
   "execution_count": 55,
   "metadata": {
    "ExecuteTime": {
     "end_time": "2017-01-21T12:44:49.380769",
     "start_time": "2017-01-21T12:44:49.370429"
    },
    "collapsed": false,
    "scrolled": false
   },
   "outputs": [
    {
     "name": "stdout",
     "output_type": "stream",
     "text": [
      "LOAD DATA INPATH '/user/pmolnar/yelp/output/user_compliments2csv/part-*' INTO TABLE pmolnar.user_compliments\n",
      "LOAD DATA INPATH '/user/pmolnar/yelp/output/user_friends2csv/part-*' INTO TABLE pmolnar.user_friends\n",
      "LOAD DATA INPATH '/user/pmolnar/yelp/output/user_votes2csv/part-*' INTO TABLE pmolnar.user_votes\n",
      "LOAD DATA INPATH '/user/pmolnar/yelp/output/user_years_elite2csv/part-*' INTO TABLE pmolnar.user_years_elite\n"
     ]
    }
   ],
   "source": [
    "for TAB in ['user_compliments', 'user_friends', 'user_votes', 'user_years_elite']:\n",
    "    q = \"LOAD DATA INPATH '/user/pmolnar/yelp/output/%s2csv/part-*' INTO TABLE pmolnar.%s\"%(TAB, TAB)\n",
    "    print q\n",
    "    #res = conn.execute(q)\n",
    "    #print '\\n'.join(res)"
   ]
  },
  {
   "cell_type": "code",
   "execution_count": 57,
   "metadata": {
    "ExecuteTime": {
     "end_time": "2017-01-21T12:46:08.256605",
     "start_time": "2017-01-21T12:46:08.084579"
    },
    "collapsed": false
   },
   "outputs": [
    {
     "name": "stdout",
     "output_type": "stream",
     "text": [
      "<sqlalchemy.engine.result.ResultProxy object at 0x5e69690>\n"
     ]
    }
   ],
   "source": [
    "r = conn.execute(q)\n",
    "print str(r)"
   ]
  },
  {
   "cell_type": "code",
   "execution_count": 59,
   "metadata": {
    "ExecuteTime": {
     "end_time": "2017-01-21T12:48:11.544844",
     "start_time": "2017-01-21T12:48:11.453086"
    },
    "collapsed": false
   },
   "outputs": [
    {
     "name": "stdout",
     "output_type": "stream",
     "text": [
      "Done.\n"
     ]
    },
    {
     "data": {
      "text/html": [
       "<table>\n",
       "    <tr>\n",
       "        <th>user_years_elite.user_id</th>\n",
       "        <th>user_years_elite.year</th>\n",
       "    </tr>\n",
       "    <tr>\n",
       "        <td>--qhwKkTzgBeCH3wEJjg2g</td>\n",
       "        <td>None</td>\n",
       "    </tr>\n",
       "    <tr>\n",
       "        <td>--qhwKkTzgBeCH3wEJjg2g</td>\n",
       "        <td>None</td>\n",
       "    </tr>\n",
       "    <tr>\n",
       "        <td>--qhwKkTzgBeCH3wEJjg2g</td>\n",
       "        <td>None</td>\n",
       "    </tr>\n",
       "    <tr>\n",
       "        <td>-0nLkzsZsFiX3nE4UKw5vg</td>\n",
       "        <td>None</td>\n",
       "    </tr>\n",
       "    <tr>\n",
       "        <td>-0nLkzsZsFiX3nE4UKw5vg</td>\n",
       "        <td>None</td>\n",
       "    </tr>\n",
       "    <tr>\n",
       "        <td>-1Q1s_NMGjBLBULA8z_npg</td>\n",
       "        <td>None</td>\n",
       "    </tr>\n",
       "    <tr>\n",
       "        <td>-1Q1s_NMGjBLBULA8z_npg</td>\n",
       "        <td>None</td>\n",
       "    </tr>\n",
       "    <tr>\n",
       "        <td>-1Q1s_NMGjBLBULA8z_npg</td>\n",
       "        <td>None</td>\n",
       "    </tr>\n",
       "    <tr>\n",
       "        <td>-1ZSWpyW6Qf5gKeHUOLv6Q</td>\n",
       "        <td>None</td>\n",
       "    </tr>\n",
       "    <tr>\n",
       "        <td>-1zY3QZ4vS2wdqTfnFLs1Q</td>\n",
       "        <td>None</td>\n",
       "    </tr>\n",
       "    <tr>\n",
       "        <td>-1zY3QZ4vS2wdqTfnFLs1Q</td>\n",
       "        <td>None</td>\n",
       "    </tr>\n",
       "    <tr>\n",
       "        <td>-1zY3QZ4vS2wdqTfnFLs1Q</td>\n",
       "        <td>None</td>\n",
       "    </tr>\n",
       "    <tr>\n",
       "        <td>-1zY3QZ4vS2wdqTfnFLs1Q</td>\n",
       "        <td>None</td>\n",
       "    </tr>\n",
       "    <tr>\n",
       "        <td>-1zY3QZ4vS2wdqTfnFLs1Q</td>\n",
       "        <td>None</td>\n",
       "    </tr>\n",
       "    <tr>\n",
       "        <td>-1zY3QZ4vS2wdqTfnFLs1Q</td>\n",
       "        <td>None</td>\n",
       "    </tr>\n",
       "    <tr>\n",
       "        <td>-1zY3QZ4vS2wdqTfnFLs1Q</td>\n",
       "        <td>None</td>\n",
       "    </tr>\n",
       "    <tr>\n",
       "        <td>-1zY3QZ4vS2wdqTfnFLs1Q</td>\n",
       "        <td>None</td>\n",
       "    </tr>\n",
       "    <tr>\n",
       "        <td>-1zY3QZ4vS2wdqTfnFLs1Q</td>\n",
       "        <td>None</td>\n",
       "    </tr>\n",
       "    <tr>\n",
       "        <td>-1zY3QZ4vS2wdqTfnFLs1Q</td>\n",
       "        <td>None</td>\n",
       "    </tr>\n",
       "    <tr>\n",
       "        <td>-1zY3QZ4vS2wdqTfnFLs1Q</td>\n",
       "        <td>None</td>\n",
       "    </tr>\n",
       "</table>"
      ],
      "text/plain": [
       "[(u'--qhwKkTzgBeCH3wEJjg2g', None),\n",
       " (u'--qhwKkTzgBeCH3wEJjg2g', None),\n",
       " (u'--qhwKkTzgBeCH3wEJjg2g', None),\n",
       " (u'-0nLkzsZsFiX3nE4UKw5vg', None),\n",
       " (u'-0nLkzsZsFiX3nE4UKw5vg', None),\n",
       " (u'-1Q1s_NMGjBLBULA8z_npg', None),\n",
       " (u'-1Q1s_NMGjBLBULA8z_npg', None),\n",
       " (u'-1Q1s_NMGjBLBULA8z_npg', None),\n",
       " (u'-1ZSWpyW6Qf5gKeHUOLv6Q', None),\n",
       " (u'-1zY3QZ4vS2wdqTfnFLs1Q', None),\n",
       " (u'-1zY3QZ4vS2wdqTfnFLs1Q', None),\n",
       " (u'-1zY3QZ4vS2wdqTfnFLs1Q', None),\n",
       " (u'-1zY3QZ4vS2wdqTfnFLs1Q', None),\n",
       " (u'-1zY3QZ4vS2wdqTfnFLs1Q', None),\n",
       " (u'-1zY3QZ4vS2wdqTfnFLs1Q', None),\n",
       " (u'-1zY3QZ4vS2wdqTfnFLs1Q', None),\n",
       " (u'-1zY3QZ4vS2wdqTfnFLs1Q', None),\n",
       " (u'-1zY3QZ4vS2wdqTfnFLs1Q', None),\n",
       " (u'-1zY3QZ4vS2wdqTfnFLs1Q', None),\n",
       " (u'-1zY3QZ4vS2wdqTfnFLs1Q', None)]"
      ]
     },
     "execution_count": 59,
     "metadata": {},
     "output_type": "execute_result"
    }
   ],
   "source": [
    "%%sql\n",
    "SELECT * FROM user_years_elite LIMIT 20"
   ]
  },
  {
   "cell_type": "code",
   "execution_count": 60,
   "metadata": {
    "ExecuteTime": {
     "end_time": "2017-01-21T12:49:23.502369",
     "start_time": "2017-01-21T12:49:22.980005"
    },
    "collapsed": false
   },
   "outputs": [
    {
     "name": "stdout",
     "output_type": "stream",
     "text": [
      "LOAD DATA INPATH '/user/pmolnar/yelp/output/user_compliments2csv/part-*' INTO TABLE pmolnar.user_compliments\n",
      "LOAD DATA INPATH '/user/pmolnar/yelp/output/user_friends2csv/part-*' INTO TABLE pmolnar.user_friends\n",
      "LOAD DATA INPATH '/user/pmolnar/yelp/output/user_votes2csv/part-*' INTO TABLE pmolnar.user_votes\n"
     ]
    }
   ],
   "source": [
    "for TAB in ['user_compliments', 'user_friends', 'user_votes']:\n",
    "    q = \"LOAD DATA INPATH '/user/pmolnar/yelp/output/%s2csv/part-*' INTO TABLE pmolnar.%s\"%(TAB, TAB)\n",
    "    print q\n",
    "    conn.execute(q)\n",
    "    #print '\\n'.join(res)"
   ]
  },
  {
   "cell_type": "code",
   "execution_count": null,
   "metadata": {
    "collapsed": true
   },
   "outputs": [],
   "source": []
  },
  {
   "cell_type": "code",
   "execution_count": 65,
   "metadata": {
    "ExecuteTime": {
     "end_time": "2017-01-21T12:50:05.530988",
     "start_time": "2017-01-21T12:50:05.370233"
    },
    "collapsed": false
   },
   "outputs": [
    {
     "name": "stdout",
     "output_type": "stream",
     "text": [
      "Done.\n"
     ]
    },
    {
     "data": {
      "text/html": [
       "<table>\n",
       "    <tr>\n",
       "        <th>user_votes.user_id</th>\n",
       "        <th>user_votes.vote_type</th>\n",
       "        <th>user_votes.count</th>\n",
       "    </tr>\n",
       "    <tr>\n",
       "        <td>--2QZsyXGz1OhiD4-0FQLQ</td>\n",
       "        <td>cool</td>\n",
       "        <td>None</td>\n",
       "    </tr>\n",
       "    <tr>\n",
       "        <td>--2QZsyXGz1OhiD4-0FQLQ</td>\n",
       "        <td>funny</td>\n",
       "        <td>None</td>\n",
       "    </tr>\n",
       "    <tr>\n",
       "        <td>--2QZsyXGz1OhiD4-0FQLQ</td>\n",
       "        <td>useful</td>\n",
       "        <td>None</td>\n",
       "    </tr>\n",
       "    <tr>\n",
       "        <td>--519Rh5sTtkoUraGzAaKQ</td>\n",
       "        <td>cool</td>\n",
       "        <td>None</td>\n",
       "    </tr>\n",
       "    <tr>\n",
       "        <td>--519Rh5sTtkoUraGzAaKQ</td>\n",
       "        <td>funny</td>\n",
       "        <td>None</td>\n",
       "    </tr>\n",
       "    <tr>\n",
       "        <td>--519Rh5sTtkoUraGzAaKQ</td>\n",
       "        <td>useful</td>\n",
       "        <td>None</td>\n",
       "    </tr>\n",
       "    <tr>\n",
       "        <td>--80yFOfe6nZKLhxTMZjEg</td>\n",
       "        <td>cool</td>\n",
       "        <td>None</td>\n",
       "    </tr>\n",
       "    <tr>\n",
       "        <td>--80yFOfe6nZKLhxTMZjEg</td>\n",
       "        <td>funny</td>\n",
       "        <td>None</td>\n",
       "    </tr>\n",
       "    <tr>\n",
       "        <td>--80yFOfe6nZKLhxTMZjEg</td>\n",
       "        <td>useful</td>\n",
       "        <td>None</td>\n",
       "    </tr>\n",
       "    <tr>\n",
       "        <td>--K8RaywcHmmFtIXIHKZJg</td>\n",
       "        <td>cool</td>\n",
       "        <td>None</td>\n",
       "    </tr>\n",
       "    <tr>\n",
       "        <td>--K8RaywcHmmFtIXIHKZJg</td>\n",
       "        <td>funny</td>\n",
       "        <td>None</td>\n",
       "    </tr>\n",
       "    <tr>\n",
       "        <td>--K8RaywcHmmFtIXIHKZJg</td>\n",
       "        <td>useful</td>\n",
       "        <td>None</td>\n",
       "    </tr>\n",
       "    <tr>\n",
       "        <td>--LzFD0UDbYE-Oho3AhsOg</td>\n",
       "        <td>cool</td>\n",
       "        <td>None</td>\n",
       "    </tr>\n",
       "    <tr>\n",
       "        <td>--LzFD0UDbYE-Oho3AhsOg</td>\n",
       "        <td>funny</td>\n",
       "        <td>None</td>\n",
       "    </tr>\n",
       "    <tr>\n",
       "        <td>--LzFD0UDbYE-Oho3AhsOg</td>\n",
       "        <td>useful</td>\n",
       "        <td>None</td>\n",
       "    </tr>\n",
       "    <tr>\n",
       "        <td>--MJXewYKgIGpKvtfwBkfg</td>\n",
       "        <td>cool</td>\n",
       "        <td>None</td>\n",
       "    </tr>\n",
       "    <tr>\n",
       "        <td>--MJXewYKgIGpKvtfwBkfg</td>\n",
       "        <td>funny</td>\n",
       "        <td>None</td>\n",
       "    </tr>\n",
       "    <tr>\n",
       "        <td>--MJXewYKgIGpKvtfwBkfg</td>\n",
       "        <td>useful</td>\n",
       "        <td>None</td>\n",
       "    </tr>\n",
       "    <tr>\n",
       "        <td>--VxRvXk3b8FwsSbC2Zpxw</td>\n",
       "        <td>cool</td>\n",
       "        <td>None</td>\n",
       "    </tr>\n",
       "    <tr>\n",
       "        <td>--VxRvXk3b8FwsSbC2Zpxw</td>\n",
       "        <td>funny</td>\n",
       "        <td>None</td>\n",
       "    </tr>\n",
       "</table>\n",
       "<span style=\"font-style:italic;text-align:center;\">200 rows, truncated to displaylimit of 20</span>"
      ],
      "text/plain": [
       "[(u'--2QZsyXGz1OhiD4-0FQLQ', u'cool', None),\n",
       " (u'--2QZsyXGz1OhiD4-0FQLQ', u'funny', None),\n",
       " (u'--2QZsyXGz1OhiD4-0FQLQ', u'useful', None),\n",
       " (u'--519Rh5sTtkoUraGzAaKQ', u'cool', None),\n",
       " (u'--519Rh5sTtkoUraGzAaKQ', u'funny', None),\n",
       " (u'--519Rh5sTtkoUraGzAaKQ', u'useful', None),\n",
       " (u'--80yFOfe6nZKLhxTMZjEg', u'cool', None),\n",
       " (u'--80yFOfe6nZKLhxTMZjEg', u'funny', None),\n",
       " (u'--80yFOfe6nZKLhxTMZjEg', u'useful', None),\n",
       " (u'--K8RaywcHmmFtIXIHKZJg', u'cool', None),\n",
       " (u'--K8RaywcHmmFtIXIHKZJg', u'funny', None),\n",
       " (u'--K8RaywcHmmFtIXIHKZJg', u'useful', None),\n",
       " (u'--LzFD0UDbYE-Oho3AhsOg', u'cool', None),\n",
       " (u'--LzFD0UDbYE-Oho3AhsOg', u'funny', None),\n",
       " (u'--LzFD0UDbYE-Oho3AhsOg', u'useful', None),\n",
       " (u'--MJXewYKgIGpKvtfwBkfg', u'cool', None),\n",
       " (u'--MJXewYKgIGpKvtfwBkfg', u'funny', None),\n",
       " (u'--MJXewYKgIGpKvtfwBkfg', u'useful', None),\n",
       " (u'--VxRvXk3b8FwsSbC2Zpxw', u'cool', None),\n",
       " (u'--VxRvXk3b8FwsSbC2Zpxw', u'funny', None),\n",
       " (u'--VxRvXk3b8FwsSbC2Zpxw', u'useful', None),\n",
       " (u'--WHJIfhj7M-ntd65kUy7Q', u'cool', None),\n",
       " (u'--WHJIfhj7M-ntd65kUy7Q', u'funny', None),\n",
       " (u'--WHJIfhj7M-ntd65kUy7Q', u'useful', None),\n",
       " (u'--ZBhtxi8VwI-x9GzCIyxw', u'cool', None),\n",
       " (u'--ZBhtxi8VwI-x9GzCIyxw', u'funny', None),\n",
       " (u'--ZBhtxi8VwI-x9GzCIyxw', u'useful', None),\n",
       " (u'--ZNzQbjx8FdCuJAkjl_vA', u'cool', None),\n",
       " (u'--ZNzQbjx8FdCuJAkjl_vA', u'funny', None),\n",
       " (u'--ZNzQbjx8FdCuJAkjl_vA', u'useful', None),\n",
       " (u'--aCmrpFC8UAm456cc12rw', u'cool', None),\n",
       " (u'--aCmrpFC8UAm456cc12rw', u'funny', None),\n",
       " (u'--aCmrpFC8UAm456cc12rw', u'useful', None),\n",
       " (u'--aRast0uc07BiKdGxHbeg', u'cool', None),\n",
       " (u'--aRast0uc07BiKdGxHbeg', u'funny', None),\n",
       " (u'--aRast0uc07BiKdGxHbeg', u'useful', None),\n",
       " (u'--dzI9JuRov0LC3NTjYYbw', u'cool', None),\n",
       " (u'--dzI9JuRov0LC3NTjYYbw', u'funny', None),\n",
       " (u'--dzI9JuRov0LC3NTjYYbw', u'useful', None),\n",
       " (u'--elhU0cEIvwkOi15vzqaA', u'cool', None),\n",
       " (u'--elhU0cEIvwkOi15vzqaA', u'funny', None),\n",
       " (u'--elhU0cEIvwkOi15vzqaA', u'useful', None),\n",
       " (u'--fN86OCqj2kSoicGDyZYg', u'cool', None),\n",
       " (u'--fN86OCqj2kSoicGDyZYg', u'funny', None),\n",
       " (u'--fN86OCqj2kSoicGDyZYg', u'useful', None),\n",
       " (u'--isy1CEMa8Slyw_i0uzhQ', u'cool', None),\n",
       " (u'--isy1CEMa8Slyw_i0uzhQ', u'funny', None),\n",
       " (u'--isy1CEMa8Slyw_i0uzhQ', u'useful', None),\n",
       " (u'--mTKHyhU4d6d2RCqpNhlQ', u'cool', None),\n",
       " (u'--mTKHyhU4d6d2RCqpNhlQ', u'funny', None),\n",
       " (u'--mTKHyhU4d6d2RCqpNhlQ', u'useful', None),\n",
       " (u'--qhwKkTzgBeCH3wEJjg2g', u'cool', None),\n",
       " (u'--qhwKkTzgBeCH3wEJjg2g', u'funny', None),\n",
       " (u'--qhwKkTzgBeCH3wEJjg2g', u'useful', None),\n",
       " (u'--rNal_ecvXAHZ7kLDBRZA', u'cool', None),\n",
       " (u'--rNal_ecvXAHZ7kLDBRZA', u'funny', None),\n",
       " (u'--rNal_ecvXAHZ7kLDBRZA', u'useful', None),\n",
       " (u'-03vvla3SZGX_DOusubxWQ', u'cool', None),\n",
       " (u'-03vvla3SZGX_DOusubxWQ', u'funny', None),\n",
       " (u'-03vvla3SZGX_DOusubxWQ', u'useful', None),\n",
       " (u'-05qCUBkGZfbY3k1-kPlXA', u'cool', None),\n",
       " (u'-05qCUBkGZfbY3k1-kPlXA', u'funny', None),\n",
       " (u'-05qCUBkGZfbY3k1-kPlXA', u'useful', None),\n",
       " (u'-06WMZYaiCD8QQfCRqaeww', u'cool', None),\n",
       " (u'-06WMZYaiCD8QQfCRqaeww', u'funny', None),\n",
       " (u'-06WMZYaiCD8QQfCRqaeww', u'useful', None),\n",
       " (u'-07-WpDp1RqAtdRKfTIGxA', u'cool', None),\n",
       " (u'-07-WpDp1RqAtdRKfTIGxA', u'funny', None),\n",
       " (u'-07-WpDp1RqAtdRKfTIGxA', u'useful', None),\n",
       " (u'-0Eh8XxmfOAYGtHvCT6rWg', u'cool', None),\n",
       " (u'-0Eh8XxmfOAYGtHvCT6rWg', u'funny', None),\n",
       " (u'-0Eh8XxmfOAYGtHvCT6rWg', u'useful', None),\n",
       " (u'-0WhhrPDAo5E5QohMhv-Lg', u'cool', None),\n",
       " (u'-0WhhrPDAo5E5QohMhv-Lg', u'funny', None),\n",
       " (u'-0WhhrPDAo5E5QohMhv-Lg', u'useful', None),\n",
       " (u'-0XSm2-OftJWM9_MSK0j2g', u'cool', None),\n",
       " (u'-0XSm2-OftJWM9_MSK0j2g', u'funny', None),\n",
       " (u'-0XSm2-OftJWM9_MSK0j2g', u'useful', None),\n",
       " (u'-0Z9czGOMYe5I9KV26ghgQ', u'cool', None),\n",
       " (u'-0Z9czGOMYe5I9KV26ghgQ', u'funny', None),\n",
       " (u'-0Z9czGOMYe5I9KV26ghgQ', u'useful', None),\n",
       " (u'-0ZkR9TssoNs5A4GIA13-g', u'cool', None),\n",
       " (u'-0ZkR9TssoNs5A4GIA13-g', u'funny', None),\n",
       " (u'-0ZkR9TssoNs5A4GIA13-g', u'useful', None),\n",
       " (u'-0d8SWC-VbLz-eiTLP8gNQ', u'cool', None),\n",
       " (u'-0d8SWC-VbLz-eiTLP8gNQ', u'funny', None),\n",
       " (u'-0d8SWC-VbLz-eiTLP8gNQ', u'useful', None),\n",
       " (u'-0kHrendKsJ0vKg582lC2g', u'cool', None),\n",
       " (u'-0kHrendKsJ0vKg582lC2g', u'funny', None),\n",
       " (u'-0kHrendKsJ0vKg582lC2g', u'useful', None),\n",
       " (u'-0m1syFkZ8cQpRhWV64MNg', u'cool', None),\n",
       " (u'-0m1syFkZ8cQpRhWV64MNg', u'funny', None),\n",
       " (u'-0m1syFkZ8cQpRhWV64MNg', u'useful', None),\n",
       " (u'-0nLkzsZsFiX3nE4UKw5vg', u'cool', None),\n",
       " (u'-0nLkzsZsFiX3nE4UKw5vg', u'funny', None),\n",
       " (u'-0nLkzsZsFiX3nE4UKw5vg', u'useful', None),\n",
       " (u'-0oOVcY7spgkv9n4VnYMbA', u'cool', None),\n",
       " (u'-0oOVcY7spgkv9n4VnYMbA', u'funny', None),\n",
       " (u'-0oOVcY7spgkv9n4VnYMbA', u'useful', None),\n",
       " (u'-0p7UrjssdF5FvDKl5y6RA', u'cool', None),\n",
       " (u'-0p7UrjssdF5FvDKl5y6RA', u'funny', None),\n",
       " (u'-0p7UrjssdF5FvDKl5y6RA', u'useful', None),\n",
       " (u'-0qK_1F_e6id80TnKLGc8A', u'cool', None),\n",
       " (u'-0qK_1F_e6id80TnKLGc8A', u'funny', None),\n",
       " (u'-0qK_1F_e6id80TnKLGc8A', u'useful', None),\n",
       " (u'-0t6A5EL5CCX1EFu5VxPTg', u'cool', None),\n",
       " (u'-0t6A5EL5CCX1EFu5VxPTg', u'funny', None),\n",
       " (u'-0t6A5EL5CCX1EFu5VxPTg', u'useful', None),\n",
       " (u'-0wsidAn_jzU8iLI_EvpMw', u'cool', None),\n",
       " (u'-0wsidAn_jzU8iLI_EvpMw', u'funny', None),\n",
       " (u'-0wsidAn_jzU8iLI_EvpMw', u'useful', None),\n",
       " (u'-0zxY6WjbQadhVf_OZpLeQ', u'cool', None),\n",
       " (u'-0zxY6WjbQadhVf_OZpLeQ', u'funny', None),\n",
       " (u'-0zxY6WjbQadhVf_OZpLeQ', u'useful', None),\n",
       " (u'-10Vt3IEiMj-g1NyCebZrA', u'cool', None),\n",
       " (u'-10Vt3IEiMj-g1NyCebZrA', u'funny', None),\n",
       " (u'-10Vt3IEiMj-g1NyCebZrA', u'useful', None),\n",
       " (u'-11rZ6onKMV1u0IH65zQ2A', u'cool', None),\n",
       " (u'-11rZ6onKMV1u0IH65zQ2A', u'funny', None),\n",
       " (u'-11rZ6onKMV1u0IH65zQ2A', u'useful', None),\n",
       " (u'-16SRxvd8HXSG9SCWsGOxw', u'cool', None),\n",
       " (u'-16SRxvd8HXSG9SCWsGOxw', u'funny', None),\n",
       " (u'-16SRxvd8HXSG9SCWsGOxw', u'useful', None),\n",
       " (u'-19Qk621l6HoWPFsNFVvnQ', u'cool', None),\n",
       " (u'-19Qk621l6HoWPFsNFVvnQ', u'funny', None),\n",
       " (u'-19Qk621l6HoWPFsNFVvnQ', u'useful', None),\n",
       " (u'-1ATv7vgYi6kgaH1s9TvfQ', u'cool', None),\n",
       " (u'-1ATv7vgYi6kgaH1s9TvfQ', u'funny', None),\n",
       " (u'-1ATv7vgYi6kgaH1s9TvfQ', u'useful', None),\n",
       " (u'-1Eoh6ffF9t61AEzif84QA', u'cool', None),\n",
       " (u'-1Eoh6ffF9t61AEzif84QA', u'funny', None),\n",
       " (u'-1Eoh6ffF9t61AEzif84QA', u'useful', None),\n",
       " (u'-1F7KZxq3Lib1CKLlybC5Q', u'cool', None),\n",
       " (u'-1F7KZxq3Lib1CKLlybC5Q', u'funny', None),\n",
       " (u'-1F7KZxq3Lib1CKLlybC5Q', u'useful', None),\n",
       " (u'-1MutDkczJ6aFeJq9rxvkA', u'cool', None),\n",
       " (u'-1MutDkczJ6aFeJq9rxvkA', u'funny', None),\n",
       " (u'-1MutDkczJ6aFeJq9rxvkA', u'useful', None),\n",
       " (u'-1Q1s_NMGjBLBULA8z_npg', u'cool', None),\n",
       " (u'-1Q1s_NMGjBLBULA8z_npg', u'funny', None),\n",
       " (u'-1Q1s_NMGjBLBULA8z_npg', u'useful', None),\n",
       " (u'-1QUejK-IpAEkoG1sznFGw', u'cool', None),\n",
       " (u'-1QUejK-IpAEkoG1sznFGw', u'funny', None),\n",
       " (u'-1QUejK-IpAEkoG1sznFGw', u'useful', None),\n",
       " (u'-1RahgnHNjJ2X30v1hFfdQ', u'cool', None),\n",
       " (u'-1RahgnHNjJ2X30v1hFfdQ', u'funny', None),\n",
       " (u'-1RahgnHNjJ2X30v1hFfdQ', u'useful', None),\n",
       " (u'-1SajTV_aAyHR0kqfXdtDw', u'cool', None),\n",
       " (u'-1SajTV_aAyHR0kqfXdtDw', u'funny', None),\n",
       " (u'-1SajTV_aAyHR0kqfXdtDw', u'useful', None),\n",
       " (u'-1ZSWpyW6Qf5gKeHUOLv6Q', u'cool', None),\n",
       " (u'-1ZSWpyW6Qf5gKeHUOLv6Q', u'funny', None),\n",
       " (u'-1ZSWpyW6Qf5gKeHUOLv6Q', u'useful', None),\n",
       " (u'-1hkhrLM1bIG5RJl3skpCw', u'cool', None),\n",
       " (u'-1hkhrLM1bIG5RJl3skpCw', u'funny', None),\n",
       " (u'-1hkhrLM1bIG5RJl3skpCw', u'useful', None),\n",
       " (u'-1iOCz3PUwMcorodiUaPFA', u'cool', None),\n",
       " (u'-1iOCz3PUwMcorodiUaPFA', u'funny', None),\n",
       " (u'-1iOCz3PUwMcorodiUaPFA', u'useful', None),\n",
       " (u'-1vSvHZJ4SmN05pGxz46sA', u'cool', None),\n",
       " (u'-1vSvHZJ4SmN05pGxz46sA', u'funny', None),\n",
       " (u'-1vSvHZJ4SmN05pGxz46sA', u'useful', None),\n",
       " (u'-1zY3QZ4vS2wdqTfnFLs1Q', u'cool', None),\n",
       " (u'-1zY3QZ4vS2wdqTfnFLs1Q', u'funny', None),\n",
       " (u'-1zY3QZ4vS2wdqTfnFLs1Q', u'useful', None),\n",
       " (u'-20flWHuZb9lCcbWeJ6xEA', u'cool', None),\n",
       " (u'-20flWHuZb9lCcbWeJ6xEA', u'funny', None),\n",
       " (u'-20flWHuZb9lCcbWeJ6xEA', u'useful', None),\n",
       " (u'-22GbNMyhIUUHg93d0vwPg', u'cool', None),\n",
       " (u'-22GbNMyhIUUHg93d0vwPg', u'funny', None),\n",
       " (u'-22GbNMyhIUUHg93d0vwPg', u'useful', None),\n",
       " (u'-26pp-vkT7xWviSZFbrnLA', u'cool', None),\n",
       " (u'-26pp-vkT7xWviSZFbrnLA', u'funny', None),\n",
       " (u'-26pp-vkT7xWviSZFbrnLA', u'useful', None),\n",
       " (u'-2ACp971-GzrSHLpnUnKuQ', u'cool', None),\n",
       " (u'-2ACp971-GzrSHLpnUnKuQ', u'funny', None),\n",
       " (u'-2ACp971-GzrSHLpnUnKuQ', u'useful', None),\n",
       " (u'-2Be-3ceNndWD6PmQOLG6Q', u'cool', None),\n",
       " (u'-2Be-3ceNndWD6PmQOLG6Q', u'funny', None),\n",
       " (u'-2Be-3ceNndWD6PmQOLG6Q', u'useful', None),\n",
       " (u'-2CQ0wedTsIQ3TvcC7NOuQ', u'cool', None),\n",
       " (u'-2CQ0wedTsIQ3TvcC7NOuQ', u'funny', None),\n",
       " (u'-2CQ0wedTsIQ3TvcC7NOuQ', u'useful', None),\n",
       " (u'-2EmOQ3tf-n7T_Fnd3jrgg', u'cool', None),\n",
       " (u'-2EmOQ3tf-n7T_Fnd3jrgg', u'funny', None),\n",
       " (u'-2EmOQ3tf-n7T_Fnd3jrgg', u'useful', None),\n",
       " (u'-2LOUJm-UYeAtrfWaQumUw', u'cool', None),\n",
       " (u'-2LOUJm-UYeAtrfWaQumUw', u'funny', None),\n",
       " (u'-2LOUJm-UYeAtrfWaQumUw', u'useful', None),\n",
       " (u'-2QpfZaS_mymFUhHo65d2Q', u'cool', None),\n",
       " (u'-2QpfZaS_mymFUhHo65d2Q', u'funny', None),\n",
       " (u'-2QpfZaS_mymFUhHo65d2Q', u'useful', None),\n",
       " (u'-2R3cXWjDLro6k7WMOking', u'cool', None),\n",
       " (u'-2R3cXWjDLro6k7WMOking', u'funny', None),\n",
       " (u'-2R3cXWjDLro6k7WMOking', u'useful', None),\n",
       " (u'-2RVxn8RRN3j9bOiqGkjug', u'cool', None),\n",
       " (u'-2RVxn8RRN3j9bOiqGkjug', u'funny', None),\n",
       " (u'-2RVxn8RRN3j9bOiqGkjug', u'useful', None),\n",
       " (u'-2U6oaI8EHiSWdHOa9qeQA', u'cool', None),\n",
       " (u'-2U6oaI8EHiSWdHOa9qeQA', u'funny', None)]"
      ]
     },
     "execution_count": 65,
     "metadata": {},
     "output_type": "execute_result"
    }
   ],
   "source": [
    "%%sql\n",
    "SELECT * FROM pmolnar.user_votes"
   ]
  },
  {
   "cell_type": "code",
   "execution_count": 68,
   "metadata": {
    "ExecuteTime": {
     "end_time": "2017-01-21T12:52:40.288251",
     "start_time": "2017-01-21T12:52:40.251085"
    },
    "collapsed": false
   },
   "outputs": [
    {
     "name": "stdout",
     "output_type": "stream",
     "text": [
      "Done.\n"
     ]
    },
    {
     "data": {
      "text/html": [
       "<table>\n",
       "    <tr>\n",
       "        <th>tab_name</th>\n",
       "    </tr>\n",
       "    <tr>\n",
       "        <td>user_compliments</td>\n",
       "    </tr>\n",
       "    <tr>\n",
       "        <td>user_friends</td>\n",
       "    </tr>\n",
       "    <tr>\n",
       "        <td>user_votes</td>\n",
       "    </tr>\n",
       "    <tr>\n",
       "        <td>user_years_elite</td>\n",
       "    </tr>\n",
       "    <tr>\n",
       "        <td>users</td>\n",
       "    </tr>\n",
       "</table>"
      ],
      "text/plain": [
       "[(u'user_compliments',),\n",
       " (u'user_friends',),\n",
       " (u'user_votes',),\n",
       " (u'user_years_elite',),\n",
       " (u'users',)]"
      ]
     },
     "execution_count": 68,
     "metadata": {},
     "output_type": "execute_result"
    }
   ],
   "source": [
    "%%sql\n",
    "SHOW TABLES"
   ]
  },
  {
   "cell_type": "code",
   "execution_count": 69,
   "metadata": {
    "ExecuteTime": {
     "end_time": "2017-01-21T12:53:01.091124",
     "start_time": "2017-01-21T12:53:01.005613"
    },
    "collapsed": false
   },
   "outputs": [
    {
     "name": "stdout",
     "output_type": "stream",
     "text": [
      "Done.\n"
     ]
    },
    {
     "data": {
      "text/plain": [
       "[]"
      ]
     },
     "execution_count": 69,
     "metadata": {},
     "output_type": "execute_result"
    }
   ],
   "source": [
    "%%sql\n",
    "USE yelp"
   ]
  },
  {
   "cell_type": "code",
   "execution_count": 70,
   "metadata": {
    "ExecuteTime": {
     "end_time": "2017-01-21T12:53:10.103172",
     "start_time": "2017-01-21T12:53:10.065700"
    },
    "collapsed": false,
    "scrolled": true
   },
   "outputs": [
    {
     "name": "stdout",
     "output_type": "stream",
     "text": [
      "Done.\n"
     ]
    },
    {
     "data": {
      "text/html": [
       "<table>\n",
       "    <tr>\n",
       "        <th>tab_name</th>\n",
       "    </tr>\n",
       "    <tr>\n",
       "        <td>review</td>\n",
       "    </tr>\n",
       "    <tr>\n",
       "        <td>tip</td>\n",
       "    </tr>\n",
       "</table>"
      ],
      "text/plain": [
       "[(u'review',), (u'tip',)]"
      ]
     },
     "execution_count": 70,
     "metadata": {},
     "output_type": "execute_result"
    }
   ],
   "source": [
    "%%sql\n",
    "SHOW TABLES"
   ]
  },
  {
   "cell_type": "code",
   "execution_count": 77,
   "metadata": {
    "ExecuteTime": {
     "end_time": "2017-01-21T13:00:03.594127",
     "start_time": "2017-01-21T13:00:03.556996"
    },
    "collapsed": false
   },
   "outputs": [
    {
     "name": "stdout",
     "output_type": "stream",
     "text": [
      "Done.\n"
     ]
    },
    {
     "data": {
      "text/plain": [
       "[]"
      ]
     },
     "execution_count": 77,
     "metadata": {},
     "output_type": "execute_result"
    }
   ],
   "source": [
    "%%sql\n",
    "USE yelp"
   ]
  },
  {
   "cell_type": "code",
   "execution_count": 78,
   "metadata": {
    "ExecuteTime": {
     "end_time": "2017-01-21T13:00:15.314301",
     "start_time": "2017-01-21T13:00:15.276043"
    },
    "collapsed": false
   },
   "outputs": [
    {
     "name": "stdout",
     "output_type": "stream",
     "text": [
      "Done.\n"
     ]
    },
    {
     "data": {
      "text/html": [
       "<table>\n",
       "    <tr>\n",
       "        <th>tab_name</th>\n",
       "    </tr>\n",
       "    <tr>\n",
       "        <td>review</td>\n",
       "    </tr>\n",
       "    <tr>\n",
       "        <td>tip</td>\n",
       "    </tr>\n",
       "</table>"
      ],
      "text/plain": [
       "[(u'review',), (u'tip',)]"
      ]
     },
     "execution_count": 78,
     "metadata": {},
     "output_type": "execute_result"
    }
   ],
   "source": [
    "%%sql\n",
    "show tables"
   ]
  },
  {
   "cell_type": "code",
   "execution_count": 79,
   "metadata": {
    "ExecuteTime": {
     "end_time": "2017-01-21T13:00:32.024650",
     "start_time": "2017-01-21T13:00:31.863546"
    },
    "collapsed": false
   },
   "outputs": [
    {
     "name": "stdout",
     "output_type": "stream",
     "text": [
      "Done.\n"
     ]
    },
    {
     "data": {
      "text/plain": [
       "[]"
      ]
     },
     "execution_count": 79,
     "metadata": {},
     "output_type": "execute_result"
    }
   ],
   "source": [
    "%%sql\n",
    "\n",
    "CREATE TABLE IF NOT EXISTS users (\n",
    "    user_id STRING,\n",
    "    name STRING,\n",
    "    review_count INT,\n",
    "    average_stars DOUBLE,\n",
    "    yelping_since DATE,\n",
    "    fans INT\n",
    ")"
   ]
  },
  {
   "cell_type": "code",
   "execution_count": 80,
   "metadata": {
    "ExecuteTime": {
     "end_time": "2017-01-21T13:00:49.320493",
     "start_time": "2017-01-21T13:00:39.359163"
    },
    "collapsed": false
   },
   "outputs": [
    {
     "name": "stdout",
     "output_type": "stream",
     "text": [
      "Done.\n"
     ]
    },
    {
     "data": {
      "text/plain": [
       "[]"
      ]
     },
     "execution_count": 80,
     "metadata": {},
     "output_type": "execute_result"
    }
   ],
   "source": [
    "%%sql\n",
    "INSERT OVERWRITE TABLE yelp.users\n",
    "SELECT * FROM pmolnar.users"
   ]
  },
  {
   "cell_type": "code",
   "execution_count": 81,
   "metadata": {
    "ExecuteTime": {
     "end_time": "2017-01-21T13:01:08.779435",
     "start_time": "2017-01-21T13:01:08.717169"
    },
    "collapsed": false
   },
   "outputs": [
    {
     "name": "stdout",
     "output_type": "stream",
     "text": [
      "Done.\n"
     ]
    },
    {
     "data": {
      "text/html": [
       "<table>\n",
       "    <tr>\n",
       "        <th>col_name</th>\n",
       "        <th>data_type</th>\n",
       "        <th>comment</th>\n",
       "    </tr>\n",
       "    <tr>\n",
       "        <td>user_id</td>\n",
       "        <td>string</td>\n",
       "        <td></td>\n",
       "    </tr>\n",
       "    <tr>\n",
       "        <td>name</td>\n",
       "        <td>string</td>\n",
       "        <td></td>\n",
       "    </tr>\n",
       "    <tr>\n",
       "        <td>review_count</td>\n",
       "        <td>int</td>\n",
       "        <td></td>\n",
       "    </tr>\n",
       "    <tr>\n",
       "        <td>average_stars</td>\n",
       "        <td>double</td>\n",
       "        <td></td>\n",
       "    </tr>\n",
       "    <tr>\n",
       "        <td>yelping_since</td>\n",
       "        <td>date</td>\n",
       "        <td></td>\n",
       "    </tr>\n",
       "    <tr>\n",
       "        <td>fans</td>\n",
       "        <td>int</td>\n",
       "        <td></td>\n",
       "    </tr>\n",
       "</table>"
      ],
      "text/plain": [
       "[(u'user_id', u'string', u''),\n",
       " (u'name', u'string', u''),\n",
       " (u'review_count', u'int', u''),\n",
       " (u'average_stars', u'double', u''),\n",
       " (u'yelping_since', u'date', u''),\n",
       " (u'fans', u'int', u'')]"
      ]
     },
     "execution_count": 81,
     "metadata": {},
     "output_type": "execute_result"
    }
   ],
   "source": [
    "%%sql\n",
    "DESCRIBE yelp.users"
   ]
  },
  {
   "cell_type": "code",
   "execution_count": null,
   "metadata": {
    "collapsed": true
   },
   "outputs": [],
   "source": []
  },
  {
   "cell_type": "code",
   "execution_count": null,
   "metadata": {
    "collapsed": true
   },
   "outputs": [],
   "source": []
  }
 ],
 "metadata": {
  "hide_input": false,
  "kernelspec": {
   "display_name": "Python 2",
   "language": "python",
   "name": "python2"
  },
  "language_info": {
   "codemirror_mode": {
    "name": "ipython",
    "version": 2
   },
   "file_extension": ".py",
   "mimetype": "text/x-python",
   "name": "python",
   "nbconvert_exporter": "python",
   "pygments_lexer": "ipython2",
   "version": "2.7.5"
  },
  "toc": {
   "nav_menu": {
    "height": "31px",
    "width": "252px"
   },
   "navigate_menu": true,
   "number_sections": true,
   "sideBar": true,
   "threshold": 4,
   "toc_cell": false,
   "toc_section_display": "block",
   "toc_window_display": false
  }
 },
 "nbformat": 4,
 "nbformat_minor": 0
}
