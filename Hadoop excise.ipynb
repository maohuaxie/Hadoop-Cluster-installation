{
 "cells": [
  {
   "cell_type": "markdown",
   "metadata": {},
   "source": [
    "<div style=\"font-size: 3em; font-weight: bold; padding-bottom: 0.3em\">Exercise: UNIX, HDFS and MapReduce</div>\n",
    "\n",
    "In this exercise the Yelp data files are referenced through symbolic links to the actual files\n",
    "<pre>\n",
    "business.json -> /home/data/yelp/yelp_dataset_challenge_academic_dataset/yelp_academic_dataset_business.json\n",
    "checkin.json -> /home/data/yelp/yelp_dataset_challenge_academic_dataset/yelp_academic_dataset_checkin.json\n",
    "review.json -> /home/data/yelp/yelp_dataset_challenge_academic_dataset/yelp_academic_dataset_review.json\n",
    "tip.json -> /home/data/yelp/yelp_dataset_challenge_academic_dataset/yelp_academic_dataset_tip.json\n",
    "user.json -> /home/data/yelp/yelp_dataset_challenge_academic_dataset/yelp_academic_dataset_user.json\n",
    "</pre>"
   ]
  },
  {
   "cell_type": "code",
   "execution_count": 1,
   "metadata": {
    "ExecuteTime": {
     "end_time": "2017-01-15T12:58:41.351641",
     "start_time": "2017-01-15T12:58:41.315514"
    },
    "collapsed": false
   },
   "outputs": [],
   "source": [
    "%%sh\n",
    "for F in /home/data/yelp/yelp_dataset_challenge_academic_dataset/*.json; do \n",
    "    ln -s $F `basename $F| cut -d_ -f4`\n",
    "done"
   ]
  },
  {
   "cell_type": "markdown",
   "metadata": {},
   "source": [
    "The following are ideas to test our newly gained knowledge:\n",
    "\n",
    "# Warm-up\n",
    "2. Extract CSV tables from Yelp or Twitter JSON files using `jq` or `python`.\n",
    "3. Perform aggregations and frequency counts using UNIX command line tools and pipes.\n",
    "1. Create a folder structure under your user directory on the HDFS, and load some data files (e.g. Yelp) from the local file-system. Split data- files into smaller chunks, and `gzip` them."
   ]
  },
  {
   "cell_type": "markdown",
   "metadata": {},
   "source": [
    "## Extract CSV tables from Yelp JSON files using `jq` or `python`.\n",
    "`jq` is a neat command line tool for extracting JSON data. Information on how to use `jq` can be found at https://stedolan.github.io/jq/tutorial/.\n",
    "\n",
    "Let's \"flatten\" the `business.json` file to a CSV table with the fields\n",
    "1. business_id\n",
    "2. name\n",
    "4. city\n",
    "5. state\n"
   ]
  },
  {
   "cell_type": "code",
   "execution_count": 2,
   "metadata": {
    "ExecuteTime": {
     "end_time": "2017-01-14T20:32:35.951676",
     "start_time": "2017-01-14T20:32:35.927138"
    },
    "collapsed": false
   },
   "outputs": [
    {
     "name": "stdout",
     "output_type": "stream",
     "text": [
      "5UmKMjUEUNdYWqANhGckJw,business,Mr Hoagie,Dravosburg,PA\n",
      "UsFtqoBl7naz8AVUBZMjQQ,business,Clancy's Pub,Dravosburg,PA\n",
      "cE27W9VPgO88Qxe4ol6y_g,business,Cool Springs Golf Center,Bethel Park,PA\n",
      "mVHrayjG3uZ_RLHkLj-AMg,business,Emil's Lounge,Braddock,PA\n",
      "mYSpR_SLPgUVymYOvTQd_Q,business,Grand View Golf Club,Braddock,PA\n",
      "KayYbHCt-RkbGcPdGOThNg,business,Alexion's Bar & Grill,Carnegie,PA\n",
      "b12U9TFESStdy7CsTtcOeg,business,Flynn's Tire & Auto Service,Carnegie,PA\n",
      "Sktj1eHQFuVa-M4bgnEh8g,business,Forsythe Miniature Golf & Snacks,Carnegie,PA\n",
      "3ZVKmuK2l7uXPE6lXY4Dbg,business,Quaker State Construction,Carnegie,PA\n",
      "QoDa50dc7g62xciFygXB9w,business,Greentree Animal Clinic,Pittsburgh,PA\n"
     ]
    }
   ],
   "source": [
    "%%sh\n",
    "head business.json | jq -j '.business_id, \",\", .type, \",\", .name, \",\", .city, \",\", .state, \"\\n\"'"
   ]
  },
  {
   "cell_type": "markdown",
   "metadata": {},
   "source": [
    "There's so much more to `jq` ... though let's move on to Python"
   ]
  },
  {
   "cell_type": "code",
   "execution_count": 3,
   "metadata": {
    "ExecuteTime": {
     "end_time": "2017-01-14T20:32:55.829648",
     "start_time": "2017-01-14T20:32:55.719727"
    },
    "collapsed": false
   },
   "outputs": [
    {
     "name": "stdout",
     "output_type": "stream",
     "text": [
      "5UmKMjUEUNdYWqANhGckJw,business,Mr Hoagie,Dravosburg,PA\n",
      "UsFtqoBl7naz8AVUBZMjQQ,business,Clancy's Pub,Dravosburg,PA\n",
      "cE27W9VPgO88Qxe4ol6y_g,business,Cool Springs Golf Center,Bethel Park,PA\n",
      "mVHrayjG3uZ_RLHkLj-AMg,business,Emil's Lounge,Braddock,PA\n",
      "mYSpR_SLPgUVymYOvTQd_Q,business,Grand View Golf Club,Braddock,PA\n",
      "KayYbHCt-RkbGcPdGOThNg,business,Alexion's Bar & Grill,Carnegie,PA\n",
      "b12U9TFESStdy7CsTtcOeg,business,Flynn's Tire & Auto Service,Carnegie,PA\n",
      "Sktj1eHQFuVa-M4bgnEh8g,business,Forsythe Miniature Golf & Snacks,Carnegie,PA\n",
      "3ZVKmuK2l7uXPE6lXY4Dbg,business,Quaker State Construction,Carnegie,PA\n",
      "QoDa50dc7g62xciFygXB9w,business,Greentree Animal Clinic,Pittsburgh,PA\n",
      "1_lU0-eSWJCRvNGk78Zh9Q,business,Carnegie Free Library,Carnegie,PA\n"
     ]
    }
   ],
   "source": [
    "import sys\n",
    "import json\n",
    "with open('business.json') as stream:\n",
    "    max_records = 10\n",
    "    for line in stream.readlines():\n",
    "        r = json.loads(line.strip())\n",
    "        print ','.join([r['business_id'], r['type'], r['name'], r['city'], r['state']]) \n",
    "        max_records -= 1\n",
    "        if max_records < 0:\n",
    "            break\n",
    "            "
   ]
  },
  {
   "cell_type": "markdown",
   "metadata": {},
   "source": [
    "The `json.loads()` function take a string of JSON encoded data and converts it into a Python dictionary `dict` that has the same (nested) structure as the JSON record.\n",
    "\n",
    "Beware that using a non-existing key on the dictionary will cause an exception. Therefore, one should\n",
    "1. either test if the key exists `if \"name\" in r.keys():`, or\n",
    "2. use a `try...except` block\n",
    "\n",
    "Python also offers more opportunities to manipulate out data fields. E.g. the `full_address` field contains new-line characters. We can replaces them with something else, like `^`.\n",
    "\n",
    "Let's put a header in, too...though usually we don't use headers in large data projects because we like to be able to split and combine files."
   ]
  },
  {
   "cell_type": "code",
   "execution_count": 4,
   "metadata": {
    "ExecuteTime": {
     "end_time": "2017-01-14T20:33:27.303815",
     "start_time": "2017-01-14T20:33:27.206821"
    },
    "collapsed": false
   },
   "outputs": [
    {
     "name": "stdout",
     "output_type": "stream",
     "text": [
      "business_id,type,name,full_address,city,state\n",
      "5UmKMjUEUNdYWqANhGckJw,business,Mr Hoagie,4734 Lebanon Church Rd^Dravosburg, PA 15034,Dravosburg,PA\n",
      "UsFtqoBl7naz8AVUBZMjQQ,business,Clancy's Pub,202 McClure St^Dravosburg, PA 15034,Dravosburg,PA\n",
      "cE27W9VPgO88Qxe4ol6y_g,business,Cool Springs Golf Center,1530 Hamilton Rd^Bethel Park, PA 15234,Bethel Park,PA\n",
      "mVHrayjG3uZ_RLHkLj-AMg,business,Emil's Lounge,414 Hawkins Ave^Braddock, PA 15104,Braddock,PA\n",
      "mYSpR_SLPgUVymYOvTQd_Q,business,Grand View Golf Club,1000 Clubhouse Dr^Braddock, PA 15104,Braddock,PA\n",
      "KayYbHCt-RkbGcPdGOThNg,business,Alexion's Bar & Grill,141 Hawthorne St^Greentree^Carnegie, PA 15106,Carnegie,PA\n",
      "b12U9TFESStdy7CsTtcOeg,business,Flynn's Tire & Auto Service,718A Hope Hollow Rd^Carnegie, PA 15106,Carnegie,PA\n",
      "Sktj1eHQFuVa-M4bgnEh8g,business,Forsythe Miniature Golf & Snacks,920 Forsythe Rd^Carnegie^Carnegie, PA 15106,Carnegie,PA\n",
      "3ZVKmuK2l7uXPE6lXY4Dbg,business,Quaker State Construction,8 Logan St^Carnegie^Carnegie, PA 15106,Carnegie,PA\n",
      "QoDa50dc7g62xciFygXB9w,business,Greentree Animal Clinic,2080 Greentree Rd^Pittsburgh, PA 15220,Pittsburgh,PA\n",
      "1_lU0-eSWJCRvNGk78Zh9Q,business,Carnegie Free Library,300 Beechwood Ave^Carnegie^Carnegie, PA 15106,Carnegie,PA\n"
     ]
    }
   ],
   "source": [
    "import sys\n",
    "import json\n",
    "\n",
    "# header...usually we don't use them\n",
    "print 'business_id,type,name,full_address,city,state'\n",
    "\n",
    "with open('business.json') as stream:\n",
    "    max_records = 10\n",
    "    for line in stream.readlines():\n",
    "        try:\n",
    "            r = json.loads(line.strip())\n",
    "            print ','.join([r['business_id'], r['type'], r['name'], r['full_address'].replace('\\n', '^'), r['city'], r['state']]) \n",
    "            max_records -= 1\n",
    "            if max_records < 0:\n",
    "                break\n",
    "        except:\n",
    "            None  ### we don't produce an output row"
   ]
  },
  {
   "cell_type": "markdown",
   "metadata": {},
   "source": [
    "Let's use this code in a script that can run like a UNIX command. Reading from Standard Input, processing data, and then sending results to Standard Output is an elegant and flexible way.\n",
    "\n",
    "The following code is stored in a script `business_mpr.py`. Instead from opening a specific file we read from `sys.stdin`"
   ]
  },
  {
   "cell_type": "code",
   "execution_count": 9,
   "metadata": {
    "ExecuteTime": {
     "end_time": "2017-01-14T20:33:53.648594",
     "start_time": "2017-01-14T20:33:53.626339"
    },
    "collapsed": false
   },
   "outputs": [
    {
     "name": "stdout",
     "output_type": "stream",
     "text": [
      "#!/usr/bin/python\n",
      "\n",
      "import sys\n",
      "import json\n",
      "\n",
      "for line in sys.stdin.readlines():\n",
      "    try:\n",
      "        r = json.loads(line.strip())\n",
      "        print r['city']+\"/\"+r['state'] \n",
      "    except:\n",
      "        None  ### we don't produce an output row-rwxrwxr-x 1 mxie3 mxie3 224 Jan 25 13:24 business_city_mpr.py\n"
     ]
    }
   ],
   "source": [
    "%%sh\n",
    "cat business_city_mpr.py\n",
    "chmod a+x business_city_mpr.py\n",
    "ls -l business_city_mpr.py"
   ]
  },
  {
   "cell_type": "markdown",
   "metadata": {},
   "source": [
    "Let's try it out"
   ]
  },
  {
   "cell_type": "code",
   "execution_count": 11,
   "metadata": {
    "ExecuteTime": {
     "end_time": "2017-01-14T20:33:56.777016",
     "start_time": "2017-01-14T20:33:56.732618"
    },
    "collapsed": false
   },
   "outputs": [
    {
     "name": "stdout",
     "output_type": "stream",
     "text": [
      "Dravosburg/PA\n",
      "Dravosburg/PA\n",
      "Bethel Park/PA\n",
      "Braddock/PA\n",
      "Braddock/PA\n",
      "Carnegie/PA\n",
      "Carnegie/PA\n",
      "Carnegie/PA\n",
      "Carnegie/PA\n",
      "Pittsburgh/PA\n"
     ]
    }
   ],
   "source": [
    "%%sh\n",
    "head business.json | ./business_city_mpr.py"
   ]
  },
  {
   "cell_type": "markdown",
   "metadata": {},
   "source": [
    "## Simple Analysis: how many restaurants per city (state)?\n",
    "Perform aggregations and frequency counts using **UNIX command line tools** and pipes. Well, our `business_mpr.py` is a command line tool, too.\n",
    "\n",
    "Let's list the top 10 cities with most businesses:"
   ]
  },
  {
   "cell_type": "code",
   "execution_count": 64,
   "metadata": {
    "ExecuteTime": {
     "end_time": "2017-01-14T20:39:38.786736",
     "start_time": "2017-01-14T20:39:35.371426"
    },
    "collapsed": false
   },
   "outputs": [
    {
     "name": "stdout",
     "output_type": "stream",
     "text": [
      "  18501 Las Vegas,NV\n",
      "  11504 Phoenix,AZ\n",
      "   5550 Charlotte,NC\n",
      "   5297 Scottsdale,AZ\n",
      "   3544 Pittsburgh,PA\n",
      "   3532 Mesa,AZ\n",
      "   3256 EDH\n",
      "   2983 Henderson,NV\n",
      "   2956 Tempe,AZ\n",
      "   2603 Chandler,AZ\n"
     ]
    },
    {
     "name": "stderr",
     "output_type": "stream",
     "text": [
      "sort: write failed: standard output: Broken pipe\n",
      "sort: write error\n"
     ]
    }
   ],
   "source": [
    "%%sh\n",
    "cat business.json | ./business_mpr.py | cut -d, -f6,7 | sort | uniq -c | sort -rn | head"
   ]
  },
  {
   "cell_type": "markdown",
   "metadata": {},
   "source": [
    "What kind of business to we have in the data? This is a quick way to extract all levels of a field from large data files. Here, we take the second field `-f2` from a comma separated `-d,` stream. "
   ]
  },
  {
   "cell_type": "code",
   "execution_count": 65,
   "metadata": {
    "ExecuteTime": {
     "end_time": "2017-01-14T20:39:45.683340",
     "start_time": "2017-01-14T20:39:42.319480"
    },
    "collapsed": false
   },
   "outputs": [
    {
     "name": "stdout",
     "output_type": "stream",
     "text": [
      "  80670 business\r\n"
     ]
    }
   ],
   "source": [
    "cat business.json | ./business_mpr.py | cut -d, -f2 | sort | uniq -c | sort -rn | head"
   ]
  },
  {
   "cell_type": "markdown",
   "metadata": {},
   "source": [
    "How disappointing...Well, let's look what's going on in Nevada"
   ]
  },
  {
   "cell_type": "code",
   "execution_count": 72,
   "metadata": {
    "ExecuteTime": {
     "end_time": "2017-01-14T20:42:14.212794",
     "start_time": "2017-01-14T20:42:11.113511"
    },
    "collapsed": false,
    "scrolled": true
   },
   "outputs": [
    {
     "name": "stdout",
     "output_type": "stream",
     "text": [
      "  18501 Las Vegas,NV\n",
      "   2983 Henderson,NV\n",
      "    928 North Las Vegas,NV\n",
      "     42 Boulder City,NV\n",
      "     25 Paradise,NV\n",
      "     19 N Las Vegas,NV\n",
      "     14 Nellis AFB,NV\n",
      "      6 Spring Valley,NV\n",
      "      6 Las Vegas ,NV\n",
      "      6 Enterprise,NV\n"
     ]
    }
   ],
   "source": [
    "%%sh\n",
    "cat business.json | ./business_mpr.py | cut -d, -f6,7 | grep ',NV' | sort | uniq -c | sort -rn | head"
   ]
  },
  {
   "cell_type": "markdown",
   "metadata": {},
   "source": [
    "In addition to our Python script we only need regular UNIX commands\n",
    "- `cat` loads one or more files and puts the data into STDOUT\n",
    "- `cut` reads lines, splits them into fields by the given delimiter `-d,` and produces lines with only certain fields `-f6,7`\n",
    "- `grep` filters lines by a given string or pattern\n",
    "- `sort` is capable of sorting very large text-files (or streams) by row. Usually in lexicographical order, but also numeric `-n`, and the order can be reversed `-r`\n",
    "- `uniq` eliminates duplicate lines if they follow in succession. With `-c` it also counts duplicates\n",
    "- `head` cuts the stream of after a given number of lines (10 by default). There's also a `tail`"
   ]
  },
  {
   "cell_type": "markdown",
   "metadata": {},
   "source": [
    "How many levels does each field in our data set have? This might be useful to identify features for machine learning."
   ]
  },
  {
   "cell_type": "code",
   "execution_count": 73,
   "metadata": {
    "ExecuteTime": {
     "end_time": "2017-01-15T10:36:04.454145",
     "start_time": "2017-01-15T10:35:40.109263"
    },
    "collapsed": false
   },
   "outputs": [
    {
     "name": "stdout",
     "output_type": "stream",
     "text": [
      "Field 1: 80670\n",
      "Field 2: 1\n",
      "Field 3: 59903\n",
      "Field 4: 66209\n",
      "Field 5: 3706\n",
      "Field 6: 847\n",
      "Field 7: 202\n"
     ]
    }
   ],
   "source": [
    "%%sh\n",
    "for N in {1..7}; do\n",
    "    echo -n \"Field $N: \"\n",
    "    cat business.json | ./business_mpr.py | cut -d, -f$N | sort | uniq | wc -l\n",
    "done"
   ]
  },
  {
   "cell_type": "code",
   "execution_count": 77,
   "metadata": {
    "ExecuteTime": {
     "end_time": "2017-01-15T10:40:10.356021",
     "start_time": "2017-01-15T10:40:07.346116"
    },
    "collapsed": false
   },
   "outputs": [
    {
     "name": "stdout",
     "output_type": "stream",
     "text": [
      "The 'business.json' file has 85901 records.\n",
      "However, 80670 valid records are actually extracted by the mapper.\n"
     ]
    }
   ],
   "source": [
    "%%sh\n",
    "echo \"The 'business.json' file has `wc -l < business.json` records.\"\n",
    "echo \"However, `cat business.json | ./business_mpr.py | wc -l` valid records are actually extracted by the mapper.\""
   ]
  },
  {
   "cell_type": "markdown",
   "metadata": {},
   "source": [
    "A few simple UNIX commands can give us a quick peek into the data...even if they are too large to fit into Pandas or R data frames.\n",
    "`wc` counts characters, words, and lines. `wc -l` only returns the number of lines."
   ]
  },
  {
   "cell_type": "markdown",
   "metadata": {},
   "source": [
    "## Load data to HDFS\n",
    "MapReduce and other members of the Hadoop family operate on the Hadoop File System. When given a name or path to data files they usually expect them to be present on HDFS. Programs and libraries are stored on the local file system.\n",
    "\n",
    "There are several commands that allow us to deal with files on HDFS, and shuffle data back and forth. On our system the commands 'hadoop fs' and 'hdfs dfs' do the same thing, but behave differently on other installations. http://stackoverflow.com/questions/18142960/whats-the-difference-between-hadoop-fs-shell-commands-and-hdfs-dfs-shell-co"
   ]
  },
  {
   "cell_type": "code",
   "execution_count": 13,
   "metadata": {
    "ExecuteTime": {
     "end_time": "2017-01-15T10:50:23.164346",
     "start_time": "2017-01-15T10:50:21.350104"
    },
    "collapsed": false
   },
   "outputs": [
    {
     "name": "stdout",
     "output_type": "stream",
     "text": [
      "Hello mxie3! This is your personal directory on HDFS\n"
     ]
    },
    {
     "name": "stderr",
     "output_type": "stream",
     "text": [
      "sh: line 2: hdfs: command not found\n"
     ]
    }
   ],
   "source": [
    "%%sh\n",
    "echo \"Hello $USER! This is your personal directory on HDFS\"\n",
    "hdfs dfs -ls /user/mxie3"
   ]
  },
  {
   "cell_type": "code",
   "execution_count": 14,
   "metadata": {
    "ExecuteTime": {
     "end_time": "2017-01-15T11:05:50.776849",
     "start_time": "2017-01-15T11:05:50.083563"
    },
    "collapsed": false,
    "scrolled": true
   },
   "outputs": [
    {
     "name": "stderr",
     "output_type": "stream",
     "text": [
      "sh: line 1: hdfs: command not found\n"
     ]
    }
   ],
   "source": [
    "%%sh\n",
    "hdfs dfs -help | head ### \"| head\" to see the complete documentation"
   ]
  },
  {
   "cell_type": "markdown",
   "metadata": {},
   "source": [
    "Let's create a directory for our data on HDFS. Then copy the data files into the new directory "
   ]
  },
  {
   "cell_type": "code",
   "execution_count": 92,
   "metadata": {
    "ExecuteTime": {
     "end_time": "2017-01-15T11:30:15.639885",
     "start_time": "2017-01-15T11:29:49.512535"
    },
    "collapsed": false
   },
   "outputs": [
    {
     "name": "stdout",
     "output_type": "stream",
     "text": [
      "Copying /home/data/yelp/yelp_dataset_challenge_academic_dataset/yelp_academic_dataset_business.json\n",
      "Copying /home/data/yelp/yelp_dataset_challenge_academic_dataset/yelp_academic_dataset_checkin.json\n",
      "Copying /home/data/yelp/yelp_dataset_challenge_academic_dataset/yelp_academic_dataset_review.json\n",
      "Copying /home/data/yelp/yelp_dataset_challenge_academic_dataset/yelp_academic_dataset_tip.json\n",
      "Copying /home/data/yelp/yelp_dataset_challenge_academic_dataset/yelp_academic_dataset_user.json\n"
     ]
    }
   ],
   "source": [
    "%%sh\n",
    "hdfs dfs -mkdir -p /user/$USER/yelp/data\n",
    "for F in /home/data/yelp/yelp_dataset_challenge_academic_dataset/*.json; do\n",
    "    echo \"Copying $F\"\n",
    "    hdfs dfs -put $F /user/$USER/yelp/data/\n",
    "done"
   ]
  },
  {
   "cell_type": "markdown",
   "metadata": {},
   "source": [
    "Usually data files are very large and need to be read by multiple workers at the same time. We, therefore, split our data files into chunks...roughly into the number of workers we may use. For these files creating 10 chunks might be sufficient. \n",
    "In addition we compress our chunks with `gzip`. All Hadoop members can unzip on the fly...so do Pandas and R.\n",
    "\n",
    "How many records do we have in each file?"
   ]
  },
  {
   "cell_type": "code",
   "execution_count": 94,
   "metadata": {
    "ExecuteTime": {
     "end_time": "2017-01-15T11:34:40.555009",
     "start_time": "2017-01-15T11:34:39.840963"
    },
    "code_folding": [],
    "collapsed": false,
    "scrolled": false
   },
   "outputs": [
    {
     "name": "stdout",
     "output_type": "stream",
     "text": [
      "85901 /home/data/yelp/yelp_dataset_challenge_academic_dataset/yelp_academic_dataset_business.json\n",
      "61049 /home/data/yelp/yelp_dataset_challenge_academic_dataset/yelp_academic_dataset_checkin.json\n",
      "2685066 /home/data/yelp/yelp_dataset_challenge_academic_dataset/yelp_academic_dataset_review.json\n",
      "648902 /home/data/yelp/yelp_dataset_challenge_academic_dataset/yelp_academic_dataset_tip.json\n",
      "686556 /home/data/yelp/yelp_dataset_challenge_academic_dataset/yelp_academic_dataset_user.json\n"
     ]
    }
   ],
   "source": [
    "%%sh\n",
    "for F in /home/data/yelp/yelp_dataset_challenge_academic_dataset/*.json; do\n",
    "   wc -l $F\n",
    "done"
   ]
  },
  {
   "cell_type": "markdown",
   "metadata": {},
   "source": [
    "The UNIX command `split` takes care of it. The following example uses a few other commands to get our data in the shape we want them.\n",
    "This also include computing the proper number of lines for each chunk."
   ]
  },
  {
   "cell_type": "code",
   "execution_count": null,
   "metadata": {
    "ExecuteTime": {
     "end_time": "2017-01-15T13:00:11.122744",
     "start_time": "2017-01-15T13:00:10.428983"
    },
    "collapsed": false,
    "scrolled": true
   },
   "outputs": [],
   "source": [
    "%%sh\n",
    "for F in /home/data/yelp/yelp_dataset_challenge_academic_dataset/*.json; do\n",
    "    N=`basename $F .json | cut -d_ -f4`\n",
    "    L=$((`wc -l < $F`/10))\n",
    "    echo \"File '$F' split in chunks of $L lines into folders named '$N'\"\n",
    "    FILTER='gzip > $FILE.json.gz; hdfs dfs -put $FILE.json.gz /user/'$USER'/yelp/data/'$N'/; rm $FILE.json.gz'\n",
    "    hdfs dfs -mkdir -p /user/$USER/yelp/data/$N\n",
    "    split --lines=$L --filter=\"'$FILTER'\" $F ${N}_ \n",
    "done"
   ]
  },
  {
   "cell_type": "markdown",
   "metadata": {},
   "source": [
    "In most cases data files won't be available on the local file system. Rather, there are some processes that load them from other servers, such as SQL databases or sources on the web. In those cases we would follow a similar process:\n",
    "1. read a number of records into a temporary file\n",
    "2. zip and load onto HDFS"
   ]
  },
  {
   "cell_type": "markdown",
   "metadata": {
    "ExecuteTime": {
     "end_time": "2017-01-15T14:40:27.375618",
     "start_time": "2017-01-15T14:40:27.366768"
    }
   },
   "source": [
    "# Walk\n",
    "1. Write a Map-Reduce mapper to filter and convert rows from a single datafile, and produce a (small) CSV table. Run Map-Reduce with data on the HDFS, move the resulting CSV table onto the local file system.\n",
    "2. Write a mapper and reducer to count words in Yelp reviews. Produce a list with the 200 most frequent words.\n",
    "1. Let's do some MapReduce\n",
    "1. Join tables using MapReduce (use Yelp ... and incorporate JSON extraction)"
   ]
  },
  {
   "cell_type": "markdown",
   "metadata": {},
   "source": [
    "## MapReduce\n",
    "Let's find the cities with the most businesses...again.\n",
    "The way we did it with UNIX commands (and our scripts) was to extract the **key** value, City/State, order the records by this key, and then count the records that have the same key value.\n",
    "\n",
    "`cat business.json | ./business_mpr.py | cut -d, -f6,7 | sort | uniq -c | sort -rn | head`\n",
    "\n",
    "MapReduce works pretty much the same way as the pipeline above whereby certain tasks are handled by the system\n",
    "1. the system takes care of feeding data (`cat business.json `)\n",
    "2. our mapper needs to digest the records and produce output with the key value as the first element \n",
    "    (`./business_mpr.py | cut -d, -f6,7`)\n",
    "3. the system will sort and shuffle (`sort`)\n",
    "4. our mapper counts the records with the same key value (`uniq -c`)\n",
    "5. the system collects results in specified output files\n",
    "\n",
    "\n",
    "First we refine the mapper. The following code should be saved in `business_city_mpr.py`.\n",
    "We can test it out right away. "
   ]
  },
  {
   "cell_type": "code",
   "execution_count": null,
   "metadata": {
    "collapsed": true
   },
   "outputs": [],
   "source": [
    "#!/usr/bin/python\n",
    "\n",
    "import sys\n",
    "import json\n",
    "\n",
    "for line in sys.stdin.readlines():\n",
    "    try:\n",
    "        r = json.loads(line.strip())\n",
    "        print r['city']+\"/\"+r['state'] \n",
    "    except:\n",
    "        None  ### we don't produce an output row"
   ]
  },
  {
   "cell_type": "code",
   "execution_count": 127,
   "metadata": {
    "ExecuteTime": {
     "end_time": "2017-01-15T14:25:04.264886",
     "start_time": "2017-01-15T14:25:01.219485"
    },
    "collapsed": false
   },
   "outputs": [
    {
     "name": "stdout",
     "output_type": "stream",
     "text": [
      "      1 110 Las Vegas/NV\n",
      "      1 Ahwahtukee/AZ\n",
      "     12 Ahwatukee/AZ\n",
      "      1 Ahwatukee Foothills Village/AZ\n",
      "      1 Allegheny/PA\n",
      "      2 Allentown/PA\n",
      "     11 Anjou/QC\n",
      "    135 Anthem/AZ\n",
      "    186 Apache Junction/AZ\n",
      "      2 Arlington/AZ\n"
     ]
    },
    {
     "name": "stderr",
     "output_type": "stream",
     "text": [
      "uniq: write error: Broken pipe\n"
     ]
    }
   ],
   "source": [
    "%%sh\n",
    "chmod a+x business_city_mpr.py\n",
    "cat business.json | ./business_city_mpr.py | sort | uniq -c | head"
   ]
  },
  {
   "cell_type": "markdown",
   "metadata": {},
   "source": [
    "Let's run it as MapReduce job"
   ]
  },
  {
   "cell_type": "code",
   "execution_count": 130,
   "metadata": {
    "ExecuteTime": {
     "end_time": "2017-01-15T14:35:58.954707",
     "start_time": "2017-01-15T14:35:34.360435"
    },
    "collapsed": false,
    "scrolled": false
   },
   "outputs": [
    {
     "name": "stdout",
     "output_type": "stream",
     "text": [
      "Deleted /user/pmolnar/yelp/output/business_by_city\n",
      "packageJobJar: [] [/usr/hdp/2.4.2.0-258/hadoop-mapreduce/hadoop-streaming-2.7.1.2.4.2.0-258.jar] /var/lib/ambari-agent/tmp/hadoop_java_io_tmpdir/streamjob2401020890362579846.jar tmpDir=null\n"
     ]
    },
    {
     "name": "stderr",
     "output_type": "stream",
     "text": [
      "17/01/15 14:35:39 INFO impl.TimelineClientImpl: Timeline service address: http://backend-0-2.insight.gsu.edu:8188/ws/v1/timeline/\n",
      "17/01/15 14:35:39 INFO client.RMProxy: Connecting to ResourceManager at backend-0-1.insight.gsu.edu/192.168.1.253:8050\n",
      "17/01/15 14:35:40 INFO impl.TimelineClientImpl: Timeline service address: http://backend-0-2.insight.gsu.edu:8188/ws/v1/timeline/\n",
      "17/01/15 14:35:40 INFO client.RMProxy: Connecting to ResourceManager at backend-0-1.insight.gsu.edu/192.168.1.253:8050\n",
      "17/01/15 14:35:40 INFO mapred.FileInputFormat: Total input paths to process : 11\n",
      "17/01/15 14:35:40 INFO mapreduce.JobSubmitter: number of splits:11\n",
      "17/01/15 14:35:40 INFO mapreduce.JobSubmitter: Submitting tokens for job: job_1483712992215_0013\n",
      "17/01/15 14:35:41 INFO impl.YarnClientImpl: Submitted application application_1483712992215_0013\n",
      "17/01/15 14:35:41 INFO mapreduce.Job: The url to track the job: http://backend-0-1.insight.gsu.edu:8088/proxy/application_1483712992215_0013/\n",
      "17/01/15 14:35:41 INFO mapreduce.Job: Running job: job_1483712992215_0013\n",
      "17/01/15 14:35:46 INFO mapreduce.Job: Job job_1483712992215_0013 running in uber mode : false\n",
      "17/01/15 14:35:46 INFO mapreduce.Job:  map 0% reduce 0%\n",
      "17/01/15 14:35:52 INFO mapreduce.Job:  map 36% reduce 0%\n",
      "17/01/15 14:35:53 INFO mapreduce.Job:  map 100% reduce 0%\n",
      "17/01/15 14:35:58 INFO mapreduce.Job:  map 100% reduce 100%\n",
      "17/01/15 14:35:58 INFO mapreduce.Job: Job job_1483712992215_0013 completed successfully\n",
      "17/01/15 14:35:58 INFO mapreduce.Job: Counters: 49\n",
      "\tFile System Counters\n",
      "\t\tFILE: Number of bytes read=1254209\n",
      "\t\tFILE: Number of bytes written=4165028\n",
      "\t\tFILE: Number of read operations=0\n",
      "\t\tFILE: Number of large read operations=0\n",
      "\t\tFILE: Number of write operations=0\n",
      "\t\tHDFS: Number of bytes read=10367260\n",
      "\t\tHDFS: Number of bytes written=10636\n",
      "\t\tHDFS: Number of read operations=36\n",
      "\t\tHDFS: Number of large read operations=0\n",
      "\t\tHDFS: Number of write operations=2\n",
      "\tJob Counters \n",
      "\t\tLaunched map tasks=11\n",
      "\t\tLaunched reduce tasks=1\n",
      "\t\tData-local map tasks=11\n",
      "\t\tTotal time spent by all maps in occupied slots (ms)=51199\n",
      "\t\tTotal time spent by all reduces in occupied slots (ms)=6142\n",
      "\t\tTotal time spent by all map tasks (ms)=51199\n",
      "\t\tTotal time spent by all reduce tasks (ms)=3071\n",
      "\t\tTotal vcore-seconds taken by all map tasks=51199\n",
      "\t\tTotal vcore-seconds taken by all reduce tasks=3071\n",
      "\t\tTotal megabyte-seconds taken by all map tasks=419422208\n",
      "\t\tTotal megabyte-seconds taken by all reduce tasks=50315264\n",
      "\tMap-Reduce Framework\n",
      "\t\tMap input records=85901\n",
      "\t\tMap output records=81500\n",
      "\t\tMap output bytes=1091203\n",
      "\t\tMap output materialized bytes=1254269\n",
      "\t\tInput split bytes=1573\n",
      "\t\tCombine input records=0\n",
      "\t\tCombine output records=0\n",
      "\t\tReduce input groups=452\n",
      "\t\tReduce shuffle bytes=1254269\n",
      "\t\tReduce input records=81500\n",
      "\t\tReduce output records=452\n",
      "\t\tSpilled Records=163000\n",
      "\t\tShuffled Maps =11\n",
      "\t\tFailed Shuffles=0\n",
      "\t\tMerged Map outputs=11\n",
      "\t\tGC time elapsed (ms)=1651\n",
      "\t\tCPU time spent (ms)=27900\n",
      "\t\tPhysical memory (bytes) snapshot=27774476288\n",
      "\t\tVirtual memory (bytes) snapshot=116666269696\n",
      "\t\tTotal committed heap usage (bytes)=31121211392\n",
      "\tShuffle Errors\n",
      "\t\tBAD_ID=0\n",
      "\t\tCONNECTION=0\n",
      "\t\tIO_ERROR=0\n",
      "\t\tWRONG_LENGTH=0\n",
      "\t\tWRONG_MAP=0\n",
      "\t\tWRONG_REDUCE=0\n",
      "\tFile Input Format Counters \n",
      "\t\tBytes Read=10365687\n",
      "\tFile Output Format Counters \n",
      "\t\tBytes Written=10636\n",
      "17/01/15 14:35:58 INFO streaming.StreamJob: Output directory: /user/pmolnar/yelp/output/business_by_city\n"
     ]
    }
   ],
   "source": [
    "%%sh\n",
    "# use the current directory as location for program files\n",
    "WD=`pwd`\n",
    "\n",
    "OUTDIR=/user/$USER/yelp/output\n",
    "OUTPUT=$OUTDIR/business_by_city\n",
    "\n",
    "# make sure output directory exists\n",
    "hdfs dfs -mkdir -p $OUTDIR \n",
    "\n",
    "# make sure the output files don't exist\n",
    "hdfs dfs -rm -r -f -skipTrash $OUTPUT\n",
    "\n",
    "INPUT=/user/$USER/yelp/data/business/*\n",
    "yarn \\\n",
    "    jar /usr/hdp/2.4.2.0-258/hadoop-mapreduce/hadoop-streaming-2.7.1.2.4.2.0-258.jar \\\n",
    "    -mapper \"$WD/business_city_mpr.py\" \\\n",
    "    -reducer \"/usr/bin/uniq -c\" \\\n",
    "    -input $INPUT \\\n",
    "    -output $OUTPUT"
   ]
  },
  {
   "cell_type": "markdown",
   "metadata": {},
   "source": [
    "That's a long output. Looks like everything went well. Let's see what we got:"
   ]
  },
  {
   "cell_type": "code",
   "execution_count": 132,
   "metadata": {
    "ExecuteTime": {
     "end_time": "2017-01-15T14:37:28.587887",
     "start_time": "2017-01-15T14:37:26.786918"
    },
    "collapsed": false
   },
   "outputs": [
    {
     "name": "stdout",
     "output_type": "stream",
     "text": [
      "Found 2 items\n",
      "-rw-r--r--   3 pmolnar hadoop          0 2017-01-15 14:35 /user/pmolnar/yelp/output/business_by_city/_SUCCESS\n",
      "-rw-r--r--   3 pmolnar hadoop      10636 2017-01-15 14:35 /user/pmolnar/yelp/output/business_by_city/part-00000\n"
     ]
    }
   ],
   "source": [
    "%%sh\n",
    "OUTDIR=/user/$USER/yelp/output\n",
    "OUTPUT=$OUTDIR/business_by_city\n",
    "sh hdfs dfs -ls $OUTPUT"
   ]
  },
  {
   "cell_type": "code",
   "execution_count": 135,
   "metadata": {
    "ExecuteTime": {
     "end_time": "2017-01-15T14:38:38.598918",
     "start_time": "2017-01-15T14:38:36.665043"
    },
    "collapsed": false,
    "scrolled": true
   },
   "outputs": [
    {
     "name": "stdout",
     "output_type": "stream",
     "text": [
      "  19326 Las Vegas/NV\t\n",
      "  11851 Phoenix/AZ\t\n",
      "   5694 Charlotte/NC\t\n",
      "   5638 Scottsdale/AZ\t\n",
      "   3637 Mesa/AZ\t\n",
      "   3627 Pittsburgh/PA\t\n",
      "   3224 Edinburgh/EDH\t\n",
      "   3145 Henderson/NV\t\n",
      "   3043 Tempe/AZ\t\n",
      "   2701 Chandler/AZ\t\n"
     ]
    },
    {
     "name": "stderr",
     "output_type": "stream",
     "text": [
      "sort: write failed: standard output: Broken pipe\n",
      "sort: write error\n"
     ]
    }
   ],
   "source": [
    "%%sh\n",
    "OUTDIR=/user/$USER/yelp/output\n",
    "OUTPUT=$OUTDIR/business_by_city\n",
    "sh hdfs dfs -cat $OUTPUT/part-00000 | sort -rn | head "
   ]
  },
  {
   "cell_type": "markdown",
   "metadata": {},
   "source": [
    "## Join 'business' set with 'checkin' set\n",
    "The checkin set holds a distribution of patrons per hour per day per week. If we want to know the typical dining hours per city, we need to join the set to the busniness set. Then aggregate over the city.\n",
    "\n",
    "###  Mapper\n",
    "The mappers job is to produce records with leading key values so that we can bring records of both sets together. We can pass the entire records along for the reducer."
   ]
  },
  {
   "cell_type": "code",
   "execution_count": null,
   "metadata": {
    "collapsed": true
   },
   "outputs": [],
   "source": [
    "#!/usr/bin/python\n",
    "### checkin_mpr.py produces recrods with leading business_id\n",
    "import sys\n",
    "import json\n",
    "\n",
    "for line in sys.stdin:\n",
    "    try:\n",
    "        r = json.loads(line.strip())\n",
    "        print r['business_id']+\"\\t\"+line.strip() \n",
    "    except:\n",
    "        None  ### we don't produce an output row"
   ]
  },
  {
   "cell_type": "code",
   "execution_count": 138,
   "metadata": {
    "ExecuteTime": {
     "end_time": "2017-01-15T15:18:52.297339",
     "start_time": "2017-01-15T15:18:52.242551"
    },
    "collapsed": false,
    "scrolled": true
   },
   "outputs": [
    {
     "name": "stdout",
     "output_type": "stream",
     "text": [
      "1_lU0-eSWJCRvNGk78Zh9Q\t{\"checkin_info\": {\"11-6\": 1, \"18-4\": 1, \"15-4\": 1, \"10-6\": 1, \"10-5\": 1}, \"type\": \"checkin\", \"business_id\": \"1_lU0-eSWJCRvNGk78Zh9Q\"}\n",
      "3ZVKmuK2l7uXPE6lXY4Dbg\t{\"business_id\": \"3ZVKmuK2l7uXPE6lXY4Dbg\", \"full_address\": \"8 Logan St\\nCarnegie\\nCarnegie, PA 15106\", \"hours\": {}, \"open\": true, \"categories\": [\"Roofing\", \"Home Services\", \"Decks & Railing\", \"Contractors\"], \"city\": \"Carnegie\", \"review_count\": 3, \"name\": \"Quaker State Construction\", \"neighborhoods\": [\"Carnegie\"], \"longitude\": -80.0903905, \"state\": \"PA\", \"stars\": 2.5, \"latitude\": 40.4062805, \"attributes\": {}, \"type\": \"business\"}\n",
      "5UmKMjUEUNdYWqANhGckJw\t{\"business_id\": \"5UmKMjUEUNdYWqANhGckJw\", \"full_address\": \"4734 Lebanon Church Rd\\nDravosburg, PA 15034\", \"hours\": {\"Friday\": {\"close\": \"21:00\", \"open\": \"11:00\"}, \"Tuesday\": {\"close\": \"21:00\", \"open\": \"11:00\"}, \"Thursday\": {\"close\": \"21:00\", \"open\": \"11:00\"}, \"Wednesday\": {\"close\": \"21:00\", \"open\": \"11:00\"}, \"Monday\": {\"close\": \"21:00\", \"open\": \"11:00\"}}, \"open\": true, \"categories\": [\"Fast Food\", \"Restaurants\"], \"city\": \"Dravosburg\", \"review_count\": 7, \"name\": \"Mr Hoagie\", \"neighborhoods\": [], \"longitude\": -79.9007057, \"state\": \"PA\", \"stars\": 3.5, \"latitude\": 40.3543266, \"attributes\": {\"Take-out\": true, \"Drive-Thru\": false, \"Good For\": {\"dessert\": false, \"latenight\": false, \"lunch\": false, \"dinner\": false, \"brunch\": false, \"breakfast\": false}, \"Caters\": false, \"Noise Level\": \"average\", \"Takes Reservations\": false, \"Delivery\": false, \"Ambience\": {\"romantic\": false, \"intimate\": false, \"classy\": false, \"hipster\": false, \"divey\": false, \"touristy\": false, \"trendy\": false, \"upscale\": false, \"casual\": false}, \"Parking\": {\"garage\": false, \"street\": false, \"validated\": false, \"lot\": false, \"valet\": false}, \"Has TV\": false, \"Outdoor Seating\": false, \"Attire\": \"casual\", \"Alcohol\": \"none\", \"Waiter Service\": false, \"Accepts Credit Cards\": true, \"Good for Kids\": true, \"Good For Groups\": true, \"Price Range\": 1}, \"type\": \"business\"}\n",
      "b12U9TFESStdy7CsTtcOeg\t{\"business_id\": \"b12U9TFESStdy7CsTtcOeg\", \"full_address\": \"718A Hope Hollow Rd\\nCarnegie, PA 15106\", \"hours\": {\"Monday\": {\"close\": \"18:00\", \"open\": \"07:30\"}, \"Tuesday\": {\"close\": \"18:00\", \"open\": \"07:30\"}, \"Friday\": {\"close\": \"18:00\", \"open\": \"07:30\"}, \"Wednesday\": {\"close\": \"18:00\", \"open\": \"07:30\"}, \"Thursday\": {\"close\": \"18:00\", \"open\": \"07:30\"}, \"Saturday\": {\"close\": \"16:00\", \"open\": \"07:30\"}}, \"open\": true, \"categories\": [\"Auto Repair\", \"Automotive\", \"Tires\"], \"city\": \"Carnegie\", \"review_count\": 9, \"name\": \"Flynn's Tire & Auto Service\", \"neighborhoods\": [], \"longitude\": -80.0844539, \"state\": \"PA\", \"stars\": 2.5, \"latitude\": 40.394588, \"attributes\": {\"Accepts Credit Cards\": true}, \"type\": \"business\"}\n",
      "b12U9TFESStdy7CsTtcOeg\t{\"checkin_info\": {\"5-5\": 2, \"13-2\": 1, \"8-6\": 1, \"5-1\": 2, \"8-2\": 1}, \"type\": \"checkin\", \"business_id\": \"b12U9TFESStdy7CsTtcOeg\"}\n",
      "cE27W9VPgO88Qxe4ol6y_g\t{\"business_id\": \"cE27W9VPgO88Qxe4ol6y_g\", \"full_address\": \"1530 Hamilton Rd\\nBethel Park, PA 15234\", \"hours\": {}, \"open\": false, \"categories\": [\"Active Life\", \"Mini Golf\", \"Golf\"], \"city\": \"Bethel Park\", \"review_count\": 5, \"name\": \"Cool Springs Golf Center\", \"neighborhoods\": [], \"longitude\": -80.0146597, \"state\": \"PA\", \"stars\": 2.5, \"latitude\": 40.3541155, \"attributes\": {\"Good for Kids\": true}, \"type\": \"business\"}\n",
      "cE27W9VPgO88Qxe4ol6y_g\t{\"checkin_info\": {\"9-5\": 1, \"7-5\": 1, \"13-3\": 1, \"17-6\": 1, \"13-0\": 1, \"17-3\": 1, \"10-0\": 1, \"18-4\": 1, \"14-6\": 1}, \"type\": \"checkin\", \"business_id\": \"cE27W9VPgO88Qxe4ol6y_g\"}\n",
      "KayYbHCt-RkbGcPdGOThNg\t{\"business_id\": \"KayYbHCt-RkbGcPdGOThNg\", \"full_address\": \"141 Hawthorne St\\nGreentree\\nCarnegie, PA 15106\", \"hours\": {\"Monday\": {\"close\": \"02:00\", \"open\": \"11:00\"}, \"Tuesday\": {\"close\": \"02:00\", \"open\": \"11:00\"}, \"Friday\": {\"close\": \"02:00\", \"open\": \"11:00\"}, \"Wednesday\": {\"close\": \"02:00\", \"open\": \"11:00\"}, \"Thursday\": {\"close\": \"02:00\", \"open\": \"11:00\"}, \"Sunday\": {\"close\": \"22:00\", \"open\": \"12:00\"}, \"Saturday\": {\"close\": \"02:00\", \"open\": \"12:00\"}}, \"open\": true, \"categories\": [\"Bars\", \"American (Traditional)\", \"Nightlife\", \"Restaurants\"], \"city\": \"Carnegie\", \"review_count\": 23, \"name\": \"Alexion's Bar & Grill\", \"neighborhoods\": [\"Greentree\"], \"longitude\": -80.0675491, \"state\": \"PA\", \"stars\": 4.0, \"latitude\": 40.4154859, \"attributes\": {\"Alcohol\": \"full_bar\", \"Noise Level\": \"loud\", \"Has TV\": true, \"Attire\": \"casual\", \"Ambience\": {\"romantic\": false, \"intimate\": false, \"touristy\": false, \"hipster\": false, \"divey\": false, \"classy\": false, \"trendy\": false, \"upscale\": false, \"casual\": true}, \"Good for Kids\": false, \"Price Range\": 1, \"Good For Dancing\": false, \"Delivery\": false, \"Coat Check\": false, \"Smoking\": \"outdoor\", \"Accepts Credit Cards\": true, \"Take-out\": true, \"Happy Hour\": true, \"Outdoor Seating\": true, \"Takes Reservations\": false, \"Waiter Service\": true, \"Wi-Fi\": \"free\", \"Caters\": false, \"Good For\": {\"dessert\": false, \"latenight\": false, \"lunch\": false, \"dinner\": true, \"brunch\": false, \"breakfast\": false}, \"Parking\": {\"garage\": false, \"street\": false, \"validated\": false, \"lot\": true, \"valet\": false}, \"Music\": {\"dj\": false}, \"Good For Groups\": true}, \"type\": \"business\"}\n",
      "KayYbHCt-RkbGcPdGOThNg\t{\"checkin_info\": {\"23-1\": 1, \"13-4\": 1, \"22-5\": 1, \"17-6\": 1, \"15-1\": 1, \"15-0\": 1, \"15-2\": 2, \"15-5\": 1, \"15-4\": 2, \"18-2\": 1, \"18-3\": 2, \"18-4\": 1, \"8-4\": 1, \"14-0\": 1, \"14-2\": 2, \"14-3\": 2, \"19-5\": 1, \"19-4\": 1, \"13-3\": 2, \"13-2\": 2, \"13-0\": 1, \"11-1\": 2, \"11-0\": 2, \"11-2\": 2, \"12-4\": 3, \"17-4\": 1, \"12-2\": 2, \"9-1\": 1, \"9-4\": 5, \"20-4\": 1, \"10-5\": 1, \"16-3\": 1, \"17-5\": 1, \"16-1\": 1, \"17-3\": 2, \"16-4\": 1, \"16-5\": 1, \"21-4\": 1, \"21-5\": 2, \"10-3\": 1, \"10-4\": 2, \"8-1\": 2, \"21-2\": 1, \"8-3\": 1}, \"type\": \"checkin\", \"business_id\": \"KayYbHCt-RkbGcPdGOThNg\"}\n",
      "mVHrayjG3uZ_RLHkLj-AMg\t{\"business_id\": \"mVHrayjG3uZ_RLHkLj-AMg\", \"full_address\": \"414 Hawkins Ave\\nBraddock, PA 15104\", \"hours\": {\"Tuesday\": {\"close\": \"19:00\", \"open\": \"10:00\"}, \"Friday\": {\"close\": \"20:00\", \"open\": \"10:00\"}, \"Wednesday\": {\"close\": \"19:00\", \"open\": \"10:00\"}, \"Thursday\": {\"close\": \"19:00\", \"open\": \"10:00\"}, \"Saturday\": {\"close\": \"16:00\", \"open\": \"10:00\"}}, \"open\": true, \"categories\": [\"Bars\", \"American (New)\", \"Nightlife\", \"Lounges\", \"Restaurants\"], \"city\": \"Braddock\", \"review_count\": 26, \"name\": \"Emil's Lounge\", \"neighborhoods\": [], \"longitude\": -79.8662107, \"state\": \"PA\", \"stars\": 4.5, \"latitude\": 40.4088301, \"attributes\": {\"Alcohol\": \"full_bar\", \"Noise Level\": \"average\", \"Has TV\": true, \"Attire\": \"casual\", \"Ambience\": {\"romantic\": false, \"intimate\": false, \"classy\": false, \"hipster\": false, \"divey\": true, \"touristy\": false, \"trendy\": false, \"upscale\": false, \"casual\": false}, \"Good for Kids\": true, \"Price Range\": 2, \"Good For Dancing\": false, \"Delivery\": false, \"Coat Check\": false, \"Smoking\": \"no\", \"Accepts Credit Cards\": true, \"Take-out\": true, \"Happy Hour\": false, \"Outdoor Seating\": false, \"Takes Reservations\": false, \"Waiter Service\": true, \"Wi-Fi\": \"no\", \"Caters\": true, \"Good For\": {\"dessert\": false, \"latenight\": false, \"lunch\": true, \"dinner\": false, \"breakfast\": false, \"brunch\": false}, \"Parking\": {\"garage\": false, \"street\": false, \"validated\": false, \"lot\": false, \"valet\": false}, \"Music\": {\"dj\": false}, \"Good For Groups\": true}, \"type\": \"business\"}\n"
     ]
    }
   ],
   "source": [
    "%%sh\n",
    "chmod a+x checkin_mpr.py\n",
    "(head business.json; head checkin.json) | ./checkin_mpr.py | sort | head"
   ]
  },
  {
   "cell_type": "markdown",
   "metadata": {},
   "source": [
    "### Reducer\n",
    "The reducer has more work to do. All the reduce can count on is that\n",
    "- all records with the same key will be delivered to the same reducer\n",
    "- all records with the same key are together in the stream\n",
    "\n",
    "Still the reducer must\n",
    "- identify the origin of the record since we load two data sets\n",
    "- aggregate within the group."
   ]
  },
  {
   "cell_type": "code",
   "execution_count": null,
   "metadata": {
    "ExecuteTime": {
     "end_time": "2017-01-15T20:29:00.473151",
     "start_time": "2017-01-15T20:29:00.465219"
    },
    "collapsed": false
   },
   "outputs": [],
   "source": [
    "# %load checkin_join_reducer.py\n",
    "#!/usr/bin/python\n",
    "### checkin_join_reducer.py\n",
    "\n",
    "## This reducer joins two data sets (business.json and checkin.json) on their business_id\n",
    "import sys\n",
    "import json\n",
    "import numpy as np\n",
    "\n",
    "current_bid = None\n",
    "bid = None\n",
    "reco = None\n",
    "\n",
    "business_list = []\n",
    "checkin_list = []\n",
    "\n",
    "# input comes from STDIN\n",
    "for line in sys.stdin:\n",
    "    # remove leading and trailing whitespace\n",
    "    line = line.strip()\n",
    "\n",
    "    # parse the input we got from mapper.py\n",
    "    bid, rjson = line.split('\\t', 1)\n",
    "\n",
    "    if current_bid == bid:\n",
    "        if '\"type\": \"checkin\"' in rjson:\n",
    "            checkin_list.append(rjson)\n",
    "        else:\n",
    "            business_list.append(rjson)\n",
    "        \n",
    "    else:\n",
    "        if current_bid:\n",
    "            for b in business_list:\n",
    "                for c in checkin_list:\n",
    "                    print '%s\\t%s\\t%s' % (current_bid, b.strip(), c.strip())\n",
    "        current_bid = bid\n",
    "        business_list = []\n",
    "        checkin_list = []\n",
    "        if '\"type\": \"checkin\"' in rjson:\n",
    "            checkin_list.append(rjson)\n",
    "        else:\n",
    "            business_list.append(rjson)\n",
    "\n",
    "# do not forget to output the last word if needed!\n",
    "if current_bid == bid:\n",
    "    for b in business_list:\n",
    "        for c in checkin_list:\n",
    "            print '%s\\t%s\\t%s' % (current_bid, b.strip(), c.strip())\n",
    "            \n"
   ]
  },
  {
   "cell_type": "markdown",
   "metadata": {},
   "source": [
    "This reducer collects all records with the same business_id from both sets and produces all combinations of both sets. This is equivalent to an **inner join**. In order to create a **left outer join** one could also emit business records without any matching checkin records."
   ]
  },
  {
   "cell_type": "code",
   "execution_count": 170,
   "metadata": {
    "ExecuteTime": {
     "end_time": "2017-01-15T20:29:36.913340",
     "start_time": "2017-01-15T20:29:31.025214"
    },
    "collapsed": false
   },
   "outputs": [
    {
     "name": "stdout",
     "output_type": "stream",
     "text": [
      "000i-lkjp-wsnk5s6z3s2Q\t{\"business_id\": \"000i-lkjp-wsnk5s6z3s2Q\", \"full_address\": \"7501 N Cimarron Rd\\nCentennial\\nLas Vegas, NV 89131\", \"hours\": {\"Monday\": {\"close\": \"19:00\", \"open\": \"09:30\"}, \"Tuesday\": {\"close\": \"19:00\", \"open\": \"09:30\"}, \"Friday\": {\"close\": \"19:00\", \"open\": \"09:30\"}, \"Wednesday\": {\"close\": \"19:00\", \"open\": \"09:30\"}, \"Thursday\": {\"close\": \"19:00\", \"open\": \"09:30\"}, \"Sunday\": {\"close\": \"17:00\", \"open\": \"10:00\"}, \"Saturday\": {\"close\": \"19:00\", \"open\": \"09:30\"}}, \"open\": true, \"categories\": [\"Beauty & Spas\", \"Nail Salons\"], \"city\": \"Las Vegas\", \"review_count\": 29, \"name\": \"Orchid Nail Spa\", \"neighborhoods\": [\"Centennial\"], \"longitude\": -115.270268, \"state\": \"NV\", \"stars\": 4.0, \"latitude\": 36.29733, \"attributes\": {\"By Appointment Only\": false, \"Parking\": {\"garage\": false, \"street\": false, \"validated\": false, \"lot\": true, \"valet\": false}, \"Accepts Credit Cards\": true, \"Price Range\": 2}, \"type\": \"business\"}\t{\"checkin_info\": {\"18-0\": 1, \"9-5\": 1, \"10-0\": 1, \"18-1\": 2, \"20-0\": 1, \"13-4\": 1, \"14-6\": 1, \"15-4\": 2, \"15-6\": 1, \"11-5\": 1, \"17-6\": 1, \"18-3\": 1, \"23-6\": 1, \"16-4\": 1, \"17-0\": 1, \"14-4\": 1, \"14-5\": 1, \"12-4\": 1, \"10-4\": 2, \"14-1\": 1, \"19-4\": 1}, \"type\": \"checkin\", \"business_id\": \"000i-lkjp-wsnk5s6z3s2Q\"}\n",
      "008fyQR7HVmsaZHrrZWuLQ\t{\"business_id\": \"008fyQR7HVmsaZHrrZWuLQ\", \"full_address\": \"Aria Resort And Casino\\n3730 Las Vegas Blvd S\\nThe Strip\\nLas Vegas, NV 89158\", \"hours\": {\"Monday\": {\"close\": \"18:00\", \"open\": \"10:00\"}, \"Tuesday\": {\"close\": \"23:00\", \"open\": \"10:00\"}, \"Friday\": {\"close\": \"22:00\", \"open\": \"10:00\"}, \"Wednesday\": {\"close\": \"22:00\", \"open\": \"10:00\"}, \"Thursday\": {\"close\": \"22:00\", \"open\": \"10:00\"}, \"Sunday\": {\"close\": \"18:00\", \"open\": \"10:00\"}, \"Saturday\": {\"close\": \"22:00\", \"open\": \"10:00\"}}, \"open\": false, \"categories\": [\"Arts & Entertainment\", \"Performing Arts\"], \"city\": \"Las Vegas\", \"review_count\": 719, \"name\": \"Zarkana by Cirque du Soleil\", \"neighborhoods\": [\"The Strip\"], \"longitude\": -115.178174972534, \"state\": \"NV\", \"stars\": 3.5, \"latitude\": 36.1071266589059, \"attributes\": {\"Good for Kids\": true, \"Parking\": {\"garage\": true, \"street\": false, \"validated\": false, \"lot\": false, \"valet\": false}}, \"type\": \"business\"}\t{\"checkin_info\": {\"22-5\": 6, \"22-4\": 2, \"22-3\": 5, \"22-1\": 3, \"22-0\": 3, \"19-5\": 24, \"19-4\": 14, \"19-6\": 13, \"19-1\": 9, \"19-0\": 6, \"19-3\": 9, \"19-2\": 3, \"11-5\": 5, \"11-4\": 1, \"11-6\": 3, \"11-2\": 2, \"12-6\": 2, \"12-4\": 2, \"12-5\": 3, \"12-2\": 1, \"12-3\": 1, \"12-0\": 2, \"16-2\": 6, \"16-3\": 12, \"16-1\": 9, \"16-6\": 5, \"16-4\": 13, \"16-5\": 7, \"21-4\": 96, \"21-5\": 116, \"21-6\": 64, \"21-0\": 49, \"21-1\": 74, \"21-2\": 16, \"21-3\": 38, \"20-4\": 34, \"15-1\": 1, \"15-0\": 1, \"15-3\": 2, \"15-2\": 5, \"15-5\": 3, \"15-4\": 1, \"15-6\": 4, \"18-0\": 47, \"18-1\": 65, \"18-2\": 24, \"18-3\": 27, \"18-4\": 66, \"18-5\": 105, \"18-6\": 55, \"6-6\": 1, \"6-1\": 1, \"8-0\": 2, \"8-2\": 1, \"23-2\": 6, \"23-3\": 8, \"23-0\": 12, \"23-1\": 15, \"23-6\": 14, \"23-4\": 20, \"23-5\": 29, \"0-4\": 1, \"0-5\": 6, \"0-6\": 4, \"2-1\": 1, \"2-6\": 1, \"0-2\": 2, \"13-5\": 5, \"7-1\": 1, \"9-1\": 1, \"9-0\": 1, \"9-3\": 2, \"9-2\": 1, \"4-4\": 1, \"4-6\": 1, \"9-6\": 1, \"20-1\": 27, \"20-0\": 25, \"20-3\": 18, \"20-2\": 4, \"20-5\": 45, \"7-6\": 1, \"20-6\": 28, \"17-6\": 3, \"17-5\": 13, \"17-4\": 8, \"17-3\": 3, \"17-2\": 4, \"17-1\": 4, \"17-0\": 3, \"10-1\": 2, \"10-2\": 2, \"10-4\": 2, \"10-5\": 4, \"10-6\": 4, \"0-0\": 3, \"14-4\": 1, \"14-5\": 1, \"14-0\": 1, \"1-0\": 1, \"1-2\": 2, \"1-6\": 4, \"5-6\": 1, \"3-6\": 1}, \"type\": \"checkin\", \"business_id\": \"008fyQR7HVmsaZHrrZWuLQ\"}\n",
      "00eGk1ntf4RiDxVRY3gaIw\t{\"business_id\": \"00eGk1ntf4RiDxVRY3gaIw\", \"full_address\": \"6821 E Superstition Springs\\nMesa, AZ 85209\", \"hours\": {\"Monday\": {\"close\": \"02:00\", \"open\": \"11:00\"}, \"Tuesday\": {\"close\": \"02:00\", \"open\": \"11:00\"}, \"Friday\": {\"close\": \"02:00\", \"open\": \"11:00\"}, \"Wednesday\": {\"close\": \"02:00\", \"open\": \"11:00\"}, \"Thursday\": {\"close\": \"02:00\", \"open\": \"11:00\"}, \"Sunday\": {\"close\": \"02:00\", \"open\": \"11:00\"}, \"Saturday\": {\"close\": \"02:00\", \"open\": \"11:00\"}}, \"open\": false, \"categories\": [\"American (Traditional)\", \"Pizza\", \"Salad\", \"Restaurants\"], \"city\": \"Mesa\", \"review_count\": 42, \"name\": \"Old Chicago\", \"neighborhoods\": [], \"longitude\": -111.6837464, \"state\": \"AZ\", \"stars\": 3.0, \"latitude\": 33.3832251, \"attributes\": {\"Alcohol\": \"full_bar\", \"Noise Level\": \"average\", \"Music\": {\"dj\": false, \"background_music\": true, \"jukebox\": false, \"live\": false, \"video\": false, \"karaoke\": false}, \"Attire\": \"casual\", \"Ambience\": {\"romantic\": false, \"intimate\": false, \"touristy\": false, \"hipster\": false, \"divey\": false, \"classy\": false, \"trendy\": false, \"upscale\": false, \"casual\": true}, \"Good for Kids\": true, \"Wheelchair Accessible\": true, \"Good For Dancing\": false, \"Delivery\": false, \"Coat Check\": false, \"Smoking\": \"outdoor\", \"Accepts Credit Cards\": true, \"Take-out\": true, \"Price Range\": 2, \"Happy Hour\": true, \"Outdoor Seating\": true, \"Takes Reservations\": false, \"Waiter Service\": true, \"Wi-Fi\": \"free\", \"Good For\": {\"dessert\": false, \"latenight\": false, \"lunch\": true, \"dinner\": false, \"breakfast\": false, \"brunch\": false}, \"Parking\": {\"garage\": false, \"street\": false, \"validated\": false, \"lot\": true, \"valet\": false}, \"Has TV\": true, \"Good For Groups\": true}, \"type\": \"business\"}\t{\"checkin_info\": {\"23-6\": 1, \"11-3\": 1, \"11-6\": 1, \"21-2\": 1, \"11-2\": 1, \"0-6\": 2, \"15-4\": 4, \"22-3\": 2, \"21-4\": 7, \"13-0\": 3, \"22-1\": 1, \"23-2\": 1, \"22-5\": 4, \"16-3\": 4, \"15-1\": 2, \"10-4\": 1, \"15-3\": 2, \"15-5\": 5, \"17-5\": 9, \"15-6\": 4, \"18-0\": 5, \"18-1\": 5, \"18-2\": 8, \"22-4\": 3, \"18-4\": 9, \"18-5\": 7, \"23-4\": 11, \"23-5\": 1, \"14-4\": 5, \"14-5\": 2, \"22-0\": 4, \"14-0\": 1, \"16-6\": 8, \"23-3\": 2, \"18-6\": 7, \"0-2\": 1, \"15-0\": 2, \"19-5\": 11, \"19-4\": 11, \"19-6\": 4, \"19-1\": 4, \"19-0\": 4, \"19-3\": 6, \"19-2\": 7, \"11-5\": 4, \"9-1\": 1, \"17-0\": 6, \"11-1\": 2, \"11-0\": 4, \"13-5\": 5, \"13-4\": 3, \"12-6\": 3, \"16-1\": 4, \"6-4\": 1, \"12-5\": 3, \"12-2\": 1, \"14-6\": 5, \"12-0\": 2, \"12-1\": 1, \"17-1\": 5, \"9-3\": 1, \"9-2\": 2, \"18-3\": 7, \"20-0\": 1, \"20-3\": 2, \"20-2\": 6, \"20-5\": 4, \"20-4\": 14, \"20-6\": 3, \"16-2\": 6, \"17-6\": 7, \"16-0\": 7, \"17-4\": 5, \"17-3\": 5, \"17-2\": 4, \"16-4\": 4, \"16-5\": 1, \"8-4\": 2, \"21-5\": 6, \"21-6\": 3, \"8-3\": 1, \"21-0\": 3, \"21-1\": 4, \"10-6\": 2, \"13-6\": 11}, \"type\": \"checkin\", \"business_id\": \"00eGk1ntf4RiDxVRY3gaIw\"}\n"
     ]
    },
    {
     "name": "stderr",
     "output_type": "stream",
     "text": [
      "Traceback (most recent call last):\n",
      "  File \"./checkin_join_reducer.py\", line 34, in <module>\n",
      "    print '%s\\t%s\\t%s' % (current_bid, b.strip(), c.strip())\n",
      "IOError: [Errno 32] Broken pipe\n",
      "sort: write failed: standard output: Broken pipe\n",
      "sort: write error\n"
     ]
    }
   ],
   "source": [
    "%%sh\n",
    "chmod a+x ./checkin_join_reducer.py\n",
    "cat business.json checkin.json | ./checkin_mpr.py | sort | ./checkin_join_reducer.py | head -3"
   ]
  },
  {
   "cell_type": "markdown",
   "metadata": {},
   "source": [
    "We now have the city and state data linked to every checkin record. In a second step we can aggregate the check-in hours by city.\n",
    "\n",
    "The mapper:"
   ]
  },
  {
   "cell_type": "code",
   "execution_count": null,
   "metadata": {
    "ExecuteTime": {
     "end_time": "2017-01-15T20:43:59.485992",
     "start_time": "2017-01-15T20:43:59.479322"
    },
    "collapsed": true
   },
   "outputs": [],
   "source": [
    "# %load checkin_by_city_mpr.py\n",
    "#!/usr/bin/python\n",
    "# get data in the format business_id {business.json} {checkin.json}\n",
    "# produce records with city/state key\n",
    "\n",
    "import sys\n",
    "import json\n",
    "\n",
    "for line in sys.stdin:\n",
    "    line = line.strip()\n",
    "    try:\n",
    "        bid, bjson, cjson = line.split('\\t')\n",
    "        brec = json.loads(bjson)\n",
    "        print \"%s/%s\\t%s\" % (brec['city'].strip(), brec['state'].strip(), cjson)\n",
    "    except:\n",
    "        None\n",
    "        \n"
   ]
  },
  {
   "cell_type": "code",
   "execution_count": 179,
   "metadata": {
    "ExecuteTime": {
     "end_time": "2017-01-15T20:57:00.552219",
     "start_time": "2017-01-15T20:56:51.500628"
    },
    "collapsed": false
   },
   "outputs": [
    {
     "name": "stdout",
     "output_type": "stream",
     "text": [
      "Las Vegas/NV\t{\"checkin_info\": {\"18-0\": 1, \"9-5\": 1, \"10-0\": 1, \"18-1\": 2, \"20-0\": 1, \"13-4\": 1, \"14-6\": 1, \"15-4\": 2, \"15-6\": 1, \"11-5\": 1, \"17-6\": 1, \"18-3\": 1, \"23-6\": 1, \"16-4\": 1, \"17-0\": 1, \"14-4\": 1, \"14-5\": 1, \"12-4\": 1, \"10-4\": 2, \"14-1\": 1, \"19-4\": 1}, \"type\": \"checkin\", \"business_id\": \"000i-lkjp-wsnk5s6z3s2Q\"}\n",
      "Las Vegas/NV\t{\"checkin_info\": {\"22-5\": 6, \"22-4\": 2, \"22-3\": 5, \"22-1\": 3, \"22-0\": 3, \"19-5\": 24, \"19-4\": 14, \"19-6\": 13, \"19-1\": 9, \"19-0\": 6, \"19-3\": 9, \"19-2\": 3, \"11-5\": 5, \"11-4\": 1, \"11-6\": 3, \"11-2\": 2, \"12-6\": 2, \"12-4\": 2, \"12-5\": 3, \"12-2\": 1, \"12-3\": 1, \"12-0\": 2, \"16-2\": 6, \"16-3\": 12, \"16-1\": 9, \"16-6\": 5, \"16-4\": 13, \"16-5\": 7, \"21-4\": 96, \"21-5\": 116, \"21-6\": 64, \"21-0\": 49, \"21-1\": 74, \"21-2\": 16, \"21-3\": 38, \"20-4\": 34, \"15-1\": 1, \"15-0\": 1, \"15-3\": 2, \"15-2\": 5, \"15-5\": 3, \"15-4\": 1, \"15-6\": 4, \"18-0\": 47, \"18-1\": 65, \"18-2\": 24, \"18-3\": 27, \"18-4\": 66, \"18-5\": 105, \"18-6\": 55, \"6-6\": 1, \"6-1\": 1, \"8-0\": 2, \"8-2\": 1, \"23-2\": 6, \"23-3\": 8, \"23-0\": 12, \"23-1\": 15, \"23-6\": 14, \"23-4\": 20, \"23-5\": 29, \"0-4\": 1, \"0-5\": 6, \"0-6\": 4, \"2-1\": 1, \"2-6\": 1, \"0-2\": 2, \"13-5\": 5, \"7-1\": 1, \"9-1\": 1, \"9-0\": 1, \"9-3\": 2, \"9-2\": 1, \"4-4\": 1, \"4-6\": 1, \"9-6\": 1, \"20-1\": 27, \"20-0\": 25, \"20-3\": 18, \"20-2\": 4, \"20-5\": 45, \"7-6\": 1, \"20-6\": 28, \"17-6\": 3, \"17-5\": 13, \"17-4\": 8, \"17-3\": 3, \"17-2\": 4, \"17-1\": 4, \"17-0\": 3, \"10-1\": 2, \"10-2\": 2, \"10-4\": 2, \"10-5\": 4, \"10-6\": 4, \"0-0\": 3, \"14-4\": 1, \"14-5\": 1, \"14-0\": 1, \"1-0\": 1, \"1-2\": 2, \"1-6\": 4, \"5-6\": 1, \"3-6\": 1}, \"type\": \"checkin\", \"business_id\": \"008fyQR7HVmsaZHrrZWuLQ\"}\n",
      "Mesa/AZ\t{\"checkin_info\": {\"23-6\": 1, \"11-3\": 1, \"11-6\": 1, \"21-2\": 1, \"11-2\": 1, \"0-6\": 2, \"15-4\": 4, \"22-3\": 2, \"21-4\": 7, \"13-0\": 3, \"22-1\": 1, \"23-2\": 1, \"22-5\": 4, \"16-3\": 4, \"15-1\": 2, \"10-4\": 1, \"15-3\": 2, \"15-5\": 5, \"17-5\": 9, \"15-6\": 4, \"18-0\": 5, \"18-1\": 5, \"18-2\": 8, \"22-4\": 3, \"18-4\": 9, \"18-5\": 7, \"23-4\": 11, \"23-5\": 1, \"14-4\": 5, \"14-5\": 2, \"22-0\": 4, \"14-0\": 1, \"16-6\": 8, \"23-3\": 2, \"18-6\": 7, \"0-2\": 1, \"15-0\": 2, \"19-5\": 11, \"19-4\": 11, \"19-6\": 4, \"19-1\": 4, \"19-0\": 4, \"19-3\": 6, \"19-2\": 7, \"11-5\": 4, \"9-1\": 1, \"17-0\": 6, \"11-1\": 2, \"11-0\": 4, \"13-5\": 5, \"13-4\": 3, \"12-6\": 3, \"16-1\": 4, \"6-4\": 1, \"12-5\": 3, \"12-2\": 1, \"14-6\": 5, \"12-0\": 2, \"12-1\": 1, \"17-1\": 5, \"9-3\": 1, \"9-2\": 2, \"18-3\": 7, \"20-0\": 1, \"20-3\": 2, \"20-2\": 6, \"20-5\": 4, \"20-4\": 14, \"20-6\": 3, \"16-2\": 6, \"17-6\": 7, \"16-0\": 7, \"17-4\": 5, \"17-3\": 5, \"17-2\": 4, \"16-4\": 4, \"16-5\": 1, \"8-4\": 2, \"21-5\": 6, \"21-6\": 3, \"8-3\": 1, \"21-0\": 3, \"21-1\": 4, \"10-6\": 2, \"13-6\": 11}, \"type\": \"checkin\", \"business_id\": \"00eGk1ntf4RiDxVRY3gaIw\"}\n"
     ]
    },
    {
     "name": "stderr",
     "output_type": "stream",
     "text": [
      "close failed in file object destructor:\n",
      "sys.excepthook is missing\n",
      "lost sys.stderr\n"
     ]
    }
   ],
   "source": [
    "%%sh\n",
    "chmod a+x checkin_by_city_mpr.py\n",
    "cat business.json checkin.json | ./checkin_mpr.py | sort | ./checkin_join_reducer.py | ./checkin_by_city_mpr.py | head -3"
   ]
  },
  {
   "cell_type": "markdown",
   "metadata": {},
   "source": []
  },
  {
   "cell_type": "code",
   "execution_count": null,
   "metadata": {
    "ExecuteTime": {
     "end_time": "2017-01-15T21:20:20.284757",
     "start_time": "2017-01-15T21:20:20.277742"
    },
    "collapsed": true
   },
   "outputs": [],
   "source": [
    "# %load checkin_by_city_reducer.py\n",
    "#!/usr/bin/python\n",
    "### checkin_by_city_reducer.py\n",
    "\n",
    "import sys\n",
    "import json\n",
    "import numpy as np\n",
    "\n",
    "current_city_state = None\n",
    "city_state = None\n",
    "reco = None\n",
    "\n",
    "# the vector to aggregate checkins per hour per day\n",
    "check_vec = np.zeros(7*24)\n",
    "check_n = 0\n",
    "\n",
    "\n",
    "# input comes from STDIN\n",
    "for line in sys.stdin:\n",
    "    # remove leading and trailing whitespace\n",
    "    line = line.strip()\n",
    "\n",
    "    # parse the input we got from mapper.py\n",
    "    city_state, rjson = line.split('\\t', 1)\n",
    "\n",
    "    # convert count (currently a string) to int\n",
    "    try:\n",
    "        reco = json.loads(rjson)\n",
    "    except ValueError:\n",
    "        # count was not a number, so silently\n",
    "        # ignore/discard this line\n",
    "        continue\n",
    "\n",
    "    # this IF-switch only works because Hadoop sorts map output\n",
    "    # by key (here: word) before it is passed to the reducer\n",
    "    if current_city_state == city_state:\n",
    "        for k in reco['checkin_info'].keys():\n",
    "            k2 = k.split('-')\n",
    "            h = int(k2[0])\n",
    "            d = int(k2[1])\n",
    "            c = int(reco['checkin_info'][k])\n",
    "            check_vec[h*7+d] += c\n",
    "        check_n += 1\n",
    "    else:\n",
    "        if current_city_state and (check_n > 0):\n",
    "            print '%s|%s' % (current_city_state, '|'.join([str(x) for x in check_vec/check_n]))\n",
    "        current_city_state = city_state\n",
    "        check_vec = np.zeros(7*24)\n",
    "        for k in reco['checkin_info'].keys():\n",
    "            k2 = k.split('-')\n",
    "            h = int(k2[0])\n",
    "            d = int(k2[1])\n",
    "            c = int(reco['checkin_info'][k])\n",
    "            check_vec[h*7+d] += c\n",
    "        check_n = 1\n",
    "\n",
    "\n",
    "# do not forget to output the last word if needed!\n",
    "if current_city_state and (check_n > 0):\n",
    "            print '%s|%s' % (current_city_state, '|'.join([str(x) for x in check_vec/check_n]))\n"
   ]
  },
  {
   "cell_type": "code",
   "execution_count": 181,
   "metadata": {
    "ExecuteTime": {
     "end_time": "2017-01-15T20:59:08.430948",
     "start_time": "2017-01-15T20:58:57.887424"
    },
    "collapsed": true
   },
   "outputs": [
    {
     "name": "stdout",
     "output_type": "stream",
     "text": [
      "110 Las Vegas/NV,0.0,0.0,0.0,0.0,0.0,0.0,0.0,0.0,0.0,0.0,0.0,0.0,0.0,0.0,0.0,0.0,0.0,0.0,0.0,0.0,0.0,0.0,0.0,0.0,0.0,0.0,0.0,0.0,0.0,0.0,0.0,0.0,0.0,0.0,0.0,0.0,0.0,0.0,0.0,0.0,0.0,0.0,0.0,0.0,0.0,0.0,0.0,0.0,0.0,0.0,0.0,0.0,0.0,0.0,0.0,0.0,2.0,0.0,1.0,0.0,3.0,0.0,0.0,0.0,0.0,2.0,1.0,4.0,0.0,0.0,1.0,0.0,1.0,2.0,0.0,1.0,0.0,0.0,1.0,2.0,1.0,0.0,0.0,0.0,0.0,1.0,0.0,0.0,1.0,1.0,0.0,0.0,0.0,0.0,0.0,0.0,0.0,0.0,0.0,0.0,0.0,1.0,1.0,0.0,0.0,1.0,0.0,0.0,1.0,1.0,1.0,0.0,2.0,1.0,0.0,0.0,0.0,0.0,0.0,0.0,0.0,1.0,1.0,0.0,0.0,0.0,0.0,0.0,0.0,0.0,0.0,0.0,0.0,0.0,0.0,0.0,0.0,0.0,0.0,0.0,0.0,0.0,0.0,0.0,0.0,0.0,0.0,0.0,0.0,0.0,0.0,0.0,0.0,0.0,0.0,0.0,0.0,0.0,0.0,0.0,0.0,0.0,0.0,0.0,0.0,0.0,0.0,0.0\n",
      "Ahwatukee/AZ,0.0,0.0,0.0,0.0,0.0,0.0909090909091,0.272727272727,0.0909090909091,0.0,0.0,0.0,0.0,0.0,0.0,0.0,0.0,0.0,0.0,0.0,0.0909090909091,0.0,0.0,0.0,0.0,0.0,0.0,0.0,0.0,0.0,0.0,0.0,0.0909090909091,0.0,0.0,0.0,0.0,0.181818181818,0.0909090909091,0.0,0.0,0.0909090909091,0.0909090909091,0.181818181818,0.0909090909091,0.0909090909091,0.181818181818,0.363636363636,0.181818181818,0.0,0.454545454545,0.363636363636,0.545454545455,0.454545454545,0.363636363636,0.454545454545,0.272727272727,0.909090909091,1.18181818182,0.818181818182,0.818181818182,0.818181818182,1.0,2.0,1.18181818182,1.09090909091,0.727272727273,1.09090909091,1.18181818182,2.36363636364,1.18181818182,1.63636363636,1.0,0.636363636364,0.909090909091,1.0,2.18181818182,1.90909090909,1.45454545455,0.909090909091,0.818181818182,1.54545454545,0.818181818182,2.81818181818,1.81818181818,0.727272727273,1.09090909091,0.454545454545,1.0,1.0,2.90909090909,1.90909090909,0.272727272727,0.272727272727,0.454545454545,0.636363636364,1.09090909091,2.18181818182,1.54545454545,0.272727272727,0.363636363636,0.636363636364,0.363636363636,0.545454545455,1.0,1.0,0.545454545455,0.272727272727,1.0,0.636363636364,1.27272727273,2.54545454545,0.636363636364,1.45454545455,1.27272727273,1.18181818182,2.18181818182,3.54545454545,1.81818181818,0.545454545455,2.90909090909,1.90909090909,1.81818181818,3.54545454545,4.36363636364,2.90909090909,1.36363636364,2.63636363636,1.36363636364,2.81818181818,2.27272727273,5.54545454545,4.09090909091,1.63636363636,0.818181818182,2.09090909091,1.45454545455,2.18181818182,4.18181818182,3.36363636364,0.272727272727,0.272727272727,0.909090909091,1.45454545455,1.63636363636,2.81818181818,2.36363636364,0.0909090909091,0.0909090909091,0.363636363636,0.363636363636,0.181818181818,0.727272727273,1.72727272727,0.0,0.0,0.0909090909091,0.0,0.0909090909091,0.727272727273,0.545454545455,0.0,0.0,0.0,0.0,0.0,0.181818181818,0.272727272727,0.0\n",
      "Ahwatukee Foothills Village/AZ,0.0,0.0,0.0,0.0,0.0,0.0,0.0,0.0,0.0,0.0,0.0,0.0,0.0,0.0,0.0,0.0,0.0,0.0,0.0,0.0,0.0,0.0,0.0,0.0,0.0,0.0,0.0,0.0,0.0,0.0,0.0,0.0,0.0,0.0,0.0,0.0,0.0,1.0,0.0,0.0,1.0,0.0,0.0,0.0,0.0,1.0,0.0,3.0,0.0,0.0,0.0,0.0,0.0,1.0,1.0,0.0,0.0,0.0,0.0,0.0,0.0,1.0,0.0,0.0,0.0,1.0,0.0,0.0,4.0,0.0,0.0,0.0,0.0,0.0,0.0,1.0,0.0,1.0,0.0,0.0,0.0,1.0,1.0,0.0,0.0,0.0,0.0,0.0,0.0,2.0,0.0,0.0,0.0,0.0,0.0,0.0,0.0,1.0,0.0,0.0,0.0,0.0,1.0,1.0,0.0,0.0,0.0,0.0,0.0,0.0,0.0,1.0,1.0,0.0,0.0,0.0,0.0,0.0,1.0,0.0,1.0,0.0,0.0,0.0,0.0,1.0,0.0,1.0,0.0,0.0,0.0,0.0,0.0,0.0,0.0,0.0,0.0,0.0,0.0,0.0,0.0,0.0,0.0,0.0,0.0,0.0,0.0,0.0,0.0,0.0,0.0,0.0,0.0,0.0,0.0,0.0,0.0,0.0,0.0,0.0,0.0,0.0,0.0,0.0,0.0,0.0,0.0,0.0\n"
     ]
    },
    {
     "name": "stderr",
     "output_type": "stream",
     "text": [
      "Traceback (most recent call last):\n",
      "  File \"./checkin_by_city_reducer.py\", line 45, in <module>\n",
      "    print '%s,%s' % (current_city_state, ','.join([str(x) for x in check_vec/check_n]))\n",
      "IOError: [Errno 32] Broken pipe\n",
      "sort: write failed: standard output: Broken pipe\n",
      "sort: write error\n"
     ]
    }
   ],
   "source": [
    "%%sh\n",
    "chmod a+x checkin_by_city_reducer.py\n",
    "cat business.json checkin.json | ./checkin_mpr.py | sort | ./checkin_join_reducer.py | ./checkin_by_city_mpr.py | sort | ./checkin_by_city_reducer.py | head -3"
   ]
  },
  {
   "cell_type": "markdown",
   "metadata": {},
   "source": [
    "Now in MapReduce. Unfortunately we can't pipe from one MapReduce stage to the next. Instead, we call one job after the other"
   ]
  },
  {
   "cell_type": "code",
   "execution_count": 202,
   "metadata": {
    "ExecuteTime": {
     "end_time": "2017-01-15T21:22:17.851593",
     "start_time": "2017-01-15T21:21:19.856689"
    },
    "collapsed": false
   },
   "outputs": [
    {
     "name": "stdout",
     "output_type": "stream",
     "text": [
      "Deleted /user/pmolnar/yelp/output/checkin_join\n",
      "Deleted /user/pmolnar/yelp/output/checkin_by_city\n",
      "packageJobJar: [] [/usr/hdp/2.4.2.0-258/hadoop-mapreduce/hadoop-streaming-2.7.1.2.4.2.0-258.jar] /var/lib/ambari-agent/tmp/hadoop_java_io_tmpdir/streamjob4594613867497584370.jar tmpDir=null\n",
      "packageJobJar: [] [/usr/hdp/2.4.2.0-258/hadoop-mapreduce/hadoop-streaming-2.7.1.2.4.2.0-258.jar] /var/lib/ambari-agent/tmp/hadoop_java_io_tmpdir/streamjob8383030756172632043.jar tmpDir=null\n"
     ]
    },
    {
     "name": "stderr",
     "output_type": "stream",
     "text": [
      "17/01/15 21:21:26 INFO impl.TimelineClientImpl: Timeline service address: http://backend-0-2.insight.gsu.edu:8188/ws/v1/timeline/\n",
      "17/01/15 21:21:27 INFO client.RMProxy: Connecting to ResourceManager at backend-0-1.insight.gsu.edu/192.168.1.253:8050\n",
      "17/01/15 21:21:27 INFO impl.TimelineClientImpl: Timeline service address: http://backend-0-2.insight.gsu.edu:8188/ws/v1/timeline/\n",
      "17/01/15 21:21:27 INFO client.RMProxy: Connecting to ResourceManager at backend-0-1.insight.gsu.edu/192.168.1.253:8050\n",
      "17/01/15 21:21:27 INFO mapred.FileInputFormat: Total input paths to process : 22\n",
      "17/01/15 21:21:27 INFO mapreduce.JobSubmitter: number of splits:22\n",
      "17/01/15 21:21:27 INFO mapreduce.JobSubmitter: Submitting tokens for job: job_1483712992215_0016\n",
      "17/01/15 21:21:28 INFO impl.YarnClientImpl: Submitted application application_1483712992215_0016\n",
      "17/01/15 21:21:28 INFO mapreduce.Job: The url to track the job: http://backend-0-1.insight.gsu.edu:8088/proxy/application_1483712992215_0016/\n",
      "17/01/15 21:21:28 INFO mapreduce.Job: Running job: job_1483712992215_0016\n",
      "17/01/15 21:21:33 INFO mapreduce.Job: Job job_1483712992215_0016 running in uber mode : false\n",
      "17/01/15 21:21:33 INFO mapreduce.Job:  map 0% reduce 0%\n",
      "17/01/15 21:21:42 INFO mapreduce.Job:  map 45% reduce 0%\n",
      "17/01/15 21:21:43 INFO mapreduce.Job:  map 100% reduce 0%\n",
      "17/01/15 21:21:49 INFO mapreduce.Job:  map 100% reduce 100%\n",
      "17/01/15 21:21:49 INFO mapreduce.Job: Job job_1483712992215_0016 completed successfully\n",
      "17/01/15 21:21:49 INFO mapreduce.Job: Counters: 49\n",
      "\tFile System Counters\n",
      "\t\tFILE: Number of bytes read=109502906\n",
      "\t\tFILE: Number of bytes written=222184105\n",
      "\t\tFILE: Number of read operations=0\n",
      "\t\tFILE: Number of large read operations=0\n",
      "\t\tFILE: Number of write operations=0\n",
      "\t\tHDFS: Number of bytes read=16361479\n",
      "\t\tHDFS: Number of bytes written=89505143\n",
      "\t\tHDFS: Number of read operations=69\n",
      "\t\tHDFS: Number of large read operations=0\n",
      "\t\tHDFS: Number of write operations=2\n",
      "\tJob Counters \n",
      "\t\tLaunched map tasks=22\n",
      "\t\tLaunched reduce tasks=1\n",
      "\t\tData-local map tasks=22\n",
      "\t\tTotal time spent by all maps in occupied slots (ms)=164206\n",
      "\t\tTotal time spent by all reduces in occupied slots (ms)=8272\n",
      "\t\tTotal time spent by all map tasks (ms)=164206\n",
      "\t\tTotal time spent by all reduce tasks (ms)=4136\n",
      "\t\tTotal vcore-seconds taken by all map tasks=164206\n",
      "\t\tTotal vcore-seconds taken by all reduce tasks=4136\n",
      "\t\tTotal megabyte-seconds taken by all map tasks=1345175552\n",
      "\t\tTotal megabyte-seconds taken by all reduce tasks=67764224\n",
      "\tMap-Reduce Framework\n",
      "\t\tMap input records=146950\n",
      "\t\tMap output records=146950\n",
      "\t\tMap output bytes=108944215\n",
      "\t\tMap output materialized bytes=109503032\n",
      "\t\tInput split bytes=3124\n",
      "\t\tCombine input records=0\n",
      "\t\tCombine output records=0\n",
      "\t\tReduce input groups=85901\n",
      "\t\tReduce shuffle bytes=109503032\n",
      "\t\tReduce input records=146950\n",
      "\t\tReduce output records=61049\n",
      "\t\tSpilled Records=293900\n",
      "\t\tShuffled Maps =22\n",
      "\t\tFailed Shuffles=0\n",
      "\t\tMerged Map outputs=22\n",
      "\t\tGC time elapsed (ms)=4708\n",
      "\t\tCPU time spent (ms)=64350\n",
      "\t\tPhysical memory (bytes) snapshot=49261912064\n",
      "\t\tVirtual memory (bytes) snapshot=217143078912\n",
      "\t\tTotal committed heap usage (bytes)=60919119872\n",
      "\tShuffle Errors\n",
      "\t\tBAD_ID=0\n",
      "\t\tCONNECTION=0\n",
      "\t\tIO_ERROR=0\n",
      "\t\tWRONG_LENGTH=0\n",
      "\t\tWRONG_MAP=0\n",
      "\t\tWRONG_REDUCE=0\n",
      "\tFile Input Format Counters \n",
      "\t\tBytes Read=16358355\n",
      "\tFile Output Format Counters \n",
      "\t\tBytes Written=89505143\n",
      "17/01/15 21:21:49 INFO streaming.StreamJob: Output directory: /user/pmolnar/yelp/output/checkin_join\n",
      "17/01/15 21:21:51 INFO impl.TimelineClientImpl: Timeline service address: http://backend-0-2.insight.gsu.edu:8188/ws/v1/timeline/\n",
      "17/01/15 21:21:51 INFO client.RMProxy: Connecting to ResourceManager at backend-0-1.insight.gsu.edu/192.168.1.253:8050\n",
      "17/01/15 21:21:52 INFO impl.TimelineClientImpl: Timeline service address: http://backend-0-2.insight.gsu.edu:8188/ws/v1/timeline/\n",
      "17/01/15 21:21:52 INFO client.RMProxy: Connecting to ResourceManager at backend-0-1.insight.gsu.edu/192.168.1.253:8050\n",
      "17/01/15 21:21:52 INFO mapred.FileInputFormat: Total input paths to process : 1\n",
      "17/01/15 21:21:52 INFO mapreduce.JobSubmitter: number of splits:2\n",
      "17/01/15 21:21:52 INFO mapreduce.JobSubmitter: Submitting tokens for job: job_1483712992215_0017\n",
      "17/01/15 21:21:53 INFO impl.YarnClientImpl: Submitted application application_1483712992215_0017\n",
      "17/01/15 21:21:53 INFO mapreduce.Job: The url to track the job: http://backend-0-1.insight.gsu.edu:8088/proxy/application_1483712992215_0017/\n",
      "17/01/15 21:21:53 INFO mapreduce.Job: Running job: job_1483712992215_0017\n",
      "17/01/15 21:21:58 INFO mapreduce.Job: Job job_1483712992215_0017 running in uber mode : false\n",
      "17/01/15 21:21:58 INFO mapreduce.Job:  map 0% reduce 0%\n",
      "17/01/15 21:22:05 INFO mapreduce.Job:  map 100% reduce 0%\n",
      "17/01/15 21:22:16 INFO mapreduce.Job:  map 100% reduce 95%\n",
      "17/01/15 21:22:17 INFO mapreduce.Job:  map 100% reduce 100%\n",
      "17/01/15 21:22:17 INFO mapreduce.Job: Job job_1483712992215_0017 completed successfully\n",
      "17/01/15 21:22:17 INFO mapreduce.Job: Counters: 49\n",
      "\tFile System Counters\n",
      "\t\tFILE: Number of bytes read=27977611\n",
      "\t\tFILE: Number of bytes written=56369566\n",
      "\t\tFILE: Number of read operations=0\n",
      "\t\tFILE: Number of large read operations=0\n",
      "\t\tFILE: Number of write operations=0\n",
      "\t\tHDFS: Number of bytes read=89636495\n",
      "\t\tHDFS: Number of bytes written=413406\n",
      "\t\tHDFS: Number of read operations=9\n",
      "\t\tHDFS: Number of large read operations=0\n",
      "\t\tHDFS: Number of write operations=2\n",
      "\tJob Counters \n",
      "\t\tLaunched map tasks=2\n",
      "\t\tLaunched reduce tasks=1\n",
      "\t\tData-local map tasks=2\n",
      "\t\tTotal time spent by all maps in occupied slots (ms)=9766\n",
      "\t\tTotal time spent by all reduces in occupied slots (ms)=17616\n",
      "\t\tTotal time spent by all map tasks (ms)=9766\n",
      "\t\tTotal time spent by all reduce tasks (ms)=8808\n",
      "\t\tTotal vcore-seconds taken by all map tasks=9766\n",
      "\t\tTotal vcore-seconds taken by all reduce tasks=8808\n",
      "\t\tTotal megabyte-seconds taken by all map tasks=80003072\n",
      "\t\tTotal megabyte-seconds taken by all reduce tasks=144310272\n",
      "\tMap-Reduce Framework\n",
      "\t\tMap input records=61049\n",
      "\t\tMap output records=57581\n",
      "\t\tMap output bytes=27774110\n",
      "\t\tMap output materialized bytes=27977617\n",
      "\t\tInput split bytes=280\n",
      "\t\tCombine input records=0\n",
      "\t\tCombine output records=0\n",
      "\t\tReduce input groups=365\n",
      "\t\tReduce shuffle bytes=27977617\n",
      "\t\tReduce input records=57581\n",
      "\t\tReduce output records=365\n",
      "\t\tSpilled Records=115162\n",
      "\t\tShuffled Maps =2\n",
      "\t\tFailed Shuffles=0\n",
      "\t\tMerged Map outputs=2\n",
      "\t\tGC time elapsed (ms)=200\n",
      "\t\tCPU time spent (ms)=18580\n",
      "\t\tPhysical memory (bytes) snapshot=3910488064\n",
      "\t\tVirtual memory (bytes) snapshot=34532933632\n",
      "\t\tTotal committed heap usage (bytes)=5981601792\n",
      "\tShuffle Errors\n",
      "\t\tBAD_ID=0\n",
      "\t\tCONNECTION=0\n",
      "\t\tIO_ERROR=0\n",
      "\t\tWRONG_LENGTH=0\n",
      "\t\tWRONG_MAP=0\n",
      "\t\tWRONG_REDUCE=0\n",
      "\tFile Input Format Counters \n",
      "\t\tBytes Read=89636215\n",
      "\tFile Output Format Counters \n",
      "\t\tBytes Written=413406\n",
      "17/01/15 21:22:17 INFO streaming.StreamJob: Output directory: /user/pmolnar/yelp/output/checkin_by_city\n"
     ]
    }
   ],
   "source": [
    "%%sh\n",
    "# use the current directory as location for program files\n",
    "WD=`pwd`\n",
    "\n",
    "OUTDIR=/user/$USER/yelp/output\n",
    "OUTPUT_1=$OUTDIR/checkin_join\n",
    "OUTPUT_2=$OUTDIR/checkin_by_city\n",
    "\n",
    "# make sure output directory exists\n",
    "hdfs dfs -mkdir -p $OUTDIR \n",
    "\n",
    "# make sure the output files don't exist\n",
    "\n",
    "hdfs dfs -rm -r -f -skipTrash $OUTPUT_1\n",
    "hdfs dfs -rm -r -f -skipTrash $OUTPUT_2\n",
    "\n",
    "INPUT=/user/$USER/yelp/data/business/*,/user/$USER/yelp/data/checkin/*\n",
    "\n",
    "yarn \\\n",
    "    jar /usr/hdp/2.4.2.0-258/hadoop-mapreduce/hadoop-streaming-2.7.1.2.4.2.0-258.jar \\\n",
    "    -mapper \"$WD/checkin_mpr.py\" \\\n",
    "    -reducer \"$WD/checkin_join_reducer.py\" \\\n",
    "    -input $INPUT \\\n",
    "    -output $OUTPUT_1\n",
    "\n",
    "yarn \\\n",
    "    jar /usr/hdp/2.4.2.0-258/hadoop-mapreduce/hadoop-streaming-2.7.1.2.4.2.0-258.jar \\\n",
    "    -mapper \"$WD/checkin_by_city_mpr.py\" \\\n",
    "    -reducer \"$WD/checkin_by_city_reducer.py\" \\\n",
    "    -input $OUTPUT_1/part* \\\n",
    "    -output $OUTPUT_2"
   ]
  },
  {
   "cell_type": "code",
   "execution_count": 203,
   "metadata": {
    "ExecuteTime": {
     "end_time": "2017-01-15T21:22:37.026470",
     "start_time": "2017-01-15T21:22:35.023122"
    },
    "collapsed": false
   },
   "outputs": [],
   "source": [
    "%%sh\n",
    "hdfs dfs -getmerge -nl /user/$USER/yelp/output/checkin_by_city/part-* checkin_by_city_results.csv"
   ]
  },
  {
   "cell_type": "code",
   "execution_count": 256,
   "metadata": {
    "ExecuteTime": {
     "end_time": "2017-01-15T21:49:41.441070",
     "start_time": "2017-01-15T21:49:41.286889"
    },
    "collapsed": false
   },
   "outputs": [
    {
     "name": "stdout",
     "output_type": "stream",
     "text": [
      "(365, 169) 169\n"
     ]
    },
    {
     "data": {
      "text/html": [
       "<div>\n",
       "<table border=\"1\" class=\"dataframe\">\n",
       "  <thead>\n",
       "    <tr style=\"text-align: right;\">\n",
       "      <th></th>\n",
       "      <th>city</th>\n",
       "      <th>0-0</th>\n",
       "      <th>1-0</th>\n",
       "      <th>2-0</th>\n",
       "      <th>3-0</th>\n",
       "      <th>4-0</th>\n",
       "      <th>5-0</th>\n",
       "      <th>6-0</th>\n",
       "      <th>7-0</th>\n",
       "      <th>8-0</th>\n",
       "      <th>...</th>\n",
       "      <th>14-6</th>\n",
       "      <th>15-6</th>\n",
       "      <th>16-6</th>\n",
       "      <th>17-6</th>\n",
       "      <th>18-6</th>\n",
       "      <th>19-6</th>\n",
       "      <th>20-6</th>\n",
       "      <th>21-6</th>\n",
       "      <th>22-6</th>\n",
       "      <th>23-6</th>\n",
       "    </tr>\n",
       "  </thead>\n",
       "  <tbody>\n",
       "    <tr>\n",
       "      <th>0</th>\n",
       "      <td>/EDH</td>\n",
       "      <td>0.0</td>\n",
       "      <td>0.0</td>\n",
       "      <td>0.0</td>\n",
       "      <td>0.0</td>\n",
       "      <td>0.0</td>\n",
       "      <td>0.000000</td>\n",
       "      <td>0.000000</td>\n",
       "      <td>0.000000</td>\n",
       "      <td>0.0</td>\n",
       "      <td>...</td>\n",
       "      <td>0.000000</td>\n",
       "      <td>0.000000</td>\n",
       "      <td>0.0</td>\n",
       "      <td>0.0</td>\n",
       "      <td>0.0</td>\n",
       "      <td>0.0</td>\n",
       "      <td>0.0</td>\n",
       "      <td>0.000000</td>\n",
       "      <td>0.000000</td>\n",
       "      <td>0.0</td>\n",
       "    </tr>\n",
       "    <tr>\n",
       "      <th>1</th>\n",
       "      <td>110 Las Vegas/NV</td>\n",
       "      <td>0.0</td>\n",
       "      <td>0.0</td>\n",
       "      <td>0.0</td>\n",
       "      <td>0.0</td>\n",
       "      <td>0.0</td>\n",
       "      <td>0.000000</td>\n",
       "      <td>0.000000</td>\n",
       "      <td>0.000000</td>\n",
       "      <td>0.0</td>\n",
       "      <td>...</td>\n",
       "      <td>0.000000</td>\n",
       "      <td>0.000000</td>\n",
       "      <td>0.0</td>\n",
       "      <td>0.0</td>\n",
       "      <td>0.0</td>\n",
       "      <td>0.0</td>\n",
       "      <td>0.0</td>\n",
       "      <td>0.000000</td>\n",
       "      <td>0.000000</td>\n",
       "      <td>0.0</td>\n",
       "    </tr>\n",
       "    <tr>\n",
       "      <th>2</th>\n",
       "      <td>Ahwatukee Foothills Village/AZ</td>\n",
       "      <td>0.0</td>\n",
       "      <td>0.0</td>\n",
       "      <td>0.0</td>\n",
       "      <td>0.0</td>\n",
       "      <td>0.0</td>\n",
       "      <td>0.000000</td>\n",
       "      <td>0.000000</td>\n",
       "      <td>0.000000</td>\n",
       "      <td>0.0</td>\n",
       "      <td>...</td>\n",
       "      <td>0.000000</td>\n",
       "      <td>0.000000</td>\n",
       "      <td>0.0</td>\n",
       "      <td>0.0</td>\n",
       "      <td>0.0</td>\n",
       "      <td>0.0</td>\n",
       "      <td>0.0</td>\n",
       "      <td>0.000000</td>\n",
       "      <td>0.000000</td>\n",
       "      <td>0.0</td>\n",
       "    </tr>\n",
       "    <tr>\n",
       "      <th>3</th>\n",
       "      <td>Ahwatukee/AZ</td>\n",
       "      <td>0.0</td>\n",
       "      <td>0.0</td>\n",
       "      <td>0.0</td>\n",
       "      <td>0.0</td>\n",
       "      <td>0.0</td>\n",
       "      <td>0.090909</td>\n",
       "      <td>0.272727</td>\n",
       "      <td>0.090909</td>\n",
       "      <td>0.0</td>\n",
       "      <td>...</td>\n",
       "      <td>0.727273</td>\n",
       "      <td>0.545455</td>\n",
       "      <td>0.0</td>\n",
       "      <td>0.0</td>\n",
       "      <td>0.0</td>\n",
       "      <td>0.0</td>\n",
       "      <td>0.0</td>\n",
       "      <td>0.181818</td>\n",
       "      <td>0.272727</td>\n",
       "      <td>0.0</td>\n",
       "    </tr>\n",
       "    <tr>\n",
       "      <th>4</th>\n",
       "      <td>Allegheny/PA</td>\n",
       "      <td>0.0</td>\n",
       "      <td>1.0</td>\n",
       "      <td>0.0</td>\n",
       "      <td>0.0</td>\n",
       "      <td>0.0</td>\n",
       "      <td>0.000000</td>\n",
       "      <td>0.000000</td>\n",
       "      <td>0.000000</td>\n",
       "      <td>0.0</td>\n",
       "      <td>...</td>\n",
       "      <td>0.000000</td>\n",
       "      <td>0.000000</td>\n",
       "      <td>0.0</td>\n",
       "      <td>0.0</td>\n",
       "      <td>0.0</td>\n",
       "      <td>0.0</td>\n",
       "      <td>0.0</td>\n",
       "      <td>0.000000</td>\n",
       "      <td>0.000000</td>\n",
       "      <td>0.0</td>\n",
       "    </tr>\n",
       "  </tbody>\n",
       "</table>\n",
       "<p>5 rows × 169 columns</p>\n",
       "</div>"
      ],
      "text/plain": [
       "                             city  0-0  1-0  2-0  3-0  4-0       5-0  \\\n",
       "0                            /EDH  0.0  0.0  0.0  0.0  0.0  0.000000   \n",
       "1                110 Las Vegas/NV  0.0  0.0  0.0  0.0  0.0  0.000000   \n",
       "2  Ahwatukee Foothills Village/AZ  0.0  0.0  0.0  0.0  0.0  0.000000   \n",
       "3                    Ahwatukee/AZ  0.0  0.0  0.0  0.0  0.0  0.090909   \n",
       "4                    Allegheny/PA  0.0  1.0  0.0  0.0  0.0  0.000000   \n",
       "\n",
       "        6-0       7-0  8-0  ...       14-6      15-6  16-6  17-6  18-6  19-6  \\\n",
       "0  0.000000  0.000000  0.0  ...   0.000000  0.000000   0.0   0.0   0.0   0.0   \n",
       "1  0.000000  0.000000  0.0  ...   0.000000  0.000000   0.0   0.0   0.0   0.0   \n",
       "2  0.000000  0.000000  0.0  ...   0.000000  0.000000   0.0   0.0   0.0   0.0   \n",
       "3  0.272727  0.090909  0.0  ...   0.727273  0.545455   0.0   0.0   0.0   0.0   \n",
       "4  0.000000  0.000000  0.0  ...   0.000000  0.000000   0.0   0.0   0.0   0.0   \n",
       "\n",
       "   20-6      21-6      22-6  23-6  \n",
       "0   0.0  0.000000  0.000000   0.0  \n",
       "1   0.0  0.000000  0.000000   0.0  \n",
       "2   0.0  0.000000  0.000000   0.0  \n",
       "3   0.0  0.181818  0.272727   0.0  \n",
       "4   0.0  0.000000  0.000000   0.0  \n",
       "\n",
       "[5 rows x 169 columns]"
      ]
     },
     "execution_count": 256,
     "metadata": {},
     "output_type": "execute_result"
    }
   ],
   "source": [
    "import pandas as pd\n",
    "hdr = ['city'] + [ '%d-%d'%(h, d) for d in range(7) for h in range(24)]\n",
    "df = pd.read_table('checkin_by_city_results.csv', delimiter='|', header=None, names=hdr)\n",
    "print df.shape, len(hdr)\n",
    "df.head()"
   ]
  },
  {
   "cell_type": "code",
   "execution_count": 268,
   "metadata": {
    "ExecuteTime": {
     "end_time": "2017-01-16T00:00:48.506494",
     "start_time": "2017-01-16T00:00:47.245229"
    },
    "collapsed": false,
    "scrolled": true
   },
   "outputs": [
    {
     "data": {
      "image/png": "[encoded data removed]",
      "text/plain": [
       "<matplotlib.figure.Figure at 0x575ff90>"
      ]
     },
     "metadata": {},
     "output_type": "display_data"
    },
    {
     "data": {
      "image/png": "[encoded data removed]",
      "text/plain": [
       "<matplotlib.figure.Figure at 0x8028990>"
      ]
     },
     "metadata": {},
     "output_type": "display_data"
    },
    {
     "data": {
      "image/png": "[encoded data removed]",
      "text/plain": [
       "<matplotlib.figure.Figure at 0x8028c10>"
      ]
     },
     "metadata": {},
     "output_type": "display_data"
    },
    {
     "data": {
      "image/png": "[encoded data removed]",
      "text/plain": [
       "<matplotlib.figure.Figure at 0x850d210>"
      ]
     },
     "metadata": {},
     "output_type": "display_data"
    },
    {
     "data": {
      "image/png": "[encoded data removed]",
      "text/plain": [
       "<matplotlib.figure.Figure at 0x850d0d0>"
      ]
     },
     "metadata": {},
     "output_type": "display_data"
    },
    {
     "data": {
      "image/png": "[encoded data removed]",
      "text/plain": [
       "<matplotlib.figure.Figure at 0x8521e90>"
      ]
     },
     "metadata": {},
     "output_type": "display_data"
    }
   ],
   "source": [
    "%matplotlib inline\n",
    "import matplotlib.pyplot as plt\n",
    "plt.figure(figsize=(20,4))\n",
    "cities = ['Las Vegas/NV', 'Phoenix/AZ', 'Charlotte/NC', 'Scottsdale/AZ', 'Pittsburgh/PA']\n",
    "for c in cities:\n",
    "    subdf = df[df.city==c].copy().unstack()\n",
    "    points = list(subdf.values[1:])    \n",
    "    plt.step(range(len(points)), points, label=c)\n",
    "    plt.title(\"Average Checkins by Hours by Day\")\n",
    "plt.legend()\n",
    "plt.show()\n",
    "for c in cities:\n",
    "    subdf = df[df.city==c].copy().unstack()\n",
    "    plt.figure(figsize=(20,4))\n",
    "    points = list(subdf.values[1:])    \n",
    "    plt.step(range(len(points)), points)\n",
    "    plt.title(c)\n",
    "    plt.show()\n"
   ]
  },
  {
   "cell_type": "markdown",
   "metadata": {},
   "source": [
    "# Run\n",
    "\n",
    "2. Write a sentiment analysis script in Python, and use MapReduce to apply to the Yelp reviews. **Run faster:** Produce a table with 'Sentiment' and 'Rating' from Yelp reviews."
   ]
  }
 ],
 "metadata": {
  "celltoolbar": "Initialisation Cell",
  "hide_input": false,
  "kernelspec": {
   "display_name": "Python 2",
   "language": "python",
   "name": "python2"
  },
  "language_info": {
   "codemirror_mode": {
    "name": "ipython",
    "version": 2
   },
   "file_extension": ".py",
   "mimetype": "text/x-python",
   "name": "python",
   "nbconvert_exporter": "python",
   "pygments_lexer": "ipython2",
   "version": "2.7.5"
  },
  "toc": {
   "nav_menu": {
    "height": "12px",
    "width": "252px"
   },
   "navigate_menu": true,
   "number_sections": true,
   "sideBar": true,
   "threshold": 4,
   "toc_cell": false,
   "toc_position": {
    "height": "987px",
    "left": "0px",
    "right": "1500px",
    "top": "107px",
    "width": "220px"
   },
   "toc_section_display": "block",
   "toc_window_display": true
  }
 },
 "nbformat": 4,
 "nbformat_minor": 0
}
