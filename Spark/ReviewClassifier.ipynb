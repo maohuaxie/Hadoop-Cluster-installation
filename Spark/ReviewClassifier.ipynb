{
 "cells": [
  {
   "cell_type": "markdown",
   "metadata": {},
   "source": [
    "<div style=\"font-size: 200%; font-weight: bold; color: gray; padding-bottom: 20px\">Review Classifier</div>\n",
    "- The review dataset holds the text of the customer reviews and their star rating. \n",
    "- Can we build a model that could predict the star rating based on the reviewer text?\n",
    "\n",
    "# Idea\n",
    "- Certain words might be more likely used in a negative review (1 Star) than in a positive review(5 Stars). And the other way around.\n",
    "- That means: the occurrence of a word entails a certain likelihood for this review to be bad, and a certain likelihood to be good.\n",
    "- If we assume that all the words are probabilistically independent we could actually make predictions based on the joint probability of all the words in the review text.\n",
    "\n",
    "\n",
    "# Preparation\n",
    "- In order to obtain the probability of a word to appear in a given star rated review, $P(word \\;|\\; rating=s)$,  we need to create a table of words and the star rating of the review where they appeared. (We only count a word once per review...even if it occurs multiple times.)\n",
    "- We can use MapReduce to create the desired table. Then continue in Hive to compute those probabilities.\n",
    "\n",
    "# Predicting stars\n",
    "- Let's assume we have a review that contains a certain number of words $W = \\{w_1, w_2, ..., w_n\\}$\n",
    "- The likelihood that this review would receive a rating $s$ would be \n",
    "\n",
    "$$\n",
    "P(rating=s\\;|\\;W) = \\Pi_{w \\in W} P(w\\;|\\;rating=s)\n",
    "$$\n",
    "\n",
    "Our prediction would be \n",
    "\n",
    "$$\n",
    "argmax_{s \\in \\{1...5\\}}\\{P(rating=s\\;|\\;W)\\}\n",
    "$$\n",
    "... machine learning in SQL\n",
    "... What's the name of this classifier?\n",
    "\n",
    "# Caveats\n",
    "Well this sounds pretty good...but\n",
    "- SQL doesn't have a product aggregation.\n",
    "- What to do with words that never appeared in some star ratings?\n",
    "\n",
    "# Hints\n",
    "- http://www.joefkelley.com/736/\n",
    "\n",
    "\n",
    "# Reading\n",
    "1. Chapter 6 of [Fundamentals of Machine Learning for Predictive Data Analytics](https://mitpress.mit.edu/books/fundamentals-machine-learning-predictive-data-analytics)\n",
    "    1. [Chapter 6 Slides 'A'](http://131.96.197.204/~pmolnar/mlbook/BookSlides_6A_Probability-based_Learning.pdf) \n",
    "    3. [Chapter 6 Slides 'B'](http://131.96.197.204/~pmolnar/mlbook/BookSlides_6B_Probability-based_Learning.pdf) "
   ]
  }
 ],
 "metadata": {
  "hide_input": false,
  "kernelspec": {
   "display_name": "Python 2",
   "language": "python",
   "name": "python2"
  },
  "language_info": {
   "codemirror_mode": {
    "name": "ipython",
    "version": 2
   },
   "file_extension": ".py",
   "mimetype": "text/x-python",
   "name": "python",
   "nbconvert_exporter": "python",
   "pygments_lexer": "ipython2",
   "version": "2.7.5"
  },
  "toc": {
   "nav_menu": {
    "height": "105px",
    "width": "252px"
   },
   "navigate_menu": true,
   "number_sections": true,
   "sideBar": true,
   "threshold": 4,
   "toc_cell": false,
   "toc_section_display": "block",
   "toc_window_display": false
  }
 },
 "nbformat": 4,
 "nbformat_minor": 0
}
